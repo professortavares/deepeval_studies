{
 "cells": [
  {
   "cell_type": "markdown",
   "id": "cd054154-dcac-4cf2-bd25-92836193073d",
   "metadata": {},
   "source": [
    "# Implementation of the MMLU objective assessment method\n",
    "## 2-Shot (2 examples - 1 question)\n",
    "\n",
    "- Based on the code: https://github.com/hendrycks/test\n",
    "- Database: https://people.eecs.berkeley.edu/~hendrycks/data.tar\n",
    "- Paper: Measuring Massive Multitask Language Understanding (https://arxiv.org/abs/2009.03300)"
   ]
  },
  {
   "cell_type": "code",
   "execution_count": 1,
   "id": "7639b952-5b05-44ba-a957-e75ea2e8d723",
   "metadata": {},
   "outputs": [],
   "source": [
    "from langchain_openai import ChatOpenAI\n",
    "from langchain.schema import HumanMessage\n",
    "import os\n",
    "import pandas as pd\n",
    "from dotenv import load_dotenv\n",
    "import time\n",
    "from tqdm import tqdm\n",
    "\n",
    "from IPython.display import display, Markdown\n",
    "from reuse import gen_prompt, format_example"
   ]
  },
  {
   "cell_type": "markdown",
   "id": "1f168c13-5a48-47e4-93fb-9a784d471ef4",
   "metadata": {},
   "source": [
    "## Setup"
   ]
  },
  {
   "cell_type": "code",
   "execution_count": 2,
   "id": "e1681882-cd01-4c5f-9666-38bfb7deaac1",
   "metadata": {},
   "outputs": [],
   "source": [
    "load_dotenv('../../.env')\n",
    "pd.set_option('display.max_colwidth', None)\n",
    "\n",
    "os.environ[\"OPENAI_API_KEY\"] = os.getenv(\"OPENAI_API_KEY\")"
   ]
  },
  {
   "cell_type": "markdown",
   "id": "730479e2-140e-41cd-8dcd-bd29a7e1811d",
   "metadata": {},
   "source": [
    "## Reading the Q&A database for assessment"
   ]
  },
  {
   "cell_type": "code",
   "execution_count": 3,
   "id": "116c95ce-8108-4f97-8f1c-00d8aef694bb",
   "metadata": {},
   "outputs": [
    {
     "name": "stdout",
     "output_type": "stream",
     "text": [
      "(14, 6)\n"
     ]
    },
    {
     "data": {
      "text/html": [
       "<div>\n",
       "<style scoped>\n",
       "    .dataframe tbody tr th:only-of-type {\n",
       "        vertical-align: middle;\n",
       "    }\n",
       "\n",
       "    .dataframe tbody tr th {\n",
       "        vertical-align: top;\n",
       "    }\n",
       "\n",
       "    .dataframe thead th {\n",
       "        text-align: right;\n",
       "    }\n",
       "</style>\n",
       "<table border=\"1\" class=\"dataframe\">\n",
       "  <thead>\n",
       "    <tr style=\"text-align: right;\">\n",
       "      <th></th>\n",
       "      <th>0</th>\n",
       "      <th>1</th>\n",
       "      <th>2</th>\n",
       "      <th>3</th>\n",
       "      <th>4</th>\n",
       "      <th>5</th>\n",
       "    </tr>\n",
       "  </thead>\n",
       "  <tbody>\n",
       "    <tr>\n",
       "      <th>0</th>\n",
       "      <td>Which of the following terms describes the body's ability to maintain its normal state?</td>\n",
       "      <td>Anabolism</td>\n",
       "      <td>Catabolism</td>\n",
       "      <td>Tolerance</td>\n",
       "      <td>Homeostasis</td>\n",
       "      <td>D</td>\n",
       "    </tr>\n",
       "    <tr>\n",
       "      <th>1</th>\n",
       "      <td>Which of the following structures travel through the substance of the parotid gland?</td>\n",
       "      <td>The maxillary artery</td>\n",
       "      <td>The maxillary artery and retromandibular vein</td>\n",
       "      <td>The maxillary artery, retromandibular vein and facial artery</td>\n",
       "      <td>The maxillary artery, retromandibular vein, facial artery and buccal branch of the mandibular nerve</td>\n",
       "      <td>B</td>\n",
       "    </tr>\n",
       "    <tr>\n",
       "      <th>2</th>\n",
       "      <td>A medical practitioner places a stethoscope over the patient's seventh right intercostal space in the mid-axillary line. The stethoscope overlies the</td>\n",
       "      <td>upper lobe of the lung.</td>\n",
       "      <td>middle lobe of the lung.</td>\n",
       "      <td>lower lobe of the lung.</td>\n",
       "      <td>costo-diaphragmatic recess.</td>\n",
       "      <td>C</td>\n",
       "    </tr>\n",
       "    <tr>\n",
       "      <th>3</th>\n",
       "      <td>The maxillary sinus</td>\n",
       "      <td>is lined by stratified squamous epithelium.</td>\n",
       "      <td>drains into the superior meatus of the nasal cavities.</td>\n",
       "      <td>is innervated by branches of the maxillary division of the trigeminal nerve.</td>\n",
       "      <td>Receives its blood supply from the first part of the maxillary artery.</td>\n",
       "      <td>C</td>\n",
       "    </tr>\n",
       "    <tr>\n",
       "      <th>4</th>\n",
       "      <td>Which of the following is flexible connective tissue that is attached to bones at the joints?</td>\n",
       "      <td>Adipose</td>\n",
       "      <td>Cartilage</td>\n",
       "      <td>Epithelial</td>\n",
       "      <td>Muscle</td>\n",
       "      <td>B</td>\n",
       "    </tr>\n",
       "  </tbody>\n",
       "</table>\n",
       "</div>"
      ],
      "text/plain": [
       "                                                                                                                                                       0  \\\n",
       "0                                                                Which of the following terms describes the body's ability to maintain its normal state?   \n",
       "1                                                                   Which of the following structures travel through the substance of the parotid gland?   \n",
       "2  A medical practitioner places a stethoscope over the patient's seventh right intercostal space in the mid-axillary line. The stethoscope overlies the   \n",
       "3                                                                                                                                    The maxillary sinus   \n",
       "4                                                          Which of the following is flexible connective tissue that is attached to bones at the joints?   \n",
       "\n",
       "                                             1  \\\n",
       "0                                    Anabolism   \n",
       "1                         The maxillary artery   \n",
       "2                      upper lobe of the lung.   \n",
       "3  is lined by stratified squamous epithelium.   \n",
       "4                                      Adipose   \n",
       "\n",
       "                                                        2  \\\n",
       "0                                              Catabolism   \n",
       "1           The maxillary artery and retromandibular vein   \n",
       "2                                middle lobe of the lung.   \n",
       "3  drains into the superior meatus of the nasal cavities.   \n",
       "4                                               Cartilage   \n",
       "\n",
       "                                                                              3  \\\n",
       "0                                                                     Tolerance   \n",
       "1                  The maxillary artery, retromandibular vein and facial artery   \n",
       "2                                                       lower lobe of the lung.   \n",
       "3  is innervated by branches of the maxillary division of the trigeminal nerve.   \n",
       "4                                                                    Epithelial   \n",
       "\n",
       "                                                                                                     4  \\\n",
       "0                                                                                          Homeostasis   \n",
       "1  The maxillary artery, retromandibular vein, facial artery and buccal branch of the mandibular nerve   \n",
       "2                                                                          costo-diaphragmatic recess.   \n",
       "3                               Receives its blood supply from the first part of the maxillary artery.   \n",
       "4                                                                                               Muscle   \n",
       "\n",
       "   5  \n",
       "0  D  \n",
       "1  B  \n",
       "2  C  \n",
       "3  C  \n",
       "4  B  "
      ]
     },
     "execution_count": 3,
     "metadata": {},
     "output_type": "execute_result"
    }
   ],
   "source": [
    "df_val = pd.read_csv('../../data/mmlu/anatomy_val.csv', header=None)\n",
    "print(df_val.shape)\n",
    "df_val.head(5)"
   ]
  },
  {
   "cell_type": "code",
   "execution_count": 4,
   "id": "a5b64bb3-3cc3-4038-a9bb-6a6a65a5d7f2",
   "metadata": {},
   "outputs": [
    {
     "name": "stdout",
     "output_type": "stream",
     "text": [
      "(135, 6)\n"
     ]
    },
    {
     "data": {
      "text/html": [
       "<div>\n",
       "<style scoped>\n",
       "    .dataframe tbody tr th:only-of-type {\n",
       "        vertical-align: middle;\n",
       "    }\n",
       "\n",
       "    .dataframe tbody tr th {\n",
       "        vertical-align: top;\n",
       "    }\n",
       "\n",
       "    .dataframe thead th {\n",
       "        text-align: right;\n",
       "    }\n",
       "</style>\n",
       "<table border=\"1\" class=\"dataframe\">\n",
       "  <thead>\n",
       "    <tr style=\"text-align: right;\">\n",
       "      <th></th>\n",
       "      <th>0</th>\n",
       "      <th>1</th>\n",
       "      <th>2</th>\n",
       "      <th>3</th>\n",
       "      <th>4</th>\n",
       "      <th>5</th>\n",
       "    </tr>\n",
       "  </thead>\n",
       "  <tbody>\n",
       "    <tr>\n",
       "      <th>0</th>\n",
       "      <td>A lesion causing compression of the facial nerve at the stylomastoid foramen will cause ipsilateral</td>\n",
       "      <td>paralysis of the facial muscles.</td>\n",
       "      <td>paralysis of the facial muscles and loss of taste.</td>\n",
       "      <td>paralysis of the facial muscles, loss of taste and lacrimation.</td>\n",
       "      <td>paralysis of the facial muscles, loss of taste, lacrimation and decreased salivation.</td>\n",
       "      <td>A</td>\n",
       "    </tr>\n",
       "    <tr>\n",
       "      <th>1</th>\n",
       "      <td>A \"dished face\" profile is often associated with</td>\n",
       "      <td>a protruding mandible due to reactivation of the condylar cartilage by acromegaly.</td>\n",
       "      <td>a recessive maxilla due to failure of elongation of the cranial base.</td>\n",
       "      <td>an enlarged frontal bone due to hydrocephaly.</td>\n",
       "      <td>defective development of the maxillary air sinus.</td>\n",
       "      <td>B</td>\n",
       "    </tr>\n",
       "    <tr>\n",
       "      <th>2</th>\n",
       "      <td>Which of the following best describes the structure that collects urine in the body?</td>\n",
       "      <td>Bladder</td>\n",
       "      <td>Kidney</td>\n",
       "      <td>Ureter</td>\n",
       "      <td>Urethra</td>\n",
       "      <td>A</td>\n",
       "    </tr>\n",
       "    <tr>\n",
       "      <th>3</th>\n",
       "      <td>Which of the following structures is derived from ectomesenchyme?</td>\n",
       "      <td>Motor neurons</td>\n",
       "      <td>Skeletal muscles</td>\n",
       "      <td>Melanocytes</td>\n",
       "      <td>Sweat glands</td>\n",
       "      <td>C</td>\n",
       "    </tr>\n",
       "    <tr>\n",
       "      <th>4</th>\n",
       "      <td>Which of the following describes the cluster of blood capillaries found in each nephron in the kidney?</td>\n",
       "      <td>Afferent arteriole</td>\n",
       "      <td>Glomerulus</td>\n",
       "      <td>Loop of Henle</td>\n",
       "      <td>Renal pelvis</td>\n",
       "      <td>B</td>\n",
       "    </tr>\n",
       "  </tbody>\n",
       "</table>\n",
       "</div>"
      ],
      "text/plain": [
       "                                                                                                        0  \\\n",
       "0     A lesion causing compression of the facial nerve at the stylomastoid foramen will cause ipsilateral   \n",
       "1                                                        A \"dished face\" profile is often associated with   \n",
       "2                    Which of the following best describes the structure that collects urine in the body?   \n",
       "3                                       Which of the following structures is derived from ectomesenchyme?   \n",
       "4  Which of the following describes the cluster of blood capillaries found in each nephron in the kidney?   \n",
       "\n",
       "                                                                                    1  \\\n",
       "0                                                    paralysis of the facial muscles.   \n",
       "1  a protruding mandible due to reactivation of the condylar cartilage by acromegaly.   \n",
       "2                                                                             Bladder   \n",
       "3                                                                       Motor neurons   \n",
       "4                                                                  Afferent arteriole   \n",
       "\n",
       "                                                                       2  \\\n",
       "0                     paralysis of the facial muscles and loss of taste.   \n",
       "1  a recessive maxilla due to failure of elongation of the cranial base.   \n",
       "2                                                                 Kidney   \n",
       "3                                                       Skeletal muscles   \n",
       "4                                                             Glomerulus   \n",
       "\n",
       "                                                                 3  \\\n",
       "0  paralysis of the facial muscles, loss of taste and lacrimation.   \n",
       "1                    an enlarged frontal bone due to hydrocephaly.   \n",
       "2                                                           Ureter   \n",
       "3                                                      Melanocytes   \n",
       "4                                                    Loop of Henle   \n",
       "\n",
       "                                                                                       4  \\\n",
       "0  paralysis of the facial muscles, loss of taste, lacrimation and decreased salivation.   \n",
       "1                                      defective development of the maxillary air sinus.   \n",
       "2                                                                                Urethra   \n",
       "3                                                                           Sweat glands   \n",
       "4                                                                           Renal pelvis   \n",
       "\n",
       "   5  \n",
       "0  A  \n",
       "1  B  \n",
       "2  A  \n",
       "3  C  \n",
       "4  B  "
      ]
     },
     "execution_count": 4,
     "metadata": {},
     "output_type": "execute_result"
    }
   ],
   "source": [
    "df_test = pd.read_csv('../../data/mmlu/anatomy_test.csv', header=None)\n",
    "print(df_test.shape)\n",
    "df_test.head(5)"
   ]
  },
  {
   "cell_type": "markdown",
   "id": "7118af23-934a-4ee1-b67e-ae86d444de92",
   "metadata": {},
   "source": [
    "## Testing..."
   ]
  },
  {
   "cell_type": "code",
   "execution_count": 5,
   "id": "41c066a9-1380-4315-9145-c98d291b85b3",
   "metadata": {},
   "outputs": [
    {
     "data": {
      "text/markdown": [
       "The following are multiple choice questions (with answers) about  anatomy.\n",
       "\n",
       "Follow the answer instructions strictly, and answer only with the letter corresponding to the correct answer: Which of the following terms describes the body's ability to maintain its normal state?\n",
       "A. Anabolism\n",
       "B. Catabolism\n",
       "C. Tolerance\n",
       "D. Homeostasis\n",
       " - Answer: D\n",
       "\n",
       "Follow the answer instructions strictly, and answer only with the letter corresponding to the correct answer: Which of the following structures travel through the substance of the parotid gland?\n",
       "A. The maxillary artery\n",
       "B. The maxillary artery and retromandibular vein\n",
       "C. The maxillary artery, retromandibular vein and facial artery\n",
       "D. The maxillary artery, retromandibular vein, facial artery and buccal branch of the mandibular nerve\n",
       " - Answer: B\n",
       "\n",
       "Follow the answer instructions strictly, and answer only with the letter corresponding to the correct answer: Which of the following describes the cluster of blood capillaries found in each nephron in the kidney?\n",
       "A. Afferent arteriole\n",
       "B. Glomerulus\n",
       "C. Loop of Henle\n",
       "D. Renal pelvis\n",
       " - Answer:"
      ],
      "text/plain": [
       "<IPython.core.display.Markdown object>"
      ]
     },
     "metadata": {},
     "output_type": "display_data"
    }
   ],
   "source": [
    "prompt_end = format_example(df_test, 4, include_answer=False)\n",
    "train_prompt = gen_prompt(df_val, 'anatomy', 2)\n",
    "prompt = train_prompt + prompt_end\n",
    "\n",
    "display(Markdown(prompt))"
   ]
  },
  {
   "cell_type": "code",
   "execution_count": 6,
   "id": "849c17df-3e54-4816-9b4b-988c2a1a3a32",
   "metadata": {},
   "outputs": [
    {
     "name": "stdout",
     "output_type": "stream",
     "text": [
      "B\n"
     ]
    }
   ],
   "source": [
    "llm = ChatOpenAI(model=\"gpt-4o-mini\",\n",
    "    temperature=0,\n",
    "    max_tokens=1,\n",
    "    max_retries=2,\n",
    ")\n",
    "\n",
    "messages = [\n",
    "    HumanMessage(content=prompt)\n",
    "]\n",
    "response = llm.invoke(messages)\n",
    "print(response.content)"
   ]
  },
  {
   "cell_type": "markdown",
   "id": "3b45ee49-4870-4385-9fd6-9c8f5bfd40f6",
   "metadata": {},
   "source": [
    "## Evaluating..."
   ]
  },
  {
   "cell_type": "code",
   "execution_count": 7,
   "id": "9f1198f6-6342-406c-a234-622a6bc43fa7",
   "metadata": {},
   "outputs": [
    {
     "name": "stderr",
     "output_type": "stream",
     "text": [
      "100%|██████████████████████████████████████████████████████████████████████████████████████████████████████████████████████████████████████████████████████████████████████████████████████████████| 20/20 [00:28<00:00,  1.44s/it]\n"
     ]
    }
   ],
   "source": [
    "answers = []\n",
    "for q in tqdm(range(35, 55)):\n",
    "    prompt_end = format_example(df_test, q, include_answer=False)\n",
    "    train_prompt = gen_prompt(df_val, 'anatomy', 2)\n",
    "    prompt = train_prompt + prompt_end\n",
    "\n",
    "    messages = [\n",
    "        HumanMessage(content=prompt)\n",
    "    ]\n",
    "    response = llm.invoke(messages)\n",
    "    answers.append(response.content)\n",
    "    time.sleep(1)"
   ]
  },
  {
   "cell_type": "code",
   "execution_count": 8,
   "id": "fed9d077-a59c-42b4-bc35-90ea61570891",
   "metadata": {},
   "outputs": [
    {
     "data": {
      "text/plain": [
       "['C', 'D', 'C', 'D', 'C', 'C', 'C', 'B', 'C', 'A']"
      ]
     },
     "execution_count": 8,
     "metadata": {},
     "output_type": "execute_result"
    }
   ],
   "source": [
    "answers[0:10]"
   ]
  },
  {
   "cell_type": "code",
   "execution_count": 9,
   "id": "2ee437c0-4a87-4b0c-aa09-dd08c2d6763f",
   "metadata": {},
   "outputs": [
    {
     "data": {
      "text/plain": [
       "['C', 'D', 'C', 'D', 'C', 'C', 'C', 'B', 'C', 'A']"
      ]
     },
     "execution_count": 9,
     "metadata": {},
     "output_type": "execute_result"
    }
   ],
   "source": [
    "last_col = df_test.columns[-1]\n",
    "real_answers = df_test.loc[35:55, last_col].tolist()\n",
    "real_answers[0:10]"
   ]
  },
  {
   "cell_type": "code",
   "execution_count": 10,
   "id": "d66ae814-d617-4028-a9b4-eca67cb92679",
   "metadata": {},
   "outputs": [
    {
     "name": "stdout",
     "output_type": "stream",
     "text": [
      "Grade: 20 in 20\n"
     ]
    }
   ],
   "source": [
    "cont = sum(1 for x, y in zip(answers, real_answers) if x == y)\n",
    "print(f\"Grade: {cont} in 20\")"
   ]
  },
  {
   "cell_type": "code",
   "execution_count": null,
   "id": "a5b2a18f-233f-48c7-a918-94275280ba26",
   "metadata": {},
   "outputs": [],
   "source": []
  },
  {
   "cell_type": "code",
   "execution_count": null,
   "id": "74c1bdd8-0b21-4362-9417-4dd5f5baac6a",
   "metadata": {},
   "outputs": [],
   "source": []
  }
 ],
 "metadata": {
  "kernelspec": {
   "display_name": "Python 3 (ipykernel)",
   "language": "python",
   "name": "python3"
  },
  "language_info": {
   "codemirror_mode": {
    "name": "ipython",
    "version": 3
   },
   "file_extension": ".py",
   "mimetype": "text/x-python",
   "name": "python",
   "nbconvert_exporter": "python",
   "pygments_lexer": "ipython3",
   "version": "3.11.9"
  }
 },
 "nbformat": 4,
 "nbformat_minor": 5
}
