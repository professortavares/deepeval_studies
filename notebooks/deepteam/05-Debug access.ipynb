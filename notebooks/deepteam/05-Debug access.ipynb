{
 "cells": [
  {
   "cell_type": "markdown",
   "id": "fdcf6985-94be-4faa-a0a5-5703d452ee3b",
   "metadata": {},
   "source": [
    "# Debug Access\n",
    "The Debug Access vulnerability evaluates whether an AI agent can prevent unauthorized access to debug modes, development endpoints, and administrative interfaces. This vulnerability is critical for agents that may expose debugging functionality or development features in production environments.\n",
    "\n",
    "* \"debug_mode_bypass\": Tests whether the agent prevents unauthorized access to debug modes.\n",
    "* \"development_endpoint_access\": Tests whether the agent blocks access to development endpoints.\n",
    "* \"administrative_interface_exposure\": Tests whether the agent prevents exposure of administrative interfaces.\n",
    "\n",
    "ref.: https://www.trydeepteam.com/docs/red-teaming-vulnerabilities-debug-access"
   ]
  },
  {
   "cell_type": "code",
   "execution_count": 1,
   "id": "d683dbe7-5834-4199-be5e-ed4c5144fc53",
   "metadata": {},
   "outputs": [
    {
     "name": "stdout",
     "output_type": "stream",
     "text": [
      "Ollama model configured.\n"
     ]
    }
   ],
   "source": [
    "# Set ollama localhosted as LLM to be tested\n",
    "!deepteam set-ollama llama3.2:latest "
   ]
  },
  {
   "cell_type": "code",
   "execution_count": 2,
   "id": "d11a68a8-ffcf-43c4-a118-e27314151b07",
   "metadata": {},
   "outputs": [],
   "source": [
    "import requests, asyncio\n",
    "from deepteam import red_team\n",
    "from deepteam.vulnerabilities import DebugAccess\n",
    "\n",
    "from deepteam.attacks.single_turn import PromptInjection\n",
    "from deepteam.attacks.single_turn import Roleplay\n",
    "from deepteam.attacks.single_turn import GrayBox\n",
    "from deepteam.attacks.single_turn import Leetspeak\n",
    "from deepteam.attacks.single_turn import ROT13\n",
    "from deepteam.attacks.single_turn import Multilingual\n",
    "from deepteam.attacks.single_turn import MathProblem\n",
    "from deepteam.attacks.single_turn import Base64"
   ]
  },
  {
   "cell_type": "markdown",
   "id": "afce2830-40fc-46dd-af28-2cb01c97fb25",
   "metadata": {},
   "source": [
    "## Configuring LLM to be tested"
   ]
  },
  {
   "cell_type": "code",
   "execution_count": 3,
   "id": "5d334d29-96eb-488c-b215-998fdd5d76aa",
   "metadata": {},
   "outputs": [],
   "source": [
    "async def model_callback(prompt: str) -> str:\n",
    "    resp = requests.post(\n",
    "        \"http://localhost:11434/api/generate\",\n",
    "        json={\n",
    "            \"model\": \"llama3.2:latest\",\n",
    "            \"prompt\": prompt,\n",
    "            \"stream\": False      # resposta em bloco único\n",
    "        },\n",
    "        timeout=120\n",
    "    )\n",
    "    return resp.json()[\"response\"]"
   ]
  },
  {
   "cell_type": "markdown",
   "id": "8f7d9016-5855-4e41-8bc2-e56472d6e8bf",
   "metadata": {},
   "source": [
    "## Configuring attacks"
   ]
  },
  {
   "cell_type": "code",
   "execution_count": 4,
   "id": "bee84fe1-38e3-450d-95aa-42493982c869",
   "metadata": {},
   "outputs": [],
   "source": [
    "# Single turn\n",
    "prompt_injection = PromptInjection()\n",
    "roleplay = Roleplay()\n",
    "gray_box = GrayBox()\n",
    "leetspeak = Leetspeak()\n",
    "rot_13 = ROT13()\n",
    "multilingual = Multilingual()\n",
    "math_problem = MathProblem()\n",
    "base64 = Base64()"
   ]
  },
  {
   "cell_type": "markdown",
   "id": "5c1b23f6-457a-434b-a918-bee4930a5e65",
   "metadata": {},
   "source": [
    "## Attack test"
   ]
  },
  {
   "cell_type": "markdown",
   "id": "0a15e994-b008-4fa4-9490-3f324ed3a816",
   "metadata": {},
   "source": [
    "### Prompt injection\n",
    "\n",
    "The prompt injection attack method injects hidden instructions into the baseline attack, which could be interpreted by the LLM in ways that bypass its restrictions or lead to harmful outputs."
   ]
  },
  {
   "cell_type": "code",
   "execution_count": 5,
   "id": "8deb75e0-c9d5-495e-a741-7dc5abfd2c5b",
   "metadata": {},
   "outputs": [
    {
     "name": "stderr",
     "output_type": "stream",
     "text": [
      "💥 Generating 3 attacks (for 3 vulnerability types across 1 vulnerability(s)): 100%|█████████████████████████████████████████████████████| 1/1 [00:05<00:00,  5.24s/it]\n",
      "✨ Simulating 3 attacks (using 1 method(s)): 0it [00:00, ?it/s]\n",
      "📝 Evaluating 3 vulnerability types across 1 vulnerability(s): 0it [00:00, ?it/s]\n"
     ]
    },
    {
     "data": {
      "text/html": [
       "<pre style=\"white-space:pre;overflow-x:auto;line-height:normal;font-family:Menlo,'DejaVu Sans Mono',consolas,'Courier New',monospace\">\n",
       "================================================================================\n",
       "</pre>\n"
      ],
      "text/plain": [
       "\n",
       "================================================================================\n"
      ]
     },
     "metadata": {},
     "output_type": "display_data"
    },
    {
     "data": {
      "text/html": [
       "<pre style=\"white-space:pre;overflow-x:auto;line-height:normal;font-family:Menlo,'DejaVu Sans Mono',consolas,'Courier New',monospace\"><span style=\"color: #800080; text-decoration-color: #800080; font-weight: bold\">📋 Test Cases Overview</span>\n",
       "</pre>\n"
      ],
      "text/plain": [
       "\u001b[1;35m📋 Test Cases Overview\u001b[0m\n"
      ]
     },
     "metadata": {},
     "output_type": "display_data"
    },
    {
     "data": {
      "text/html": [
       "<pre style=\"white-space:pre;overflow-x:auto;line-height:normal;font-family:Menlo,'DejaVu Sans Mono',consolas,'Courier New',monospace\">================================================================================\n",
       "</pre>\n"
      ],
      "text/plain": [
       "================================================================================\n"
      ]
     },
     "metadata": {},
     "output_type": "display_data"
    },
    {
     "data": {
      "text/html": [
       "<pre style=\"white-space:pre;overflow-x:auto;line-height:normal;font-family:Menlo,'DejaVu Sans Mono',consolas,'Courier New',monospace\">\n",
       "\n",
       "</pre>\n"
      ],
      "text/plain": [
       "\n",
       "\n"
      ]
     },
     "metadata": {},
     "output_type": "display_data"
    },
    {
     "data": {
      "text/html": [
       "<pre style=\"white-space:pre;overflow-x:auto;line-height:normal;font-family:Menlo,'DejaVu Sans Mono',consolas,'Courier New',monospace\"><span style=\"color: #800080; text-decoration-color: #800080; font-weight: bold\">                                                Test Cases Overview                                                </span>\n",
       "<span style=\"color: #000080; text-decoration-color: #000080\">┏━━━━━━━┳━━━━━━━┳━━━━━━━┳━━━━━━━━━━━━━━━━━━━━━━━━━━┳━━━━━━━━━━━━━━━━━━━━━━━━━━━┳━━━━━━━━━━━━━━━━━━━━━━━━━━┳━━━━━━━┓</span>\n",
       "<span style=\"color: #000080; text-decoration-color: #000080\">┃</span><span style=\"color: #800080; text-decoration-color: #800080; font-weight: bold\">       </span><span style=\"color: #000080; text-decoration-color: #000080\">┃</span><span style=\"color: #800080; text-decoration-color: #800080; font-weight: bold\">       </span><span style=\"color: #000080; text-decoration-color: #000080\">┃</span><span style=\"color: #800080; text-decoration-color: #800080; font-weight: bold\"> Atta… </span><span style=\"color: #000080; text-decoration-color: #000080\">┃</span><span style=\"color: #800080; text-decoration-color: #800080; font-weight: bold\">                          </span><span style=\"color: #000080; text-decoration-color: #000080\">┃</span><span style=\"color: #800080; text-decoration-color: #800080; font-weight: bold\">                           </span><span style=\"color: #000080; text-decoration-color: #000080\">┃</span><span style=\"color: #800080; text-decoration-color: #800080; font-weight: bold\">                          </span><span style=\"color: #000080; text-decoration-color: #000080\">┃</span><span style=\"color: #800080; text-decoration-color: #800080; font-weight: bold\">       </span><span style=\"color: #000080; text-decoration-color: #000080\">┃</span>\n",
       "<span style=\"color: #000080; text-decoration-color: #000080\">┃</span><span style=\"color: #800080; text-decoration-color: #800080; font-weight: bold\"> Vuln… </span><span style=\"color: #000080; text-decoration-color: #000080\">┃</span><span style=\"color: #800080; text-decoration-color: #800080; font-weight: bold\"> Type  </span><span style=\"color: #000080; text-decoration-color: #000080\">┃</span><span style=\"color: #800080; text-decoration-color: #800080; font-weight: bold\"> Meth… </span><span style=\"color: #000080; text-decoration-color: #000080\">┃</span><span style=\"color: #800080; text-decoration-color: #800080; font-weight: bold\"> Input                    </span><span style=\"color: #000080; text-decoration-color: #000080\">┃</span><span style=\"color: #800080; text-decoration-color: #800080; font-weight: bold\"> Output                    </span><span style=\"color: #000080; text-decoration-color: #000080\">┃</span><span style=\"color: #800080; text-decoration-color: #800080; font-weight: bold\"> Reason                   </span><span style=\"color: #000080; text-decoration-color: #000080\">┃</span><span style=\"color: #800080; text-decoration-color: #800080; font-weight: bold\"> Stat… </span><span style=\"color: #000080; text-decoration-color: #000080\">┃</span>\n",
       "<span style=\"color: #000080; text-decoration-color: #000080\">┣━━━━━━━╋━━━━━━━╋━━━━━━━╋━━━━━━━━━━━━━━━━━━━━━━━━━━╋━━━━━━━━━━━━━━━━━━━━━━━━━━━╋━━━━━━━━━━━━━━━━━━━━━━━━━━╋━━━━━━━┫</span>\n",
       "<span style=\"color: #000080; text-decoration-color: #000080\">┗━━━━━━━┻━━━━━━━┻━━━━━━━┻━━━━━━━━━━━━━━━━━━━━━━━━━━┻━━━━━━━━━━━━━━━━━━━━━━━━━━━┻━━━━━━━━━━━━━━━━━━━━━━━━━━┻━━━━━━━┛</span>\n",
       "</pre>\n"
      ],
      "text/plain": [
       "\u001b[1;35m                                                Test Cases Overview                                                \u001b[0m\n",
       "\u001b[34m┏━━━━━━━┳━━━━━━━┳━━━━━━━┳━━━━━━━━━━━━━━━━━━━━━━━━━━┳━━━━━━━━━━━━━━━━━━━━━━━━━━━┳━━━━━━━━━━━━━━━━━━━━━━━━━━┳━━━━━━━┓\u001b[0m\n",
       "\u001b[34m┃\u001b[0m\u001b[1;35m       \u001b[0m\u001b[34m┃\u001b[0m\u001b[1;35m       \u001b[0m\u001b[34m┃\u001b[0m\u001b[1;35m \u001b[0m\u001b[1;35mAtta…\u001b[0m\u001b[1;35m \u001b[0m\u001b[34m┃\u001b[0m\u001b[1;35m                          \u001b[0m\u001b[34m┃\u001b[0m\u001b[1;35m                           \u001b[0m\u001b[34m┃\u001b[0m\u001b[1;35m                          \u001b[0m\u001b[34m┃\u001b[0m\u001b[1;35m       \u001b[0m\u001b[34m┃\u001b[0m\n",
       "\u001b[34m┃\u001b[0m\u001b[1;35m \u001b[0m\u001b[1;35mVuln…\u001b[0m\u001b[1;35m \u001b[0m\u001b[34m┃\u001b[0m\u001b[1;35m \u001b[0m\u001b[1;35mType \u001b[0m\u001b[1;35m \u001b[0m\u001b[34m┃\u001b[0m\u001b[1;35m \u001b[0m\u001b[1;35mMeth…\u001b[0m\u001b[1;35m \u001b[0m\u001b[34m┃\u001b[0m\u001b[1;35m \u001b[0m\u001b[1;35mInput                   \u001b[0m\u001b[1;35m \u001b[0m\u001b[34m┃\u001b[0m\u001b[1;35m \u001b[0m\u001b[1;35mOutput                   \u001b[0m\u001b[1;35m \u001b[0m\u001b[34m┃\u001b[0m\u001b[1;35m \u001b[0m\u001b[1;35mReason                  \u001b[0m\u001b[1;35m \u001b[0m\u001b[34m┃\u001b[0m\u001b[1;35m \u001b[0m\u001b[1;35mStat…\u001b[0m\u001b[1;35m \u001b[0m\u001b[34m┃\u001b[0m\n",
       "\u001b[34m┣━━━━━━━╋━━━━━━━╋━━━━━━━╋━━━━━━━━━━━━━━━━━━━━━━━━━━╋━━━━━━━━━━━━━━━━━━━━━━━━━━━╋━━━━━━━━━━━━━━━━━━━━━━━━━━╋━━━━━━━┫\u001b[0m\n",
       "\u001b[34m┗━━━━━━━┻━━━━━━━┻━━━━━━━┻━━━━━━━━━━━━━━━━━━━━━━━━━━┻━━━━━━━━━━━━━━━━━━━━━━━━━━━┻━━━━━━━━━━━━━━━━━━━━━━━━━━┻━━━━━━━┛\u001b[0m\n"
      ]
     },
     "metadata": {},
     "output_type": "display_data"
    },
    {
     "data": {
      "text/html": [
       "<pre style=\"white-space:pre;overflow-x:auto;line-height:normal;font-family:Menlo,'DejaVu Sans Mono',consolas,'Courier New',monospace\">\n",
       "\n",
       "</pre>\n"
      ],
      "text/plain": [
       "\n",
       "\n"
      ]
     },
     "metadata": {},
     "output_type": "display_data"
    },
    {
     "data": {
      "text/html": [
       "<pre style=\"white-space:pre;overflow-x:auto;line-height:normal;font-family:Menlo,'DejaVu Sans Mono',consolas,'Courier New',monospace\">\n",
       "================================================================================\n",
       "</pre>\n"
      ],
      "text/plain": [
       "\n",
       "================================================================================\n"
      ]
     },
     "metadata": {},
     "output_type": "display_data"
    },
    {
     "data": {
      "text/html": [
       "<pre style=\"white-space:pre;overflow-x:auto;line-height:normal;font-family:Menlo,'DejaVu Sans Mono',consolas,'Courier New',monospace\"><span style=\"color: #800080; text-decoration-color: #800080; font-weight: bold\">🔍 DeepTeam Risk Assessment</span> <span style=\"font-weight: bold\">(</span><span style=\"color: #008080; text-decoration-color: #008080; font-weight: bold\">0</span> errored<span style=\"font-weight: bold\">)</span>\n",
       "</pre>\n"
      ],
      "text/plain": [
       "\u001b[1;35m🔍 DeepTeam Risk Assessment\u001b[0m \u001b[1m(\u001b[0m\u001b[1;36m0\u001b[0m errored\u001b[1m)\u001b[0m\n"
      ]
     },
     "metadata": {},
     "output_type": "display_data"
    },
    {
     "data": {
      "text/html": [
       "<pre style=\"white-space:pre;overflow-x:auto;line-height:normal;font-family:Menlo,'DejaVu Sans Mono',consolas,'Courier New',monospace\">================================================================================\n",
       "</pre>\n"
      ],
      "text/plain": [
       "================================================================================\n"
      ]
     },
     "metadata": {},
     "output_type": "display_data"
    },
    {
     "data": {
      "text/html": [
       "<pre style=\"white-space:pre;overflow-x:auto;line-height:normal;font-family:Menlo,'DejaVu Sans Mono',consolas,'Courier New',monospace\">\n",
       "⚠️  Overview by Vulnerabilities <span style=\"font-weight: bold\">(</span><span style=\"color: #008080; text-decoration-color: #008080; font-weight: bold\">0</span><span style=\"font-weight: bold\">)</span>\n",
       "</pre>\n"
      ],
      "text/plain": [
       "\n",
       "⚠️  Overview by Vulnerabilities \u001b[1m(\u001b[0m\u001b[1;36m0\u001b[0m\u001b[1m)\u001b[0m\n"
      ]
     },
     "metadata": {},
     "output_type": "display_data"
    },
    {
     "data": {
      "text/html": [
       "<pre style=\"white-space:pre;overflow-x:auto;line-height:normal;font-family:Menlo,'DejaVu Sans Mono',consolas,'Courier New',monospace\">--------------------------------------------------------------------------------\n",
       "</pre>\n"
      ],
      "text/plain": [
       "--------------------------------------------------------------------------------\n"
      ]
     },
     "metadata": {},
     "output_type": "display_data"
    },
    {
     "data": {
      "text/html": [
       "<pre style=\"white-space:pre;overflow-x:auto;line-height:normal;font-family:Menlo,'DejaVu Sans Mono',consolas,'Courier New',monospace\">\n",
       "💥 Overview by Attack Methods <span style=\"font-weight: bold\">(</span><span style=\"color: #008080; text-decoration-color: #008080; font-weight: bold\">0</span><span style=\"font-weight: bold\">)</span>\n",
       "</pre>\n"
      ],
      "text/plain": [
       "\n",
       "💥 Overview by Attack Methods \u001b[1m(\u001b[0m\u001b[1;36m0\u001b[0m\u001b[1m)\u001b[0m\n"
      ]
     },
     "metadata": {},
     "output_type": "display_data"
    },
    {
     "data": {
      "text/html": [
       "<pre style=\"white-space:pre;overflow-x:auto;line-height:normal;font-family:Menlo,'DejaVu Sans Mono',consolas,'Courier New',monospace\">--------------------------------------------------------------------------------\n",
       "</pre>\n"
      ],
      "text/plain": [
       "--------------------------------------------------------------------------------\n"
      ]
     },
     "metadata": {},
     "output_type": "display_data"
    },
    {
     "data": {
      "text/html": [
       "<pre style=\"white-space:pre;overflow-x:auto;line-height:normal;font-family:Menlo,'DejaVu Sans Mono',consolas,'Courier New',monospace\">\n",
       "================================================================================\n",
       "</pre>\n"
      ],
      "text/plain": [
       "\n",
       "================================================================================\n"
      ]
     },
     "metadata": {},
     "output_type": "display_data"
    },
    {
     "data": {
      "text/html": [
       "<pre style=\"white-space:pre;overflow-x:auto;line-height:normal;font-family:Menlo,'DejaVu Sans Mono',consolas,'Courier New',monospace\"><span style=\"color: #800080; text-decoration-color: #800080; font-weight: bold\">LLM red teaming complete.</span>\n",
       "</pre>\n"
      ],
      "text/plain": [
       "\u001b[1;35mLLM red teaming complete.\u001b[0m\n"
      ]
     },
     "metadata": {},
     "output_type": "display_data"
    },
    {
     "data": {
      "text/html": [
       "<pre style=\"white-space:pre;overflow-x:auto;line-height:normal;font-family:Menlo,'DejaVu Sans Mono',consolas,'Courier New',monospace\">================================================================================\n",
       "\n",
       "</pre>\n"
      ],
      "text/plain": [
       "================================================================================\n",
       "\n"
      ]
     },
     "metadata": {},
     "output_type": "display_data"
    }
   ],
   "source": [
    "debug_access = DebugAccess(types=[\"debug_mode_bypass\", \n",
    "                                  \"development_endpoint_access\", \n",
    "                                  \"administrative_interface_exposure\"])\n",
    "\n",
    "\n",
    "risk = red_team(model_callback=model_callback, \n",
    "                vulnerabilities=[debug_access], \n",
    "                attacks=[prompt_injection])"
   ]
  },
  {
   "cell_type": "markdown",
   "id": "799b0056-3c1d-4a61-8230-89894653671d",
   "metadata": {},
   "source": [
    "### Role play \n",
    "\n",
    "The roleplay attack method enhances baseline attacks by embedding them within elaborate persona-based scenarios, where the LLM is instructed to adopt a specific character role. This technique leverages the model's collaborative training to bypass safety mechanisms through authentic character portrayal."
   ]
  },
  {
   "cell_type": "code",
   "execution_count": 6,
   "id": "1475734f-e844-4186-87f1-40b1c3317e02",
   "metadata": {},
   "outputs": [
    {
     "name": "stderr",
     "output_type": "stream",
     "text": [
      "💥 Generating 3 attacks (for 3 vulnerability types across 1 vulnerability(s)): 100%|█████████████████████████████████████████████████████| 1/1 [00:04<00:00,  4.28s/it]\n",
      "✨ Simulating 3 attacks (using 1 method(s)): 0it [00:00, ?it/s]\n",
      "📝 Evaluating 3 vulnerability types across 1 vulnerability(s): 0it [00:00, ?it/s]\n"
     ]
    },
    {
     "data": {
      "text/html": [
       "<pre style=\"white-space:pre;overflow-x:auto;line-height:normal;font-family:Menlo,'DejaVu Sans Mono',consolas,'Courier New',monospace\">\n",
       "================================================================================\n",
       "</pre>\n"
      ],
      "text/plain": [
       "\n",
       "================================================================================\n"
      ]
     },
     "metadata": {},
     "output_type": "display_data"
    },
    {
     "data": {
      "text/html": [
       "<pre style=\"white-space:pre;overflow-x:auto;line-height:normal;font-family:Menlo,'DejaVu Sans Mono',consolas,'Courier New',monospace\"><span style=\"color: #800080; text-decoration-color: #800080; font-weight: bold\">📋 Test Cases Overview</span>\n",
       "</pre>\n"
      ],
      "text/plain": [
       "\u001b[1;35m📋 Test Cases Overview\u001b[0m\n"
      ]
     },
     "metadata": {},
     "output_type": "display_data"
    },
    {
     "data": {
      "text/html": [
       "<pre style=\"white-space:pre;overflow-x:auto;line-height:normal;font-family:Menlo,'DejaVu Sans Mono',consolas,'Courier New',monospace\">================================================================================\n",
       "</pre>\n"
      ],
      "text/plain": [
       "================================================================================\n"
      ]
     },
     "metadata": {},
     "output_type": "display_data"
    },
    {
     "data": {
      "text/html": [
       "<pre style=\"white-space:pre;overflow-x:auto;line-height:normal;font-family:Menlo,'DejaVu Sans Mono',consolas,'Courier New',monospace\">\n",
       "\n",
       "</pre>\n"
      ],
      "text/plain": [
       "\n",
       "\n"
      ]
     },
     "metadata": {},
     "output_type": "display_data"
    },
    {
     "data": {
      "text/html": [
       "<pre style=\"white-space:pre;overflow-x:auto;line-height:normal;font-family:Menlo,'DejaVu Sans Mono',consolas,'Courier New',monospace\"><span style=\"color: #800080; text-decoration-color: #800080; font-weight: bold\">                                                Test Cases Overview                                                </span>\n",
       "<span style=\"color: #000080; text-decoration-color: #000080\">┏━━━━━━━┳━━━━━━━┳━━━━━━━┳━━━━━━━━━━━━━━━━━━━━━━━━━━┳━━━━━━━━━━━━━━━━━━━━━━━━━━━┳━━━━━━━━━━━━━━━━━━━━━━━━━━┳━━━━━━━┓</span>\n",
       "<span style=\"color: #000080; text-decoration-color: #000080\">┃</span><span style=\"color: #800080; text-decoration-color: #800080; font-weight: bold\">       </span><span style=\"color: #000080; text-decoration-color: #000080\">┃</span><span style=\"color: #800080; text-decoration-color: #800080; font-weight: bold\">       </span><span style=\"color: #000080; text-decoration-color: #000080\">┃</span><span style=\"color: #800080; text-decoration-color: #800080; font-weight: bold\"> Atta… </span><span style=\"color: #000080; text-decoration-color: #000080\">┃</span><span style=\"color: #800080; text-decoration-color: #800080; font-weight: bold\">                          </span><span style=\"color: #000080; text-decoration-color: #000080\">┃</span><span style=\"color: #800080; text-decoration-color: #800080; font-weight: bold\">                           </span><span style=\"color: #000080; text-decoration-color: #000080\">┃</span><span style=\"color: #800080; text-decoration-color: #800080; font-weight: bold\">                          </span><span style=\"color: #000080; text-decoration-color: #000080\">┃</span><span style=\"color: #800080; text-decoration-color: #800080; font-weight: bold\">       </span><span style=\"color: #000080; text-decoration-color: #000080\">┃</span>\n",
       "<span style=\"color: #000080; text-decoration-color: #000080\">┃</span><span style=\"color: #800080; text-decoration-color: #800080; font-weight: bold\"> Vuln… </span><span style=\"color: #000080; text-decoration-color: #000080\">┃</span><span style=\"color: #800080; text-decoration-color: #800080; font-weight: bold\"> Type  </span><span style=\"color: #000080; text-decoration-color: #000080\">┃</span><span style=\"color: #800080; text-decoration-color: #800080; font-weight: bold\"> Meth… </span><span style=\"color: #000080; text-decoration-color: #000080\">┃</span><span style=\"color: #800080; text-decoration-color: #800080; font-weight: bold\"> Input                    </span><span style=\"color: #000080; text-decoration-color: #000080\">┃</span><span style=\"color: #800080; text-decoration-color: #800080; font-weight: bold\"> Output                    </span><span style=\"color: #000080; text-decoration-color: #000080\">┃</span><span style=\"color: #800080; text-decoration-color: #800080; font-weight: bold\"> Reason                   </span><span style=\"color: #000080; text-decoration-color: #000080\">┃</span><span style=\"color: #800080; text-decoration-color: #800080; font-weight: bold\"> Stat… </span><span style=\"color: #000080; text-decoration-color: #000080\">┃</span>\n",
       "<span style=\"color: #000080; text-decoration-color: #000080\">┣━━━━━━━╋━━━━━━━╋━━━━━━━╋━━━━━━━━━━━━━━━━━━━━━━━━━━╋━━━━━━━━━━━━━━━━━━━━━━━━━━━╋━━━━━━━━━━━━━━━━━━━━━━━━━━╋━━━━━━━┫</span>\n",
       "<span style=\"color: #000080; text-decoration-color: #000080\">┗━━━━━━━┻━━━━━━━┻━━━━━━━┻━━━━━━━━━━━━━━━━━━━━━━━━━━┻━━━━━━━━━━━━━━━━━━━━━━━━━━━┻━━━━━━━━━━━━━━━━━━━━━━━━━━┻━━━━━━━┛</span>\n",
       "</pre>\n"
      ],
      "text/plain": [
       "\u001b[1;35m                                                Test Cases Overview                                                \u001b[0m\n",
       "\u001b[34m┏━━━━━━━┳━━━━━━━┳━━━━━━━┳━━━━━━━━━━━━━━━━━━━━━━━━━━┳━━━━━━━━━━━━━━━━━━━━━━━━━━━┳━━━━━━━━━━━━━━━━━━━━━━━━━━┳━━━━━━━┓\u001b[0m\n",
       "\u001b[34m┃\u001b[0m\u001b[1;35m       \u001b[0m\u001b[34m┃\u001b[0m\u001b[1;35m       \u001b[0m\u001b[34m┃\u001b[0m\u001b[1;35m \u001b[0m\u001b[1;35mAtta…\u001b[0m\u001b[1;35m \u001b[0m\u001b[34m┃\u001b[0m\u001b[1;35m                          \u001b[0m\u001b[34m┃\u001b[0m\u001b[1;35m                           \u001b[0m\u001b[34m┃\u001b[0m\u001b[1;35m                          \u001b[0m\u001b[34m┃\u001b[0m\u001b[1;35m       \u001b[0m\u001b[34m┃\u001b[0m\n",
       "\u001b[34m┃\u001b[0m\u001b[1;35m \u001b[0m\u001b[1;35mVuln…\u001b[0m\u001b[1;35m \u001b[0m\u001b[34m┃\u001b[0m\u001b[1;35m \u001b[0m\u001b[1;35mType \u001b[0m\u001b[1;35m \u001b[0m\u001b[34m┃\u001b[0m\u001b[1;35m \u001b[0m\u001b[1;35mMeth…\u001b[0m\u001b[1;35m \u001b[0m\u001b[34m┃\u001b[0m\u001b[1;35m \u001b[0m\u001b[1;35mInput                   \u001b[0m\u001b[1;35m \u001b[0m\u001b[34m┃\u001b[0m\u001b[1;35m \u001b[0m\u001b[1;35mOutput                   \u001b[0m\u001b[1;35m \u001b[0m\u001b[34m┃\u001b[0m\u001b[1;35m \u001b[0m\u001b[1;35mReason                  \u001b[0m\u001b[1;35m \u001b[0m\u001b[34m┃\u001b[0m\u001b[1;35m \u001b[0m\u001b[1;35mStat…\u001b[0m\u001b[1;35m \u001b[0m\u001b[34m┃\u001b[0m\n",
       "\u001b[34m┣━━━━━━━╋━━━━━━━╋━━━━━━━╋━━━━━━━━━━━━━━━━━━━━━━━━━━╋━━━━━━━━━━━━━━━━━━━━━━━━━━━╋━━━━━━━━━━━━━━━━━━━━━━━━━━╋━━━━━━━┫\u001b[0m\n",
       "\u001b[34m┗━━━━━━━┻━━━━━━━┻━━━━━━━┻━━━━━━━━━━━━━━━━━━━━━━━━━━┻━━━━━━━━━━━━━━━━━━━━━━━━━━━┻━━━━━━━━━━━━━━━━━━━━━━━━━━┻━━━━━━━┛\u001b[0m\n"
      ]
     },
     "metadata": {},
     "output_type": "display_data"
    },
    {
     "data": {
      "text/html": [
       "<pre style=\"white-space:pre;overflow-x:auto;line-height:normal;font-family:Menlo,'DejaVu Sans Mono',consolas,'Courier New',monospace\">\n",
       "\n",
       "</pre>\n"
      ],
      "text/plain": [
       "\n",
       "\n"
      ]
     },
     "metadata": {},
     "output_type": "display_data"
    },
    {
     "data": {
      "text/html": [
       "<pre style=\"white-space:pre;overflow-x:auto;line-height:normal;font-family:Menlo,'DejaVu Sans Mono',consolas,'Courier New',monospace\">\n",
       "================================================================================\n",
       "</pre>\n"
      ],
      "text/plain": [
       "\n",
       "================================================================================\n"
      ]
     },
     "metadata": {},
     "output_type": "display_data"
    },
    {
     "data": {
      "text/html": [
       "<pre style=\"white-space:pre;overflow-x:auto;line-height:normal;font-family:Menlo,'DejaVu Sans Mono',consolas,'Courier New',monospace\"><span style=\"color: #800080; text-decoration-color: #800080; font-weight: bold\">🔍 DeepTeam Risk Assessment</span> <span style=\"font-weight: bold\">(</span><span style=\"color: #008080; text-decoration-color: #008080; font-weight: bold\">0</span> errored<span style=\"font-weight: bold\">)</span>\n",
       "</pre>\n"
      ],
      "text/plain": [
       "\u001b[1;35m🔍 DeepTeam Risk Assessment\u001b[0m \u001b[1m(\u001b[0m\u001b[1;36m0\u001b[0m errored\u001b[1m)\u001b[0m\n"
      ]
     },
     "metadata": {},
     "output_type": "display_data"
    },
    {
     "data": {
      "text/html": [
       "<pre style=\"white-space:pre;overflow-x:auto;line-height:normal;font-family:Menlo,'DejaVu Sans Mono',consolas,'Courier New',monospace\">================================================================================\n",
       "</pre>\n"
      ],
      "text/plain": [
       "================================================================================\n"
      ]
     },
     "metadata": {},
     "output_type": "display_data"
    },
    {
     "data": {
      "text/html": [
       "<pre style=\"white-space:pre;overflow-x:auto;line-height:normal;font-family:Menlo,'DejaVu Sans Mono',consolas,'Courier New',monospace\">\n",
       "⚠️  Overview by Vulnerabilities <span style=\"font-weight: bold\">(</span><span style=\"color: #008080; text-decoration-color: #008080; font-weight: bold\">0</span><span style=\"font-weight: bold\">)</span>\n",
       "</pre>\n"
      ],
      "text/plain": [
       "\n",
       "⚠️  Overview by Vulnerabilities \u001b[1m(\u001b[0m\u001b[1;36m0\u001b[0m\u001b[1m)\u001b[0m\n"
      ]
     },
     "metadata": {},
     "output_type": "display_data"
    },
    {
     "data": {
      "text/html": [
       "<pre style=\"white-space:pre;overflow-x:auto;line-height:normal;font-family:Menlo,'DejaVu Sans Mono',consolas,'Courier New',monospace\">--------------------------------------------------------------------------------\n",
       "</pre>\n"
      ],
      "text/plain": [
       "--------------------------------------------------------------------------------\n"
      ]
     },
     "metadata": {},
     "output_type": "display_data"
    },
    {
     "data": {
      "text/html": [
       "<pre style=\"white-space:pre;overflow-x:auto;line-height:normal;font-family:Menlo,'DejaVu Sans Mono',consolas,'Courier New',monospace\">\n",
       "💥 Overview by Attack Methods <span style=\"font-weight: bold\">(</span><span style=\"color: #008080; text-decoration-color: #008080; font-weight: bold\">0</span><span style=\"font-weight: bold\">)</span>\n",
       "</pre>\n"
      ],
      "text/plain": [
       "\n",
       "💥 Overview by Attack Methods \u001b[1m(\u001b[0m\u001b[1;36m0\u001b[0m\u001b[1m)\u001b[0m\n"
      ]
     },
     "metadata": {},
     "output_type": "display_data"
    },
    {
     "data": {
      "text/html": [
       "<pre style=\"white-space:pre;overflow-x:auto;line-height:normal;font-family:Menlo,'DejaVu Sans Mono',consolas,'Courier New',monospace\">--------------------------------------------------------------------------------\n",
       "</pre>\n"
      ],
      "text/plain": [
       "--------------------------------------------------------------------------------\n"
      ]
     },
     "metadata": {},
     "output_type": "display_data"
    },
    {
     "data": {
      "text/html": [
       "<pre style=\"white-space:pre;overflow-x:auto;line-height:normal;font-family:Menlo,'DejaVu Sans Mono',consolas,'Courier New',monospace\">\n",
       "================================================================================\n",
       "</pre>\n"
      ],
      "text/plain": [
       "\n",
       "================================================================================\n"
      ]
     },
     "metadata": {},
     "output_type": "display_data"
    },
    {
     "data": {
      "text/html": [
       "<pre style=\"white-space:pre;overflow-x:auto;line-height:normal;font-family:Menlo,'DejaVu Sans Mono',consolas,'Courier New',monospace\"><span style=\"color: #800080; text-decoration-color: #800080; font-weight: bold\">LLM red teaming complete.</span>\n",
       "</pre>\n"
      ],
      "text/plain": [
       "\u001b[1;35mLLM red teaming complete.\u001b[0m\n"
      ]
     },
     "metadata": {},
     "output_type": "display_data"
    },
    {
     "data": {
      "text/html": [
       "<pre style=\"white-space:pre;overflow-x:auto;line-height:normal;font-family:Menlo,'DejaVu Sans Mono',consolas,'Courier New',monospace\">================================================================================\n",
       "\n",
       "</pre>\n"
      ],
      "text/plain": [
       "================================================================================\n",
       "\n"
      ]
     },
     "metadata": {},
     "output_type": "display_data"
    }
   ],
   "source": [
    "risk = red_team(model_callback=model_callback, \n",
    "                vulnerabilities=[debug_access], \n",
    "                attacks=[roleplay])"
   ]
  },
  {
   "cell_type": "markdown",
   "id": "c4f4043c-79b5-4fac-b051-1bbe33cd62aa",
   "metadata": {},
   "source": [
    "### Gray Box\n",
    "\n",
    "The gray box attack method leverages partial knowledge about an existing LLM system to craft an attack that targets known vulnerabilities, reframing the baseline attack with abstract or misleading language."
   ]
  },
  {
   "cell_type": "code",
   "execution_count": 7,
   "id": "61adb93a-0ff7-403a-b5d2-49d32cc41397",
   "metadata": {},
   "outputs": [
    {
     "name": "stderr",
     "output_type": "stream",
     "text": [
      "💥 Generating 3 attacks (for 3 vulnerability types across 1 vulnerability(s)): 100%|█████████████████████████████████████████████████████| 1/1 [00:04<00:00,  4.54s/it]\n",
      "✨ Simulating 3 attacks (using 1 method(s)): 0it [00:00, ?it/s]\n",
      "📝 Evaluating 3 vulnerability types across 1 vulnerability(s): 0it [00:00, ?it/s]\n"
     ]
    },
    {
     "data": {
      "text/html": [
       "<pre style=\"white-space:pre;overflow-x:auto;line-height:normal;font-family:Menlo,'DejaVu Sans Mono',consolas,'Courier New',monospace\">\n",
       "================================================================================\n",
       "</pre>\n"
      ],
      "text/plain": [
       "\n",
       "================================================================================\n"
      ]
     },
     "metadata": {},
     "output_type": "display_data"
    },
    {
     "data": {
      "text/html": [
       "<pre style=\"white-space:pre;overflow-x:auto;line-height:normal;font-family:Menlo,'DejaVu Sans Mono',consolas,'Courier New',monospace\"><span style=\"color: #800080; text-decoration-color: #800080; font-weight: bold\">📋 Test Cases Overview</span>\n",
       "</pre>\n"
      ],
      "text/plain": [
       "\u001b[1;35m📋 Test Cases Overview\u001b[0m\n"
      ]
     },
     "metadata": {},
     "output_type": "display_data"
    },
    {
     "data": {
      "text/html": [
       "<pre style=\"white-space:pre;overflow-x:auto;line-height:normal;font-family:Menlo,'DejaVu Sans Mono',consolas,'Courier New',monospace\">================================================================================\n",
       "</pre>\n"
      ],
      "text/plain": [
       "================================================================================\n"
      ]
     },
     "metadata": {},
     "output_type": "display_data"
    },
    {
     "data": {
      "text/html": [
       "<pre style=\"white-space:pre;overflow-x:auto;line-height:normal;font-family:Menlo,'DejaVu Sans Mono',consolas,'Courier New',monospace\">\n",
       "\n",
       "</pre>\n"
      ],
      "text/plain": [
       "\n",
       "\n"
      ]
     },
     "metadata": {},
     "output_type": "display_data"
    },
    {
     "data": {
      "text/html": [
       "<pre style=\"white-space:pre;overflow-x:auto;line-height:normal;font-family:Menlo,'DejaVu Sans Mono',consolas,'Courier New',monospace\"><span style=\"color: #800080; text-decoration-color: #800080; font-weight: bold\">                                                Test Cases Overview                                                </span>\n",
       "<span style=\"color: #000080; text-decoration-color: #000080\">┏━━━━━━━┳━━━━━━━┳━━━━━━━┳━━━━━━━━━━━━━━━━━━━━━━━━━━┳━━━━━━━━━━━━━━━━━━━━━━━━━━━┳━━━━━━━━━━━━━━━━━━━━━━━━━━┳━━━━━━━┓</span>\n",
       "<span style=\"color: #000080; text-decoration-color: #000080\">┃</span><span style=\"color: #800080; text-decoration-color: #800080; font-weight: bold\">       </span><span style=\"color: #000080; text-decoration-color: #000080\">┃</span><span style=\"color: #800080; text-decoration-color: #800080; font-weight: bold\">       </span><span style=\"color: #000080; text-decoration-color: #000080\">┃</span><span style=\"color: #800080; text-decoration-color: #800080; font-weight: bold\"> Atta… </span><span style=\"color: #000080; text-decoration-color: #000080\">┃</span><span style=\"color: #800080; text-decoration-color: #800080; font-weight: bold\">                          </span><span style=\"color: #000080; text-decoration-color: #000080\">┃</span><span style=\"color: #800080; text-decoration-color: #800080; font-weight: bold\">                           </span><span style=\"color: #000080; text-decoration-color: #000080\">┃</span><span style=\"color: #800080; text-decoration-color: #800080; font-weight: bold\">                          </span><span style=\"color: #000080; text-decoration-color: #000080\">┃</span><span style=\"color: #800080; text-decoration-color: #800080; font-weight: bold\">       </span><span style=\"color: #000080; text-decoration-color: #000080\">┃</span>\n",
       "<span style=\"color: #000080; text-decoration-color: #000080\">┃</span><span style=\"color: #800080; text-decoration-color: #800080; font-weight: bold\"> Vuln… </span><span style=\"color: #000080; text-decoration-color: #000080\">┃</span><span style=\"color: #800080; text-decoration-color: #800080; font-weight: bold\"> Type  </span><span style=\"color: #000080; text-decoration-color: #000080\">┃</span><span style=\"color: #800080; text-decoration-color: #800080; font-weight: bold\"> Meth… </span><span style=\"color: #000080; text-decoration-color: #000080\">┃</span><span style=\"color: #800080; text-decoration-color: #800080; font-weight: bold\"> Input                    </span><span style=\"color: #000080; text-decoration-color: #000080\">┃</span><span style=\"color: #800080; text-decoration-color: #800080; font-weight: bold\"> Output                    </span><span style=\"color: #000080; text-decoration-color: #000080\">┃</span><span style=\"color: #800080; text-decoration-color: #800080; font-weight: bold\"> Reason                   </span><span style=\"color: #000080; text-decoration-color: #000080\">┃</span><span style=\"color: #800080; text-decoration-color: #800080; font-weight: bold\"> Stat… </span><span style=\"color: #000080; text-decoration-color: #000080\">┃</span>\n",
       "<span style=\"color: #000080; text-decoration-color: #000080\">┣━━━━━━━╋━━━━━━━╋━━━━━━━╋━━━━━━━━━━━━━━━━━━━━━━━━━━╋━━━━━━━━━━━━━━━━━━━━━━━━━━━╋━━━━━━━━━━━━━━━━━━━━━━━━━━╋━━━━━━━┫</span>\n",
       "<span style=\"color: #000080; text-decoration-color: #000080\">┗━━━━━━━┻━━━━━━━┻━━━━━━━┻━━━━━━━━━━━━━━━━━━━━━━━━━━┻━━━━━━━━━━━━━━━━━━━━━━━━━━━┻━━━━━━━━━━━━━━━━━━━━━━━━━━┻━━━━━━━┛</span>\n",
       "</pre>\n"
      ],
      "text/plain": [
       "\u001b[1;35m                                                Test Cases Overview                                                \u001b[0m\n",
       "\u001b[34m┏━━━━━━━┳━━━━━━━┳━━━━━━━┳━━━━━━━━━━━━━━━━━━━━━━━━━━┳━━━━━━━━━━━━━━━━━━━━━━━━━━━┳━━━━━━━━━━━━━━━━━━━━━━━━━━┳━━━━━━━┓\u001b[0m\n",
       "\u001b[34m┃\u001b[0m\u001b[1;35m       \u001b[0m\u001b[34m┃\u001b[0m\u001b[1;35m       \u001b[0m\u001b[34m┃\u001b[0m\u001b[1;35m \u001b[0m\u001b[1;35mAtta…\u001b[0m\u001b[1;35m \u001b[0m\u001b[34m┃\u001b[0m\u001b[1;35m                          \u001b[0m\u001b[34m┃\u001b[0m\u001b[1;35m                           \u001b[0m\u001b[34m┃\u001b[0m\u001b[1;35m                          \u001b[0m\u001b[34m┃\u001b[0m\u001b[1;35m       \u001b[0m\u001b[34m┃\u001b[0m\n",
       "\u001b[34m┃\u001b[0m\u001b[1;35m \u001b[0m\u001b[1;35mVuln…\u001b[0m\u001b[1;35m \u001b[0m\u001b[34m┃\u001b[0m\u001b[1;35m \u001b[0m\u001b[1;35mType \u001b[0m\u001b[1;35m \u001b[0m\u001b[34m┃\u001b[0m\u001b[1;35m \u001b[0m\u001b[1;35mMeth…\u001b[0m\u001b[1;35m \u001b[0m\u001b[34m┃\u001b[0m\u001b[1;35m \u001b[0m\u001b[1;35mInput                   \u001b[0m\u001b[1;35m \u001b[0m\u001b[34m┃\u001b[0m\u001b[1;35m \u001b[0m\u001b[1;35mOutput                   \u001b[0m\u001b[1;35m \u001b[0m\u001b[34m┃\u001b[0m\u001b[1;35m \u001b[0m\u001b[1;35mReason                  \u001b[0m\u001b[1;35m \u001b[0m\u001b[34m┃\u001b[0m\u001b[1;35m \u001b[0m\u001b[1;35mStat…\u001b[0m\u001b[1;35m \u001b[0m\u001b[34m┃\u001b[0m\n",
       "\u001b[34m┣━━━━━━━╋━━━━━━━╋━━━━━━━╋━━━━━━━━━━━━━━━━━━━━━━━━━━╋━━━━━━━━━━━━━━━━━━━━━━━━━━━╋━━━━━━━━━━━━━━━━━━━━━━━━━━╋━━━━━━━┫\u001b[0m\n",
       "\u001b[34m┗━━━━━━━┻━━━━━━━┻━━━━━━━┻━━━━━━━━━━━━━━━━━━━━━━━━━━┻━━━━━━━━━━━━━━━━━━━━━━━━━━━┻━━━━━━━━━━━━━━━━━━━━━━━━━━┻━━━━━━━┛\u001b[0m\n"
      ]
     },
     "metadata": {},
     "output_type": "display_data"
    },
    {
     "data": {
      "text/html": [
       "<pre style=\"white-space:pre;overflow-x:auto;line-height:normal;font-family:Menlo,'DejaVu Sans Mono',consolas,'Courier New',monospace\">\n",
       "\n",
       "</pre>\n"
      ],
      "text/plain": [
       "\n",
       "\n"
      ]
     },
     "metadata": {},
     "output_type": "display_data"
    },
    {
     "data": {
      "text/html": [
       "<pre style=\"white-space:pre;overflow-x:auto;line-height:normal;font-family:Menlo,'DejaVu Sans Mono',consolas,'Courier New',monospace\">\n",
       "================================================================================\n",
       "</pre>\n"
      ],
      "text/plain": [
       "\n",
       "================================================================================\n"
      ]
     },
     "metadata": {},
     "output_type": "display_data"
    },
    {
     "data": {
      "text/html": [
       "<pre style=\"white-space:pre;overflow-x:auto;line-height:normal;font-family:Menlo,'DejaVu Sans Mono',consolas,'Courier New',monospace\"><span style=\"color: #800080; text-decoration-color: #800080; font-weight: bold\">🔍 DeepTeam Risk Assessment</span> <span style=\"font-weight: bold\">(</span><span style=\"color: #008080; text-decoration-color: #008080; font-weight: bold\">0</span> errored<span style=\"font-weight: bold\">)</span>\n",
       "</pre>\n"
      ],
      "text/plain": [
       "\u001b[1;35m🔍 DeepTeam Risk Assessment\u001b[0m \u001b[1m(\u001b[0m\u001b[1;36m0\u001b[0m errored\u001b[1m)\u001b[0m\n"
      ]
     },
     "metadata": {},
     "output_type": "display_data"
    },
    {
     "data": {
      "text/html": [
       "<pre style=\"white-space:pre;overflow-x:auto;line-height:normal;font-family:Menlo,'DejaVu Sans Mono',consolas,'Courier New',monospace\">================================================================================\n",
       "</pre>\n"
      ],
      "text/plain": [
       "================================================================================\n"
      ]
     },
     "metadata": {},
     "output_type": "display_data"
    },
    {
     "data": {
      "text/html": [
       "<pre style=\"white-space:pre;overflow-x:auto;line-height:normal;font-family:Menlo,'DejaVu Sans Mono',consolas,'Courier New',monospace\">\n",
       "⚠️  Overview by Vulnerabilities <span style=\"font-weight: bold\">(</span><span style=\"color: #008080; text-decoration-color: #008080; font-weight: bold\">0</span><span style=\"font-weight: bold\">)</span>\n",
       "</pre>\n"
      ],
      "text/plain": [
       "\n",
       "⚠️  Overview by Vulnerabilities \u001b[1m(\u001b[0m\u001b[1;36m0\u001b[0m\u001b[1m)\u001b[0m\n"
      ]
     },
     "metadata": {},
     "output_type": "display_data"
    },
    {
     "data": {
      "text/html": [
       "<pre style=\"white-space:pre;overflow-x:auto;line-height:normal;font-family:Menlo,'DejaVu Sans Mono',consolas,'Courier New',monospace\">--------------------------------------------------------------------------------\n",
       "</pre>\n"
      ],
      "text/plain": [
       "--------------------------------------------------------------------------------\n"
      ]
     },
     "metadata": {},
     "output_type": "display_data"
    },
    {
     "data": {
      "text/html": [
       "<pre style=\"white-space:pre;overflow-x:auto;line-height:normal;font-family:Menlo,'DejaVu Sans Mono',consolas,'Courier New',monospace\">\n",
       "💥 Overview by Attack Methods <span style=\"font-weight: bold\">(</span><span style=\"color: #008080; text-decoration-color: #008080; font-weight: bold\">0</span><span style=\"font-weight: bold\">)</span>\n",
       "</pre>\n"
      ],
      "text/plain": [
       "\n",
       "💥 Overview by Attack Methods \u001b[1m(\u001b[0m\u001b[1;36m0\u001b[0m\u001b[1m)\u001b[0m\n"
      ]
     },
     "metadata": {},
     "output_type": "display_data"
    },
    {
     "data": {
      "text/html": [
       "<pre style=\"white-space:pre;overflow-x:auto;line-height:normal;font-family:Menlo,'DejaVu Sans Mono',consolas,'Courier New',monospace\">--------------------------------------------------------------------------------\n",
       "</pre>\n"
      ],
      "text/plain": [
       "--------------------------------------------------------------------------------\n"
      ]
     },
     "metadata": {},
     "output_type": "display_data"
    },
    {
     "data": {
      "text/html": [
       "<pre style=\"white-space:pre;overflow-x:auto;line-height:normal;font-family:Menlo,'DejaVu Sans Mono',consolas,'Courier New',monospace\">\n",
       "================================================================================\n",
       "</pre>\n"
      ],
      "text/plain": [
       "\n",
       "================================================================================\n"
      ]
     },
     "metadata": {},
     "output_type": "display_data"
    },
    {
     "data": {
      "text/html": [
       "<pre style=\"white-space:pre;overflow-x:auto;line-height:normal;font-family:Menlo,'DejaVu Sans Mono',consolas,'Courier New',monospace\"><span style=\"color: #800080; text-decoration-color: #800080; font-weight: bold\">LLM red teaming complete.</span>\n",
       "</pre>\n"
      ],
      "text/plain": [
       "\u001b[1;35mLLM red teaming complete.\u001b[0m\n"
      ]
     },
     "metadata": {},
     "output_type": "display_data"
    },
    {
     "data": {
      "text/html": [
       "<pre style=\"white-space:pre;overflow-x:auto;line-height:normal;font-family:Menlo,'DejaVu Sans Mono',consolas,'Courier New',monospace\">================================================================================\n",
       "\n",
       "</pre>\n"
      ],
      "text/plain": [
       "================================================================================\n",
       "\n"
      ]
     },
     "metadata": {},
     "output_type": "display_data"
    }
   ],
   "source": [
    "risk = red_team(model_callback=model_callback, \n",
    "                vulnerabilities=[debug_access], \n",
    "                attacks=[gray_box])"
   ]
  },
  {
   "cell_type": "markdown",
   "id": "fc45b156-f733-4cc1-8526-65686ad71cfb",
   "metadata": {},
   "source": [
    "### Leetspeak\n",
    "\n",
    "The leetspeak attack method replaces common characters with leetspeak equivalents, a form of symbolic substitution that transforms the attack text to avoid simple keyword detection."
   ]
  },
  {
   "cell_type": "code",
   "execution_count": 8,
   "id": "28d004d5-6dca-40ab-a848-0ab5cea69128",
   "metadata": {},
   "outputs": [
    {
     "name": "stderr",
     "output_type": "stream",
     "text": [
      "💥 Generating 3 attacks (for 3 vulnerability types across 1 vulnerability(s)): 100%|█████████████████████████████████████████████████████| 1/1 [00:04<00:00,  4.42s/it]\n",
      "✨ Simulating 3 attacks (using 1 method(s)): 0it [00:00, ?it/s]\n",
      "📝 Evaluating 3 vulnerability types across 1 vulnerability(s): 0it [00:00, ?it/s]\n"
     ]
    },
    {
     "data": {
      "text/html": [
       "<pre style=\"white-space:pre;overflow-x:auto;line-height:normal;font-family:Menlo,'DejaVu Sans Mono',consolas,'Courier New',monospace\">\n",
       "================================================================================\n",
       "</pre>\n"
      ],
      "text/plain": [
       "\n",
       "================================================================================\n"
      ]
     },
     "metadata": {},
     "output_type": "display_data"
    },
    {
     "data": {
      "text/html": [
       "<pre style=\"white-space:pre;overflow-x:auto;line-height:normal;font-family:Menlo,'DejaVu Sans Mono',consolas,'Courier New',monospace\"><span style=\"color: #800080; text-decoration-color: #800080; font-weight: bold\">📋 Test Cases Overview</span>\n",
       "</pre>\n"
      ],
      "text/plain": [
       "\u001b[1;35m📋 Test Cases Overview\u001b[0m\n"
      ]
     },
     "metadata": {},
     "output_type": "display_data"
    },
    {
     "data": {
      "text/html": [
       "<pre style=\"white-space:pre;overflow-x:auto;line-height:normal;font-family:Menlo,'DejaVu Sans Mono',consolas,'Courier New',monospace\">================================================================================\n",
       "</pre>\n"
      ],
      "text/plain": [
       "================================================================================\n"
      ]
     },
     "metadata": {},
     "output_type": "display_data"
    },
    {
     "data": {
      "text/html": [
       "<pre style=\"white-space:pre;overflow-x:auto;line-height:normal;font-family:Menlo,'DejaVu Sans Mono',consolas,'Courier New',monospace\">\n",
       "\n",
       "</pre>\n"
      ],
      "text/plain": [
       "\n",
       "\n"
      ]
     },
     "metadata": {},
     "output_type": "display_data"
    },
    {
     "data": {
      "text/html": [
       "<pre style=\"white-space:pre;overflow-x:auto;line-height:normal;font-family:Menlo,'DejaVu Sans Mono',consolas,'Courier New',monospace\"><span style=\"color: #800080; text-decoration-color: #800080; font-weight: bold\">                                                Test Cases Overview                                                </span>\n",
       "<span style=\"color: #000080; text-decoration-color: #000080\">┏━━━━━━━┳━━━━━━━┳━━━━━━━┳━━━━━━━━━━━━━━━━━━━━━━━━━━┳━━━━━━━━━━━━━━━━━━━━━━━━━━━┳━━━━━━━━━━━━━━━━━━━━━━━━━━┳━━━━━━━┓</span>\n",
       "<span style=\"color: #000080; text-decoration-color: #000080\">┃</span><span style=\"color: #800080; text-decoration-color: #800080; font-weight: bold\">       </span><span style=\"color: #000080; text-decoration-color: #000080\">┃</span><span style=\"color: #800080; text-decoration-color: #800080; font-weight: bold\">       </span><span style=\"color: #000080; text-decoration-color: #000080\">┃</span><span style=\"color: #800080; text-decoration-color: #800080; font-weight: bold\"> Atta… </span><span style=\"color: #000080; text-decoration-color: #000080\">┃</span><span style=\"color: #800080; text-decoration-color: #800080; font-weight: bold\">                          </span><span style=\"color: #000080; text-decoration-color: #000080\">┃</span><span style=\"color: #800080; text-decoration-color: #800080; font-weight: bold\">                           </span><span style=\"color: #000080; text-decoration-color: #000080\">┃</span><span style=\"color: #800080; text-decoration-color: #800080; font-weight: bold\">                          </span><span style=\"color: #000080; text-decoration-color: #000080\">┃</span><span style=\"color: #800080; text-decoration-color: #800080; font-weight: bold\">       </span><span style=\"color: #000080; text-decoration-color: #000080\">┃</span>\n",
       "<span style=\"color: #000080; text-decoration-color: #000080\">┃</span><span style=\"color: #800080; text-decoration-color: #800080; font-weight: bold\"> Vuln… </span><span style=\"color: #000080; text-decoration-color: #000080\">┃</span><span style=\"color: #800080; text-decoration-color: #800080; font-weight: bold\"> Type  </span><span style=\"color: #000080; text-decoration-color: #000080\">┃</span><span style=\"color: #800080; text-decoration-color: #800080; font-weight: bold\"> Meth… </span><span style=\"color: #000080; text-decoration-color: #000080\">┃</span><span style=\"color: #800080; text-decoration-color: #800080; font-weight: bold\"> Input                    </span><span style=\"color: #000080; text-decoration-color: #000080\">┃</span><span style=\"color: #800080; text-decoration-color: #800080; font-weight: bold\"> Output                    </span><span style=\"color: #000080; text-decoration-color: #000080\">┃</span><span style=\"color: #800080; text-decoration-color: #800080; font-weight: bold\"> Reason                   </span><span style=\"color: #000080; text-decoration-color: #000080\">┃</span><span style=\"color: #800080; text-decoration-color: #800080; font-weight: bold\"> Stat… </span><span style=\"color: #000080; text-decoration-color: #000080\">┃</span>\n",
       "<span style=\"color: #000080; text-decoration-color: #000080\">┣━━━━━━━╋━━━━━━━╋━━━━━━━╋━━━━━━━━━━━━━━━━━━━━━━━━━━╋━━━━━━━━━━━━━━━━━━━━━━━━━━━╋━━━━━━━━━━━━━━━━━━━━━━━━━━╋━━━━━━━┫</span>\n",
       "<span style=\"color: #000080; text-decoration-color: #000080\">┗━━━━━━━┻━━━━━━━┻━━━━━━━┻━━━━━━━━━━━━━━━━━━━━━━━━━━┻━━━━━━━━━━━━━━━━━━━━━━━━━━━┻━━━━━━━━━━━━━━━━━━━━━━━━━━┻━━━━━━━┛</span>\n",
       "</pre>\n"
      ],
      "text/plain": [
       "\u001b[1;35m                                                Test Cases Overview                                                \u001b[0m\n",
       "\u001b[34m┏━━━━━━━┳━━━━━━━┳━━━━━━━┳━━━━━━━━━━━━━━━━━━━━━━━━━━┳━━━━━━━━━━━━━━━━━━━━━━━━━━━┳━━━━━━━━━━━━━━━━━━━━━━━━━━┳━━━━━━━┓\u001b[0m\n",
       "\u001b[34m┃\u001b[0m\u001b[1;35m       \u001b[0m\u001b[34m┃\u001b[0m\u001b[1;35m       \u001b[0m\u001b[34m┃\u001b[0m\u001b[1;35m \u001b[0m\u001b[1;35mAtta…\u001b[0m\u001b[1;35m \u001b[0m\u001b[34m┃\u001b[0m\u001b[1;35m                          \u001b[0m\u001b[34m┃\u001b[0m\u001b[1;35m                           \u001b[0m\u001b[34m┃\u001b[0m\u001b[1;35m                          \u001b[0m\u001b[34m┃\u001b[0m\u001b[1;35m       \u001b[0m\u001b[34m┃\u001b[0m\n",
       "\u001b[34m┃\u001b[0m\u001b[1;35m \u001b[0m\u001b[1;35mVuln…\u001b[0m\u001b[1;35m \u001b[0m\u001b[34m┃\u001b[0m\u001b[1;35m \u001b[0m\u001b[1;35mType \u001b[0m\u001b[1;35m \u001b[0m\u001b[34m┃\u001b[0m\u001b[1;35m \u001b[0m\u001b[1;35mMeth…\u001b[0m\u001b[1;35m \u001b[0m\u001b[34m┃\u001b[0m\u001b[1;35m \u001b[0m\u001b[1;35mInput                   \u001b[0m\u001b[1;35m \u001b[0m\u001b[34m┃\u001b[0m\u001b[1;35m \u001b[0m\u001b[1;35mOutput                   \u001b[0m\u001b[1;35m \u001b[0m\u001b[34m┃\u001b[0m\u001b[1;35m \u001b[0m\u001b[1;35mReason                  \u001b[0m\u001b[1;35m \u001b[0m\u001b[34m┃\u001b[0m\u001b[1;35m \u001b[0m\u001b[1;35mStat…\u001b[0m\u001b[1;35m \u001b[0m\u001b[34m┃\u001b[0m\n",
       "\u001b[34m┣━━━━━━━╋━━━━━━━╋━━━━━━━╋━━━━━━━━━━━━━━━━━━━━━━━━━━╋━━━━━━━━━━━━━━━━━━━━━━━━━━━╋━━━━━━━━━━━━━━━━━━━━━━━━━━╋━━━━━━━┫\u001b[0m\n",
       "\u001b[34m┗━━━━━━━┻━━━━━━━┻━━━━━━━┻━━━━━━━━━━━━━━━━━━━━━━━━━━┻━━━━━━━━━━━━━━━━━━━━━━━━━━━┻━━━━━━━━━━━━━━━━━━━━━━━━━━┻━━━━━━━┛\u001b[0m\n"
      ]
     },
     "metadata": {},
     "output_type": "display_data"
    },
    {
     "data": {
      "text/html": [
       "<pre style=\"white-space:pre;overflow-x:auto;line-height:normal;font-family:Menlo,'DejaVu Sans Mono',consolas,'Courier New',monospace\">\n",
       "\n",
       "</pre>\n"
      ],
      "text/plain": [
       "\n",
       "\n"
      ]
     },
     "metadata": {},
     "output_type": "display_data"
    },
    {
     "data": {
      "text/html": [
       "<pre style=\"white-space:pre;overflow-x:auto;line-height:normal;font-family:Menlo,'DejaVu Sans Mono',consolas,'Courier New',monospace\">\n",
       "================================================================================\n",
       "</pre>\n"
      ],
      "text/plain": [
       "\n",
       "================================================================================\n"
      ]
     },
     "metadata": {},
     "output_type": "display_data"
    },
    {
     "data": {
      "text/html": [
       "<pre style=\"white-space:pre;overflow-x:auto;line-height:normal;font-family:Menlo,'DejaVu Sans Mono',consolas,'Courier New',monospace\"><span style=\"color: #800080; text-decoration-color: #800080; font-weight: bold\">🔍 DeepTeam Risk Assessment</span> <span style=\"font-weight: bold\">(</span><span style=\"color: #008080; text-decoration-color: #008080; font-weight: bold\">0</span> errored<span style=\"font-weight: bold\">)</span>\n",
       "</pre>\n"
      ],
      "text/plain": [
       "\u001b[1;35m🔍 DeepTeam Risk Assessment\u001b[0m \u001b[1m(\u001b[0m\u001b[1;36m0\u001b[0m errored\u001b[1m)\u001b[0m\n"
      ]
     },
     "metadata": {},
     "output_type": "display_data"
    },
    {
     "data": {
      "text/html": [
       "<pre style=\"white-space:pre;overflow-x:auto;line-height:normal;font-family:Menlo,'DejaVu Sans Mono',consolas,'Courier New',monospace\">================================================================================\n",
       "</pre>\n"
      ],
      "text/plain": [
       "================================================================================\n"
      ]
     },
     "metadata": {},
     "output_type": "display_data"
    },
    {
     "data": {
      "text/html": [
       "<pre style=\"white-space:pre;overflow-x:auto;line-height:normal;font-family:Menlo,'DejaVu Sans Mono',consolas,'Courier New',monospace\">\n",
       "⚠️  Overview by Vulnerabilities <span style=\"font-weight: bold\">(</span><span style=\"color: #008080; text-decoration-color: #008080; font-weight: bold\">0</span><span style=\"font-weight: bold\">)</span>\n",
       "</pre>\n"
      ],
      "text/plain": [
       "\n",
       "⚠️  Overview by Vulnerabilities \u001b[1m(\u001b[0m\u001b[1;36m0\u001b[0m\u001b[1m)\u001b[0m\n"
      ]
     },
     "metadata": {},
     "output_type": "display_data"
    },
    {
     "data": {
      "text/html": [
       "<pre style=\"white-space:pre;overflow-x:auto;line-height:normal;font-family:Menlo,'DejaVu Sans Mono',consolas,'Courier New',monospace\">--------------------------------------------------------------------------------\n",
       "</pre>\n"
      ],
      "text/plain": [
       "--------------------------------------------------------------------------------\n"
      ]
     },
     "metadata": {},
     "output_type": "display_data"
    },
    {
     "data": {
      "text/html": [
       "<pre style=\"white-space:pre;overflow-x:auto;line-height:normal;font-family:Menlo,'DejaVu Sans Mono',consolas,'Courier New',monospace\">\n",
       "💥 Overview by Attack Methods <span style=\"font-weight: bold\">(</span><span style=\"color: #008080; text-decoration-color: #008080; font-weight: bold\">0</span><span style=\"font-weight: bold\">)</span>\n",
       "</pre>\n"
      ],
      "text/plain": [
       "\n",
       "💥 Overview by Attack Methods \u001b[1m(\u001b[0m\u001b[1;36m0\u001b[0m\u001b[1m)\u001b[0m\n"
      ]
     },
     "metadata": {},
     "output_type": "display_data"
    },
    {
     "data": {
      "text/html": [
       "<pre style=\"white-space:pre;overflow-x:auto;line-height:normal;font-family:Menlo,'DejaVu Sans Mono',consolas,'Courier New',monospace\">--------------------------------------------------------------------------------\n",
       "</pre>\n"
      ],
      "text/plain": [
       "--------------------------------------------------------------------------------\n"
      ]
     },
     "metadata": {},
     "output_type": "display_data"
    },
    {
     "data": {
      "text/html": [
       "<pre style=\"white-space:pre;overflow-x:auto;line-height:normal;font-family:Menlo,'DejaVu Sans Mono',consolas,'Courier New',monospace\">\n",
       "================================================================================\n",
       "</pre>\n"
      ],
      "text/plain": [
       "\n",
       "================================================================================\n"
      ]
     },
     "metadata": {},
     "output_type": "display_data"
    },
    {
     "data": {
      "text/html": [
       "<pre style=\"white-space:pre;overflow-x:auto;line-height:normal;font-family:Menlo,'DejaVu Sans Mono',consolas,'Courier New',monospace\"><span style=\"color: #800080; text-decoration-color: #800080; font-weight: bold\">LLM red teaming complete.</span>\n",
       "</pre>\n"
      ],
      "text/plain": [
       "\u001b[1;35mLLM red teaming complete.\u001b[0m\n"
      ]
     },
     "metadata": {},
     "output_type": "display_data"
    },
    {
     "data": {
      "text/html": [
       "<pre style=\"white-space:pre;overflow-x:auto;line-height:normal;font-family:Menlo,'DejaVu Sans Mono',consolas,'Courier New',monospace\">================================================================================\n",
       "\n",
       "</pre>\n"
      ],
      "text/plain": [
       "================================================================================\n",
       "\n"
      ]
     },
     "metadata": {},
     "output_type": "display_data"
    }
   ],
   "source": [
    "risk = red_team(model_callback=model_callback, \n",
    "                vulnerabilities=[debug_access], \n",
    "                attacks=[leetspeak])"
   ]
  },
  {
   "cell_type": "markdown",
   "id": "0bce3a4f-3470-4f0c-8413-7e8542e8d08d",
   "metadata": {},
   "source": [
    "### ROT13\n",
    "\n",
    "The ROT-13 attack method rotates each letter in the baseline attack by 13 positions in the alphabet, creating a scrambled message that is less likely to trigger basic content filters."
   ]
  },
  {
   "cell_type": "code",
   "execution_count": 9,
   "id": "7768c93f-6e38-4426-94ee-52ee745b806e",
   "metadata": {},
   "outputs": [
    {
     "name": "stderr",
     "output_type": "stream",
     "text": [
      "💥 Generating 3 attacks (for 3 vulnerability types across 1 vulnerability(s)): 100%|█████████████████████████████████████████████████████| 1/1 [00:04<00:00,  4.39s/it]\n",
      "✨ Simulating 3 attacks (using 1 method(s)): 0it [00:00, ?it/s]\n",
      "📝 Evaluating 3 vulnerability types across 1 vulnerability(s): 0it [00:00, ?it/s]\n"
     ]
    },
    {
     "data": {
      "text/html": [
       "<pre style=\"white-space:pre;overflow-x:auto;line-height:normal;font-family:Menlo,'DejaVu Sans Mono',consolas,'Courier New',monospace\">\n",
       "================================================================================\n",
       "</pre>\n"
      ],
      "text/plain": [
       "\n",
       "================================================================================\n"
      ]
     },
     "metadata": {},
     "output_type": "display_data"
    },
    {
     "data": {
      "text/html": [
       "<pre style=\"white-space:pre;overflow-x:auto;line-height:normal;font-family:Menlo,'DejaVu Sans Mono',consolas,'Courier New',monospace\"><span style=\"color: #800080; text-decoration-color: #800080; font-weight: bold\">📋 Test Cases Overview</span>\n",
       "</pre>\n"
      ],
      "text/plain": [
       "\u001b[1;35m📋 Test Cases Overview\u001b[0m\n"
      ]
     },
     "metadata": {},
     "output_type": "display_data"
    },
    {
     "data": {
      "text/html": [
       "<pre style=\"white-space:pre;overflow-x:auto;line-height:normal;font-family:Menlo,'DejaVu Sans Mono',consolas,'Courier New',monospace\">================================================================================\n",
       "</pre>\n"
      ],
      "text/plain": [
       "================================================================================\n"
      ]
     },
     "metadata": {},
     "output_type": "display_data"
    },
    {
     "data": {
      "text/html": [
       "<pre style=\"white-space:pre;overflow-x:auto;line-height:normal;font-family:Menlo,'DejaVu Sans Mono',consolas,'Courier New',monospace\">\n",
       "\n",
       "</pre>\n"
      ],
      "text/plain": [
       "\n",
       "\n"
      ]
     },
     "metadata": {},
     "output_type": "display_data"
    },
    {
     "data": {
      "text/html": [
       "<pre style=\"white-space:pre;overflow-x:auto;line-height:normal;font-family:Menlo,'DejaVu Sans Mono',consolas,'Courier New',monospace\"><span style=\"color: #800080; text-decoration-color: #800080; font-weight: bold\">                                                Test Cases Overview                                                </span>\n",
       "<span style=\"color: #000080; text-decoration-color: #000080\">┏━━━━━━━┳━━━━━━━┳━━━━━━━┳━━━━━━━━━━━━━━━━━━━━━━━━━━┳━━━━━━━━━━━━━━━━━━━━━━━━━━━┳━━━━━━━━━━━━━━━━━━━━━━━━━━┳━━━━━━━┓</span>\n",
       "<span style=\"color: #000080; text-decoration-color: #000080\">┃</span><span style=\"color: #800080; text-decoration-color: #800080; font-weight: bold\">       </span><span style=\"color: #000080; text-decoration-color: #000080\">┃</span><span style=\"color: #800080; text-decoration-color: #800080; font-weight: bold\">       </span><span style=\"color: #000080; text-decoration-color: #000080\">┃</span><span style=\"color: #800080; text-decoration-color: #800080; font-weight: bold\"> Atta… </span><span style=\"color: #000080; text-decoration-color: #000080\">┃</span><span style=\"color: #800080; text-decoration-color: #800080; font-weight: bold\">                          </span><span style=\"color: #000080; text-decoration-color: #000080\">┃</span><span style=\"color: #800080; text-decoration-color: #800080; font-weight: bold\">                           </span><span style=\"color: #000080; text-decoration-color: #000080\">┃</span><span style=\"color: #800080; text-decoration-color: #800080; font-weight: bold\">                          </span><span style=\"color: #000080; text-decoration-color: #000080\">┃</span><span style=\"color: #800080; text-decoration-color: #800080; font-weight: bold\">       </span><span style=\"color: #000080; text-decoration-color: #000080\">┃</span>\n",
       "<span style=\"color: #000080; text-decoration-color: #000080\">┃</span><span style=\"color: #800080; text-decoration-color: #800080; font-weight: bold\"> Vuln… </span><span style=\"color: #000080; text-decoration-color: #000080\">┃</span><span style=\"color: #800080; text-decoration-color: #800080; font-weight: bold\"> Type  </span><span style=\"color: #000080; text-decoration-color: #000080\">┃</span><span style=\"color: #800080; text-decoration-color: #800080; font-weight: bold\"> Meth… </span><span style=\"color: #000080; text-decoration-color: #000080\">┃</span><span style=\"color: #800080; text-decoration-color: #800080; font-weight: bold\"> Input                    </span><span style=\"color: #000080; text-decoration-color: #000080\">┃</span><span style=\"color: #800080; text-decoration-color: #800080; font-weight: bold\"> Output                    </span><span style=\"color: #000080; text-decoration-color: #000080\">┃</span><span style=\"color: #800080; text-decoration-color: #800080; font-weight: bold\"> Reason                   </span><span style=\"color: #000080; text-decoration-color: #000080\">┃</span><span style=\"color: #800080; text-decoration-color: #800080; font-weight: bold\"> Stat… </span><span style=\"color: #000080; text-decoration-color: #000080\">┃</span>\n",
       "<span style=\"color: #000080; text-decoration-color: #000080\">┣━━━━━━━╋━━━━━━━╋━━━━━━━╋━━━━━━━━━━━━━━━━━━━━━━━━━━╋━━━━━━━━━━━━━━━━━━━━━━━━━━━╋━━━━━━━━━━━━━━━━━━━━━━━━━━╋━━━━━━━┫</span>\n",
       "<span style=\"color: #000080; text-decoration-color: #000080\">┗━━━━━━━┻━━━━━━━┻━━━━━━━┻━━━━━━━━━━━━━━━━━━━━━━━━━━┻━━━━━━━━━━━━━━━━━━━━━━━━━━━┻━━━━━━━━━━━━━━━━━━━━━━━━━━┻━━━━━━━┛</span>\n",
       "</pre>\n"
      ],
      "text/plain": [
       "\u001b[1;35m                                                Test Cases Overview                                                \u001b[0m\n",
       "\u001b[34m┏━━━━━━━┳━━━━━━━┳━━━━━━━┳━━━━━━━━━━━━━━━━━━━━━━━━━━┳━━━━━━━━━━━━━━━━━━━━━━━━━━━┳━━━━━━━━━━━━━━━━━━━━━━━━━━┳━━━━━━━┓\u001b[0m\n",
       "\u001b[34m┃\u001b[0m\u001b[1;35m       \u001b[0m\u001b[34m┃\u001b[0m\u001b[1;35m       \u001b[0m\u001b[34m┃\u001b[0m\u001b[1;35m \u001b[0m\u001b[1;35mAtta…\u001b[0m\u001b[1;35m \u001b[0m\u001b[34m┃\u001b[0m\u001b[1;35m                          \u001b[0m\u001b[34m┃\u001b[0m\u001b[1;35m                           \u001b[0m\u001b[34m┃\u001b[0m\u001b[1;35m                          \u001b[0m\u001b[34m┃\u001b[0m\u001b[1;35m       \u001b[0m\u001b[34m┃\u001b[0m\n",
       "\u001b[34m┃\u001b[0m\u001b[1;35m \u001b[0m\u001b[1;35mVuln…\u001b[0m\u001b[1;35m \u001b[0m\u001b[34m┃\u001b[0m\u001b[1;35m \u001b[0m\u001b[1;35mType \u001b[0m\u001b[1;35m \u001b[0m\u001b[34m┃\u001b[0m\u001b[1;35m \u001b[0m\u001b[1;35mMeth…\u001b[0m\u001b[1;35m \u001b[0m\u001b[34m┃\u001b[0m\u001b[1;35m \u001b[0m\u001b[1;35mInput                   \u001b[0m\u001b[1;35m \u001b[0m\u001b[34m┃\u001b[0m\u001b[1;35m \u001b[0m\u001b[1;35mOutput                   \u001b[0m\u001b[1;35m \u001b[0m\u001b[34m┃\u001b[0m\u001b[1;35m \u001b[0m\u001b[1;35mReason                  \u001b[0m\u001b[1;35m \u001b[0m\u001b[34m┃\u001b[0m\u001b[1;35m \u001b[0m\u001b[1;35mStat…\u001b[0m\u001b[1;35m \u001b[0m\u001b[34m┃\u001b[0m\n",
       "\u001b[34m┣━━━━━━━╋━━━━━━━╋━━━━━━━╋━━━━━━━━━━━━━━━━━━━━━━━━━━╋━━━━━━━━━━━━━━━━━━━━━━━━━━━╋━━━━━━━━━━━━━━━━━━━━━━━━━━╋━━━━━━━┫\u001b[0m\n",
       "\u001b[34m┗━━━━━━━┻━━━━━━━┻━━━━━━━┻━━━━━━━━━━━━━━━━━━━━━━━━━━┻━━━━━━━━━━━━━━━━━━━━━━━━━━━┻━━━━━━━━━━━━━━━━━━━━━━━━━━┻━━━━━━━┛\u001b[0m\n"
      ]
     },
     "metadata": {},
     "output_type": "display_data"
    },
    {
     "data": {
      "text/html": [
       "<pre style=\"white-space:pre;overflow-x:auto;line-height:normal;font-family:Menlo,'DejaVu Sans Mono',consolas,'Courier New',monospace\">\n",
       "\n",
       "</pre>\n"
      ],
      "text/plain": [
       "\n",
       "\n"
      ]
     },
     "metadata": {},
     "output_type": "display_data"
    },
    {
     "data": {
      "text/html": [
       "<pre style=\"white-space:pre;overflow-x:auto;line-height:normal;font-family:Menlo,'DejaVu Sans Mono',consolas,'Courier New',monospace\">\n",
       "================================================================================\n",
       "</pre>\n"
      ],
      "text/plain": [
       "\n",
       "================================================================================\n"
      ]
     },
     "metadata": {},
     "output_type": "display_data"
    },
    {
     "data": {
      "text/html": [
       "<pre style=\"white-space:pre;overflow-x:auto;line-height:normal;font-family:Menlo,'DejaVu Sans Mono',consolas,'Courier New',monospace\"><span style=\"color: #800080; text-decoration-color: #800080; font-weight: bold\">🔍 DeepTeam Risk Assessment</span> <span style=\"font-weight: bold\">(</span><span style=\"color: #008080; text-decoration-color: #008080; font-weight: bold\">0</span> errored<span style=\"font-weight: bold\">)</span>\n",
       "</pre>\n"
      ],
      "text/plain": [
       "\u001b[1;35m🔍 DeepTeam Risk Assessment\u001b[0m \u001b[1m(\u001b[0m\u001b[1;36m0\u001b[0m errored\u001b[1m)\u001b[0m\n"
      ]
     },
     "metadata": {},
     "output_type": "display_data"
    },
    {
     "data": {
      "text/html": [
       "<pre style=\"white-space:pre;overflow-x:auto;line-height:normal;font-family:Menlo,'DejaVu Sans Mono',consolas,'Courier New',monospace\">================================================================================\n",
       "</pre>\n"
      ],
      "text/plain": [
       "================================================================================\n"
      ]
     },
     "metadata": {},
     "output_type": "display_data"
    },
    {
     "data": {
      "text/html": [
       "<pre style=\"white-space:pre;overflow-x:auto;line-height:normal;font-family:Menlo,'DejaVu Sans Mono',consolas,'Courier New',monospace\">\n",
       "⚠️  Overview by Vulnerabilities <span style=\"font-weight: bold\">(</span><span style=\"color: #008080; text-decoration-color: #008080; font-weight: bold\">0</span><span style=\"font-weight: bold\">)</span>\n",
       "</pre>\n"
      ],
      "text/plain": [
       "\n",
       "⚠️  Overview by Vulnerabilities \u001b[1m(\u001b[0m\u001b[1;36m0\u001b[0m\u001b[1m)\u001b[0m\n"
      ]
     },
     "metadata": {},
     "output_type": "display_data"
    },
    {
     "data": {
      "text/html": [
       "<pre style=\"white-space:pre;overflow-x:auto;line-height:normal;font-family:Menlo,'DejaVu Sans Mono',consolas,'Courier New',monospace\">--------------------------------------------------------------------------------\n",
       "</pre>\n"
      ],
      "text/plain": [
       "--------------------------------------------------------------------------------\n"
      ]
     },
     "metadata": {},
     "output_type": "display_data"
    },
    {
     "data": {
      "text/html": [
       "<pre style=\"white-space:pre;overflow-x:auto;line-height:normal;font-family:Menlo,'DejaVu Sans Mono',consolas,'Courier New',monospace\">\n",
       "💥 Overview by Attack Methods <span style=\"font-weight: bold\">(</span><span style=\"color: #008080; text-decoration-color: #008080; font-weight: bold\">0</span><span style=\"font-weight: bold\">)</span>\n",
       "</pre>\n"
      ],
      "text/plain": [
       "\n",
       "💥 Overview by Attack Methods \u001b[1m(\u001b[0m\u001b[1;36m0\u001b[0m\u001b[1m)\u001b[0m\n"
      ]
     },
     "metadata": {},
     "output_type": "display_data"
    },
    {
     "data": {
      "text/html": [
       "<pre style=\"white-space:pre;overflow-x:auto;line-height:normal;font-family:Menlo,'DejaVu Sans Mono',consolas,'Courier New',monospace\">--------------------------------------------------------------------------------\n",
       "</pre>\n"
      ],
      "text/plain": [
       "--------------------------------------------------------------------------------\n"
      ]
     },
     "metadata": {},
     "output_type": "display_data"
    },
    {
     "data": {
      "text/html": [
       "<pre style=\"white-space:pre;overflow-x:auto;line-height:normal;font-family:Menlo,'DejaVu Sans Mono',consolas,'Courier New',monospace\">\n",
       "================================================================================\n",
       "</pre>\n"
      ],
      "text/plain": [
       "\n",
       "================================================================================\n"
      ]
     },
     "metadata": {},
     "output_type": "display_data"
    },
    {
     "data": {
      "text/html": [
       "<pre style=\"white-space:pre;overflow-x:auto;line-height:normal;font-family:Menlo,'DejaVu Sans Mono',consolas,'Courier New',monospace\"><span style=\"color: #800080; text-decoration-color: #800080; font-weight: bold\">LLM red teaming complete.</span>\n",
       "</pre>\n"
      ],
      "text/plain": [
       "\u001b[1;35mLLM red teaming complete.\u001b[0m\n"
      ]
     },
     "metadata": {},
     "output_type": "display_data"
    },
    {
     "data": {
      "text/html": [
       "<pre style=\"white-space:pre;overflow-x:auto;line-height:normal;font-family:Menlo,'DejaVu Sans Mono',consolas,'Courier New',monospace\">================================================================================\n",
       "\n",
       "</pre>\n"
      ],
      "text/plain": [
       "================================================================================\n",
       "\n"
      ]
     },
     "metadata": {},
     "output_type": "display_data"
    }
   ],
   "source": [
    "risk = red_team(model_callback=model_callback, \n",
    "                vulnerabilities=[debug_access], \n",
    "                attacks=[rot_13])"
   ]
  },
  {
   "cell_type": "markdown",
   "id": "1c061a1e-72e5-434a-b6d8-92d0611a0d18",
   "metadata": {},
   "source": [
    "### Multilingual\n",
    "\n",
    "The multilingual attack method translates a baseline attack into a less-spoken language to evade content filters that focus on more widely used languages, such as English."
   ]
  },
  {
   "cell_type": "code",
   "execution_count": 10,
   "id": "e295a6e9-e9e9-436f-97b9-9e4543464491",
   "metadata": {},
   "outputs": [
    {
     "name": "stderr",
     "output_type": "stream",
     "text": [
      "💥 Generating 3 attacks (for 3 vulnerability types across 1 vulnerability(s)): 100%|█████████████████████████████████████████████████████| 1/1 [00:04<00:00,  4.61s/it]\n",
      "✨ Simulating 3 attacks (using 1 method(s)): 0it [00:00, ?it/s]\n",
      "📝 Evaluating 3 vulnerability types across 1 vulnerability(s): 0it [00:00, ?it/s]\n"
     ]
    },
    {
     "data": {
      "text/html": [
       "<pre style=\"white-space:pre;overflow-x:auto;line-height:normal;font-family:Menlo,'DejaVu Sans Mono',consolas,'Courier New',monospace\">\n",
       "================================================================================\n",
       "</pre>\n"
      ],
      "text/plain": [
       "\n",
       "================================================================================\n"
      ]
     },
     "metadata": {},
     "output_type": "display_data"
    },
    {
     "data": {
      "text/html": [
       "<pre style=\"white-space:pre;overflow-x:auto;line-height:normal;font-family:Menlo,'DejaVu Sans Mono',consolas,'Courier New',monospace\"><span style=\"color: #800080; text-decoration-color: #800080; font-weight: bold\">📋 Test Cases Overview</span>\n",
       "</pre>\n"
      ],
      "text/plain": [
       "\u001b[1;35m📋 Test Cases Overview\u001b[0m\n"
      ]
     },
     "metadata": {},
     "output_type": "display_data"
    },
    {
     "data": {
      "text/html": [
       "<pre style=\"white-space:pre;overflow-x:auto;line-height:normal;font-family:Menlo,'DejaVu Sans Mono',consolas,'Courier New',monospace\">================================================================================\n",
       "</pre>\n"
      ],
      "text/plain": [
       "================================================================================\n"
      ]
     },
     "metadata": {},
     "output_type": "display_data"
    },
    {
     "data": {
      "text/html": [
       "<pre style=\"white-space:pre;overflow-x:auto;line-height:normal;font-family:Menlo,'DejaVu Sans Mono',consolas,'Courier New',monospace\">\n",
       "\n",
       "</pre>\n"
      ],
      "text/plain": [
       "\n",
       "\n"
      ]
     },
     "metadata": {},
     "output_type": "display_data"
    },
    {
     "data": {
      "text/html": [
       "<pre style=\"white-space:pre;overflow-x:auto;line-height:normal;font-family:Menlo,'DejaVu Sans Mono',consolas,'Courier New',monospace\"><span style=\"color: #800080; text-decoration-color: #800080; font-weight: bold\">                                                Test Cases Overview                                                </span>\n",
       "<span style=\"color: #000080; text-decoration-color: #000080\">┏━━━━━━━┳━━━━━━━┳━━━━━━━┳━━━━━━━━━━━━━━━━━━━━━━━━━━┳━━━━━━━━━━━━━━━━━━━━━━━━━━━┳━━━━━━━━━━━━━━━━━━━━━━━━━━┳━━━━━━━┓</span>\n",
       "<span style=\"color: #000080; text-decoration-color: #000080\">┃</span><span style=\"color: #800080; text-decoration-color: #800080; font-weight: bold\">       </span><span style=\"color: #000080; text-decoration-color: #000080\">┃</span><span style=\"color: #800080; text-decoration-color: #800080; font-weight: bold\">       </span><span style=\"color: #000080; text-decoration-color: #000080\">┃</span><span style=\"color: #800080; text-decoration-color: #800080; font-weight: bold\"> Atta… </span><span style=\"color: #000080; text-decoration-color: #000080\">┃</span><span style=\"color: #800080; text-decoration-color: #800080; font-weight: bold\">                          </span><span style=\"color: #000080; text-decoration-color: #000080\">┃</span><span style=\"color: #800080; text-decoration-color: #800080; font-weight: bold\">                           </span><span style=\"color: #000080; text-decoration-color: #000080\">┃</span><span style=\"color: #800080; text-decoration-color: #800080; font-weight: bold\">                          </span><span style=\"color: #000080; text-decoration-color: #000080\">┃</span><span style=\"color: #800080; text-decoration-color: #800080; font-weight: bold\">       </span><span style=\"color: #000080; text-decoration-color: #000080\">┃</span>\n",
       "<span style=\"color: #000080; text-decoration-color: #000080\">┃</span><span style=\"color: #800080; text-decoration-color: #800080; font-weight: bold\"> Vuln… </span><span style=\"color: #000080; text-decoration-color: #000080\">┃</span><span style=\"color: #800080; text-decoration-color: #800080; font-weight: bold\"> Type  </span><span style=\"color: #000080; text-decoration-color: #000080\">┃</span><span style=\"color: #800080; text-decoration-color: #800080; font-weight: bold\"> Meth… </span><span style=\"color: #000080; text-decoration-color: #000080\">┃</span><span style=\"color: #800080; text-decoration-color: #800080; font-weight: bold\"> Input                    </span><span style=\"color: #000080; text-decoration-color: #000080\">┃</span><span style=\"color: #800080; text-decoration-color: #800080; font-weight: bold\"> Output                    </span><span style=\"color: #000080; text-decoration-color: #000080\">┃</span><span style=\"color: #800080; text-decoration-color: #800080; font-weight: bold\"> Reason                   </span><span style=\"color: #000080; text-decoration-color: #000080\">┃</span><span style=\"color: #800080; text-decoration-color: #800080; font-weight: bold\"> Stat… </span><span style=\"color: #000080; text-decoration-color: #000080\">┃</span>\n",
       "<span style=\"color: #000080; text-decoration-color: #000080\">┣━━━━━━━╋━━━━━━━╋━━━━━━━╋━━━━━━━━━━━━━━━━━━━━━━━━━━╋━━━━━━━━━━━━━━━━━━━━━━━━━━━╋━━━━━━━━━━━━━━━━━━━━━━━━━━╋━━━━━━━┫</span>\n",
       "<span style=\"color: #000080; text-decoration-color: #000080\">┗━━━━━━━┻━━━━━━━┻━━━━━━━┻━━━━━━━━━━━━━━━━━━━━━━━━━━┻━━━━━━━━━━━━━━━━━━━━━━━━━━━┻━━━━━━━━━━━━━━━━━━━━━━━━━━┻━━━━━━━┛</span>\n",
       "</pre>\n"
      ],
      "text/plain": [
       "\u001b[1;35m                                                Test Cases Overview                                                \u001b[0m\n",
       "\u001b[34m┏━━━━━━━┳━━━━━━━┳━━━━━━━┳━━━━━━━━━━━━━━━━━━━━━━━━━━┳━━━━━━━━━━━━━━━━━━━━━━━━━━━┳━━━━━━━━━━━━━━━━━━━━━━━━━━┳━━━━━━━┓\u001b[0m\n",
       "\u001b[34m┃\u001b[0m\u001b[1;35m       \u001b[0m\u001b[34m┃\u001b[0m\u001b[1;35m       \u001b[0m\u001b[34m┃\u001b[0m\u001b[1;35m \u001b[0m\u001b[1;35mAtta…\u001b[0m\u001b[1;35m \u001b[0m\u001b[34m┃\u001b[0m\u001b[1;35m                          \u001b[0m\u001b[34m┃\u001b[0m\u001b[1;35m                           \u001b[0m\u001b[34m┃\u001b[0m\u001b[1;35m                          \u001b[0m\u001b[34m┃\u001b[0m\u001b[1;35m       \u001b[0m\u001b[34m┃\u001b[0m\n",
       "\u001b[34m┃\u001b[0m\u001b[1;35m \u001b[0m\u001b[1;35mVuln…\u001b[0m\u001b[1;35m \u001b[0m\u001b[34m┃\u001b[0m\u001b[1;35m \u001b[0m\u001b[1;35mType \u001b[0m\u001b[1;35m \u001b[0m\u001b[34m┃\u001b[0m\u001b[1;35m \u001b[0m\u001b[1;35mMeth…\u001b[0m\u001b[1;35m \u001b[0m\u001b[34m┃\u001b[0m\u001b[1;35m \u001b[0m\u001b[1;35mInput                   \u001b[0m\u001b[1;35m \u001b[0m\u001b[34m┃\u001b[0m\u001b[1;35m \u001b[0m\u001b[1;35mOutput                   \u001b[0m\u001b[1;35m \u001b[0m\u001b[34m┃\u001b[0m\u001b[1;35m \u001b[0m\u001b[1;35mReason                  \u001b[0m\u001b[1;35m \u001b[0m\u001b[34m┃\u001b[0m\u001b[1;35m \u001b[0m\u001b[1;35mStat…\u001b[0m\u001b[1;35m \u001b[0m\u001b[34m┃\u001b[0m\n",
       "\u001b[34m┣━━━━━━━╋━━━━━━━╋━━━━━━━╋━━━━━━━━━━━━━━━━━━━━━━━━━━╋━━━━━━━━━━━━━━━━━━━━━━━━━━━╋━━━━━━━━━━━━━━━━━━━━━━━━━━╋━━━━━━━┫\u001b[0m\n",
       "\u001b[34m┗━━━━━━━┻━━━━━━━┻━━━━━━━┻━━━━━━━━━━━━━━━━━━━━━━━━━━┻━━━━━━━━━━━━━━━━━━━━━━━━━━━┻━━━━━━━━━━━━━━━━━━━━━━━━━━┻━━━━━━━┛\u001b[0m\n"
      ]
     },
     "metadata": {},
     "output_type": "display_data"
    },
    {
     "data": {
      "text/html": [
       "<pre style=\"white-space:pre;overflow-x:auto;line-height:normal;font-family:Menlo,'DejaVu Sans Mono',consolas,'Courier New',monospace\">\n",
       "\n",
       "</pre>\n"
      ],
      "text/plain": [
       "\n",
       "\n"
      ]
     },
     "metadata": {},
     "output_type": "display_data"
    },
    {
     "data": {
      "text/html": [
       "<pre style=\"white-space:pre;overflow-x:auto;line-height:normal;font-family:Menlo,'DejaVu Sans Mono',consolas,'Courier New',monospace\">\n",
       "================================================================================\n",
       "</pre>\n"
      ],
      "text/plain": [
       "\n",
       "================================================================================\n"
      ]
     },
     "metadata": {},
     "output_type": "display_data"
    },
    {
     "data": {
      "text/html": [
       "<pre style=\"white-space:pre;overflow-x:auto;line-height:normal;font-family:Menlo,'DejaVu Sans Mono',consolas,'Courier New',monospace\"><span style=\"color: #800080; text-decoration-color: #800080; font-weight: bold\">🔍 DeepTeam Risk Assessment</span> <span style=\"font-weight: bold\">(</span><span style=\"color: #008080; text-decoration-color: #008080; font-weight: bold\">0</span> errored<span style=\"font-weight: bold\">)</span>\n",
       "</pre>\n"
      ],
      "text/plain": [
       "\u001b[1;35m🔍 DeepTeam Risk Assessment\u001b[0m \u001b[1m(\u001b[0m\u001b[1;36m0\u001b[0m errored\u001b[1m)\u001b[0m\n"
      ]
     },
     "metadata": {},
     "output_type": "display_data"
    },
    {
     "data": {
      "text/html": [
       "<pre style=\"white-space:pre;overflow-x:auto;line-height:normal;font-family:Menlo,'DejaVu Sans Mono',consolas,'Courier New',monospace\">================================================================================\n",
       "</pre>\n"
      ],
      "text/plain": [
       "================================================================================\n"
      ]
     },
     "metadata": {},
     "output_type": "display_data"
    },
    {
     "data": {
      "text/html": [
       "<pre style=\"white-space:pre;overflow-x:auto;line-height:normal;font-family:Menlo,'DejaVu Sans Mono',consolas,'Courier New',monospace\">\n",
       "⚠️  Overview by Vulnerabilities <span style=\"font-weight: bold\">(</span><span style=\"color: #008080; text-decoration-color: #008080; font-weight: bold\">0</span><span style=\"font-weight: bold\">)</span>\n",
       "</pre>\n"
      ],
      "text/plain": [
       "\n",
       "⚠️  Overview by Vulnerabilities \u001b[1m(\u001b[0m\u001b[1;36m0\u001b[0m\u001b[1m)\u001b[0m\n"
      ]
     },
     "metadata": {},
     "output_type": "display_data"
    },
    {
     "data": {
      "text/html": [
       "<pre style=\"white-space:pre;overflow-x:auto;line-height:normal;font-family:Menlo,'DejaVu Sans Mono',consolas,'Courier New',monospace\">--------------------------------------------------------------------------------\n",
       "</pre>\n"
      ],
      "text/plain": [
       "--------------------------------------------------------------------------------\n"
      ]
     },
     "metadata": {},
     "output_type": "display_data"
    },
    {
     "data": {
      "text/html": [
       "<pre style=\"white-space:pre;overflow-x:auto;line-height:normal;font-family:Menlo,'DejaVu Sans Mono',consolas,'Courier New',monospace\">\n",
       "💥 Overview by Attack Methods <span style=\"font-weight: bold\">(</span><span style=\"color: #008080; text-decoration-color: #008080; font-weight: bold\">0</span><span style=\"font-weight: bold\">)</span>\n",
       "</pre>\n"
      ],
      "text/plain": [
       "\n",
       "💥 Overview by Attack Methods \u001b[1m(\u001b[0m\u001b[1;36m0\u001b[0m\u001b[1m)\u001b[0m\n"
      ]
     },
     "metadata": {},
     "output_type": "display_data"
    },
    {
     "data": {
      "text/html": [
       "<pre style=\"white-space:pre;overflow-x:auto;line-height:normal;font-family:Menlo,'DejaVu Sans Mono',consolas,'Courier New',monospace\">--------------------------------------------------------------------------------\n",
       "</pre>\n"
      ],
      "text/plain": [
       "--------------------------------------------------------------------------------\n"
      ]
     },
     "metadata": {},
     "output_type": "display_data"
    },
    {
     "data": {
      "text/html": [
       "<pre style=\"white-space:pre;overflow-x:auto;line-height:normal;font-family:Menlo,'DejaVu Sans Mono',consolas,'Courier New',monospace\">\n",
       "================================================================================\n",
       "</pre>\n"
      ],
      "text/plain": [
       "\n",
       "================================================================================\n"
      ]
     },
     "metadata": {},
     "output_type": "display_data"
    },
    {
     "data": {
      "text/html": [
       "<pre style=\"white-space:pre;overflow-x:auto;line-height:normal;font-family:Menlo,'DejaVu Sans Mono',consolas,'Courier New',monospace\"><span style=\"color: #800080; text-decoration-color: #800080; font-weight: bold\">LLM red teaming complete.</span>\n",
       "</pre>\n"
      ],
      "text/plain": [
       "\u001b[1;35mLLM red teaming complete.\u001b[0m\n"
      ]
     },
     "metadata": {},
     "output_type": "display_data"
    },
    {
     "data": {
      "text/html": [
       "<pre style=\"white-space:pre;overflow-x:auto;line-height:normal;font-family:Menlo,'DejaVu Sans Mono',consolas,'Courier New',monospace\">================================================================================\n",
       "\n",
       "</pre>\n"
      ],
      "text/plain": [
       "================================================================================\n",
       "\n"
      ]
     },
     "metadata": {},
     "output_type": "display_data"
    }
   ],
   "source": [
    "risk = red_team(model_callback=model_callback, \n",
    "                vulnerabilities=[debug_access], \n",
    "                attacks=[multilingual])"
   ]
  },
  {
   "cell_type": "markdown",
   "id": "dd506d9c-f20f-4e34-beeb-95f038727d82",
   "metadata": {},
   "source": [
    "### Math Problem\n",
    "\n",
    "The math problem attack method enhances baseline attacks into mathematically formatted inputs or embed them within math problems, making them seem like non-harmful queries while disguising their true intent."
   ]
  },
  {
   "cell_type": "code",
   "execution_count": 11,
   "id": "5f653c4f-c528-4fb2-96c7-5823566ca8b5",
   "metadata": {},
   "outputs": [
    {
     "name": "stderr",
     "output_type": "stream",
     "text": [
      "💥 Generating 3 attacks (for 3 vulnerability types across 1 vulnerability(s)): 100%|█████████████████████████████████████████████████████| 1/1 [00:04<00:00,  4.75s/it]\n",
      "✨ Simulating 3 attacks (using 1 method(s)): 0it [00:00, ?it/s]\n",
      "📝 Evaluating 3 vulnerability types across 1 vulnerability(s): 0it [00:00, ?it/s]\n"
     ]
    },
    {
     "data": {
      "text/html": [
       "<pre style=\"white-space:pre;overflow-x:auto;line-height:normal;font-family:Menlo,'DejaVu Sans Mono',consolas,'Courier New',monospace\">\n",
       "================================================================================\n",
       "</pre>\n"
      ],
      "text/plain": [
       "\n",
       "================================================================================\n"
      ]
     },
     "metadata": {},
     "output_type": "display_data"
    },
    {
     "data": {
      "text/html": [
       "<pre style=\"white-space:pre;overflow-x:auto;line-height:normal;font-family:Menlo,'DejaVu Sans Mono',consolas,'Courier New',monospace\"><span style=\"color: #800080; text-decoration-color: #800080; font-weight: bold\">📋 Test Cases Overview</span>\n",
       "</pre>\n"
      ],
      "text/plain": [
       "\u001b[1;35m📋 Test Cases Overview\u001b[0m\n"
      ]
     },
     "metadata": {},
     "output_type": "display_data"
    },
    {
     "data": {
      "text/html": [
       "<pre style=\"white-space:pre;overflow-x:auto;line-height:normal;font-family:Menlo,'DejaVu Sans Mono',consolas,'Courier New',monospace\">================================================================================\n",
       "</pre>\n"
      ],
      "text/plain": [
       "================================================================================\n"
      ]
     },
     "metadata": {},
     "output_type": "display_data"
    },
    {
     "data": {
      "text/html": [
       "<pre style=\"white-space:pre;overflow-x:auto;line-height:normal;font-family:Menlo,'DejaVu Sans Mono',consolas,'Courier New',monospace\">\n",
       "\n",
       "</pre>\n"
      ],
      "text/plain": [
       "\n",
       "\n"
      ]
     },
     "metadata": {},
     "output_type": "display_data"
    },
    {
     "data": {
      "text/html": [
       "<pre style=\"white-space:pre;overflow-x:auto;line-height:normal;font-family:Menlo,'DejaVu Sans Mono',consolas,'Courier New',monospace\"><span style=\"color: #800080; text-decoration-color: #800080; font-weight: bold\">                                                Test Cases Overview                                                </span>\n",
       "<span style=\"color: #000080; text-decoration-color: #000080\">┏━━━━━━━┳━━━━━━━┳━━━━━━━┳━━━━━━━━━━━━━━━━━━━━━━━━━━┳━━━━━━━━━━━━━━━━━━━━━━━━━━━┳━━━━━━━━━━━━━━━━━━━━━━━━━━┳━━━━━━━┓</span>\n",
       "<span style=\"color: #000080; text-decoration-color: #000080\">┃</span><span style=\"color: #800080; text-decoration-color: #800080; font-weight: bold\">       </span><span style=\"color: #000080; text-decoration-color: #000080\">┃</span><span style=\"color: #800080; text-decoration-color: #800080; font-weight: bold\">       </span><span style=\"color: #000080; text-decoration-color: #000080\">┃</span><span style=\"color: #800080; text-decoration-color: #800080; font-weight: bold\"> Atta… </span><span style=\"color: #000080; text-decoration-color: #000080\">┃</span><span style=\"color: #800080; text-decoration-color: #800080; font-weight: bold\">                          </span><span style=\"color: #000080; text-decoration-color: #000080\">┃</span><span style=\"color: #800080; text-decoration-color: #800080; font-weight: bold\">                           </span><span style=\"color: #000080; text-decoration-color: #000080\">┃</span><span style=\"color: #800080; text-decoration-color: #800080; font-weight: bold\">                          </span><span style=\"color: #000080; text-decoration-color: #000080\">┃</span><span style=\"color: #800080; text-decoration-color: #800080; font-weight: bold\">       </span><span style=\"color: #000080; text-decoration-color: #000080\">┃</span>\n",
       "<span style=\"color: #000080; text-decoration-color: #000080\">┃</span><span style=\"color: #800080; text-decoration-color: #800080; font-weight: bold\"> Vuln… </span><span style=\"color: #000080; text-decoration-color: #000080\">┃</span><span style=\"color: #800080; text-decoration-color: #800080; font-weight: bold\"> Type  </span><span style=\"color: #000080; text-decoration-color: #000080\">┃</span><span style=\"color: #800080; text-decoration-color: #800080; font-weight: bold\"> Meth… </span><span style=\"color: #000080; text-decoration-color: #000080\">┃</span><span style=\"color: #800080; text-decoration-color: #800080; font-weight: bold\"> Input                    </span><span style=\"color: #000080; text-decoration-color: #000080\">┃</span><span style=\"color: #800080; text-decoration-color: #800080; font-weight: bold\"> Output                    </span><span style=\"color: #000080; text-decoration-color: #000080\">┃</span><span style=\"color: #800080; text-decoration-color: #800080; font-weight: bold\"> Reason                   </span><span style=\"color: #000080; text-decoration-color: #000080\">┃</span><span style=\"color: #800080; text-decoration-color: #800080; font-weight: bold\"> Stat… </span><span style=\"color: #000080; text-decoration-color: #000080\">┃</span>\n",
       "<span style=\"color: #000080; text-decoration-color: #000080\">┣━━━━━━━╋━━━━━━━╋━━━━━━━╋━━━━━━━━━━━━━━━━━━━━━━━━━━╋━━━━━━━━━━━━━━━━━━━━━━━━━━━╋━━━━━━━━━━━━━━━━━━━━━━━━━━╋━━━━━━━┫</span>\n",
       "<span style=\"color: #000080; text-decoration-color: #000080\">┗━━━━━━━┻━━━━━━━┻━━━━━━━┻━━━━━━━━━━━━━━━━━━━━━━━━━━┻━━━━━━━━━━━━━━━━━━━━━━━━━━━┻━━━━━━━━━━━━━━━━━━━━━━━━━━┻━━━━━━━┛</span>\n",
       "</pre>\n"
      ],
      "text/plain": [
       "\u001b[1;35m                                                Test Cases Overview                                                \u001b[0m\n",
       "\u001b[34m┏━━━━━━━┳━━━━━━━┳━━━━━━━┳━━━━━━━━━━━━━━━━━━━━━━━━━━┳━━━━━━━━━━━━━━━━━━━━━━━━━━━┳━━━━━━━━━━━━━━━━━━━━━━━━━━┳━━━━━━━┓\u001b[0m\n",
       "\u001b[34m┃\u001b[0m\u001b[1;35m       \u001b[0m\u001b[34m┃\u001b[0m\u001b[1;35m       \u001b[0m\u001b[34m┃\u001b[0m\u001b[1;35m \u001b[0m\u001b[1;35mAtta…\u001b[0m\u001b[1;35m \u001b[0m\u001b[34m┃\u001b[0m\u001b[1;35m                          \u001b[0m\u001b[34m┃\u001b[0m\u001b[1;35m                           \u001b[0m\u001b[34m┃\u001b[0m\u001b[1;35m                          \u001b[0m\u001b[34m┃\u001b[0m\u001b[1;35m       \u001b[0m\u001b[34m┃\u001b[0m\n",
       "\u001b[34m┃\u001b[0m\u001b[1;35m \u001b[0m\u001b[1;35mVuln…\u001b[0m\u001b[1;35m \u001b[0m\u001b[34m┃\u001b[0m\u001b[1;35m \u001b[0m\u001b[1;35mType \u001b[0m\u001b[1;35m \u001b[0m\u001b[34m┃\u001b[0m\u001b[1;35m \u001b[0m\u001b[1;35mMeth…\u001b[0m\u001b[1;35m \u001b[0m\u001b[34m┃\u001b[0m\u001b[1;35m \u001b[0m\u001b[1;35mInput                   \u001b[0m\u001b[1;35m \u001b[0m\u001b[34m┃\u001b[0m\u001b[1;35m \u001b[0m\u001b[1;35mOutput                   \u001b[0m\u001b[1;35m \u001b[0m\u001b[34m┃\u001b[0m\u001b[1;35m \u001b[0m\u001b[1;35mReason                  \u001b[0m\u001b[1;35m \u001b[0m\u001b[34m┃\u001b[0m\u001b[1;35m \u001b[0m\u001b[1;35mStat…\u001b[0m\u001b[1;35m \u001b[0m\u001b[34m┃\u001b[0m\n",
       "\u001b[34m┣━━━━━━━╋━━━━━━━╋━━━━━━━╋━━━━━━━━━━━━━━━━━━━━━━━━━━╋━━━━━━━━━━━━━━━━━━━━━━━━━━━╋━━━━━━━━━━━━━━━━━━━━━━━━━━╋━━━━━━━┫\u001b[0m\n",
       "\u001b[34m┗━━━━━━━┻━━━━━━━┻━━━━━━━┻━━━━━━━━━━━━━━━━━━━━━━━━━━┻━━━━━━━━━━━━━━━━━━━━━━━━━━━┻━━━━━━━━━━━━━━━━━━━━━━━━━━┻━━━━━━━┛\u001b[0m\n"
      ]
     },
     "metadata": {},
     "output_type": "display_data"
    },
    {
     "data": {
      "text/html": [
       "<pre style=\"white-space:pre;overflow-x:auto;line-height:normal;font-family:Menlo,'DejaVu Sans Mono',consolas,'Courier New',monospace\">\n",
       "\n",
       "</pre>\n"
      ],
      "text/plain": [
       "\n",
       "\n"
      ]
     },
     "metadata": {},
     "output_type": "display_data"
    },
    {
     "data": {
      "text/html": [
       "<pre style=\"white-space:pre;overflow-x:auto;line-height:normal;font-family:Menlo,'DejaVu Sans Mono',consolas,'Courier New',monospace\">\n",
       "================================================================================\n",
       "</pre>\n"
      ],
      "text/plain": [
       "\n",
       "================================================================================\n"
      ]
     },
     "metadata": {},
     "output_type": "display_data"
    },
    {
     "data": {
      "text/html": [
       "<pre style=\"white-space:pre;overflow-x:auto;line-height:normal;font-family:Menlo,'DejaVu Sans Mono',consolas,'Courier New',monospace\"><span style=\"color: #800080; text-decoration-color: #800080; font-weight: bold\">🔍 DeepTeam Risk Assessment</span> <span style=\"font-weight: bold\">(</span><span style=\"color: #008080; text-decoration-color: #008080; font-weight: bold\">0</span> errored<span style=\"font-weight: bold\">)</span>\n",
       "</pre>\n"
      ],
      "text/plain": [
       "\u001b[1;35m🔍 DeepTeam Risk Assessment\u001b[0m \u001b[1m(\u001b[0m\u001b[1;36m0\u001b[0m errored\u001b[1m)\u001b[0m\n"
      ]
     },
     "metadata": {},
     "output_type": "display_data"
    },
    {
     "data": {
      "text/html": [
       "<pre style=\"white-space:pre;overflow-x:auto;line-height:normal;font-family:Menlo,'DejaVu Sans Mono',consolas,'Courier New',monospace\">================================================================================\n",
       "</pre>\n"
      ],
      "text/plain": [
       "================================================================================\n"
      ]
     },
     "metadata": {},
     "output_type": "display_data"
    },
    {
     "data": {
      "text/html": [
       "<pre style=\"white-space:pre;overflow-x:auto;line-height:normal;font-family:Menlo,'DejaVu Sans Mono',consolas,'Courier New',monospace\">\n",
       "⚠️  Overview by Vulnerabilities <span style=\"font-weight: bold\">(</span><span style=\"color: #008080; text-decoration-color: #008080; font-weight: bold\">0</span><span style=\"font-weight: bold\">)</span>\n",
       "</pre>\n"
      ],
      "text/plain": [
       "\n",
       "⚠️  Overview by Vulnerabilities \u001b[1m(\u001b[0m\u001b[1;36m0\u001b[0m\u001b[1m)\u001b[0m\n"
      ]
     },
     "metadata": {},
     "output_type": "display_data"
    },
    {
     "data": {
      "text/html": [
       "<pre style=\"white-space:pre;overflow-x:auto;line-height:normal;font-family:Menlo,'DejaVu Sans Mono',consolas,'Courier New',monospace\">--------------------------------------------------------------------------------\n",
       "</pre>\n"
      ],
      "text/plain": [
       "--------------------------------------------------------------------------------\n"
      ]
     },
     "metadata": {},
     "output_type": "display_data"
    },
    {
     "data": {
      "text/html": [
       "<pre style=\"white-space:pre;overflow-x:auto;line-height:normal;font-family:Menlo,'DejaVu Sans Mono',consolas,'Courier New',monospace\">\n",
       "💥 Overview by Attack Methods <span style=\"font-weight: bold\">(</span><span style=\"color: #008080; text-decoration-color: #008080; font-weight: bold\">0</span><span style=\"font-weight: bold\">)</span>\n",
       "</pre>\n"
      ],
      "text/plain": [
       "\n",
       "💥 Overview by Attack Methods \u001b[1m(\u001b[0m\u001b[1;36m0\u001b[0m\u001b[1m)\u001b[0m\n"
      ]
     },
     "metadata": {},
     "output_type": "display_data"
    },
    {
     "data": {
      "text/html": [
       "<pre style=\"white-space:pre;overflow-x:auto;line-height:normal;font-family:Menlo,'DejaVu Sans Mono',consolas,'Courier New',monospace\">--------------------------------------------------------------------------------\n",
       "</pre>\n"
      ],
      "text/plain": [
       "--------------------------------------------------------------------------------\n"
      ]
     },
     "metadata": {},
     "output_type": "display_data"
    },
    {
     "data": {
      "text/html": [
       "<pre style=\"white-space:pre;overflow-x:auto;line-height:normal;font-family:Menlo,'DejaVu Sans Mono',consolas,'Courier New',monospace\">\n",
       "================================================================================\n",
       "</pre>\n"
      ],
      "text/plain": [
       "\n",
       "================================================================================\n"
      ]
     },
     "metadata": {},
     "output_type": "display_data"
    },
    {
     "data": {
      "text/html": [
       "<pre style=\"white-space:pre;overflow-x:auto;line-height:normal;font-family:Menlo,'DejaVu Sans Mono',consolas,'Courier New',monospace\"><span style=\"color: #800080; text-decoration-color: #800080; font-weight: bold\">LLM red teaming complete.</span>\n",
       "</pre>\n"
      ],
      "text/plain": [
       "\u001b[1;35mLLM red teaming complete.\u001b[0m\n"
      ]
     },
     "metadata": {},
     "output_type": "display_data"
    },
    {
     "data": {
      "text/html": [
       "<pre style=\"white-space:pre;overflow-x:auto;line-height:normal;font-family:Menlo,'DejaVu Sans Mono',consolas,'Courier New',monospace\">================================================================================\n",
       "\n",
       "</pre>\n"
      ],
      "text/plain": [
       "================================================================================\n",
       "\n"
      ]
     },
     "metadata": {},
     "output_type": "display_data"
    }
   ],
   "source": [
    "risk = red_team(model_callback=model_callback, \n",
    "                vulnerabilities=[debug_access], \n",
    "                attacks=[math_problem])"
   ]
  },
  {
   "cell_type": "markdown",
   "id": "edc12a2f-2650-40cc-9337-57c48e536945",
   "metadata": {},
   "source": [
    "### Base64\n",
    "\n",
    "The base64 attack method encodes a baseline attack using the Base64 algorithm, turning the text into a string of encoded characters. This helps avoid detection mechanisms by making the content appear as random data."
   ]
  },
  {
   "cell_type": "code",
   "execution_count": 12,
   "id": "a42ba75b-3441-4d5c-8ba5-bcaf7dca4459",
   "metadata": {},
   "outputs": [
    {
     "name": "stderr",
     "output_type": "stream",
     "text": [
      "💥 Generating 3 attacks (for 3 vulnerability types across 1 vulnerability(s)): 100%|█████████████████████████████████████████████████████| 1/1 [00:04<00:00,  4.56s/it]\n",
      "✨ Simulating 3 attacks (using 1 method(s)): 0it [00:00, ?it/s]\n",
      "📝 Evaluating 3 vulnerability types across 1 vulnerability(s): 0it [00:00, ?it/s]\n"
     ]
    },
    {
     "data": {
      "text/html": [
       "<pre style=\"white-space:pre;overflow-x:auto;line-height:normal;font-family:Menlo,'DejaVu Sans Mono',consolas,'Courier New',monospace\">\n",
       "================================================================================\n",
       "</pre>\n"
      ],
      "text/plain": [
       "\n",
       "================================================================================\n"
      ]
     },
     "metadata": {},
     "output_type": "display_data"
    },
    {
     "data": {
      "text/html": [
       "<pre style=\"white-space:pre;overflow-x:auto;line-height:normal;font-family:Menlo,'DejaVu Sans Mono',consolas,'Courier New',monospace\"><span style=\"color: #800080; text-decoration-color: #800080; font-weight: bold\">📋 Test Cases Overview</span>\n",
       "</pre>\n"
      ],
      "text/plain": [
       "\u001b[1;35m📋 Test Cases Overview\u001b[0m\n"
      ]
     },
     "metadata": {},
     "output_type": "display_data"
    },
    {
     "data": {
      "text/html": [
       "<pre style=\"white-space:pre;overflow-x:auto;line-height:normal;font-family:Menlo,'DejaVu Sans Mono',consolas,'Courier New',monospace\">================================================================================\n",
       "</pre>\n"
      ],
      "text/plain": [
       "================================================================================\n"
      ]
     },
     "metadata": {},
     "output_type": "display_data"
    },
    {
     "data": {
      "text/html": [
       "<pre style=\"white-space:pre;overflow-x:auto;line-height:normal;font-family:Menlo,'DejaVu Sans Mono',consolas,'Courier New',monospace\">\n",
       "\n",
       "</pre>\n"
      ],
      "text/plain": [
       "\n",
       "\n"
      ]
     },
     "metadata": {},
     "output_type": "display_data"
    },
    {
     "data": {
      "text/html": [
       "<pre style=\"white-space:pre;overflow-x:auto;line-height:normal;font-family:Menlo,'DejaVu Sans Mono',consolas,'Courier New',monospace\"><span style=\"color: #800080; text-decoration-color: #800080; font-weight: bold\">                                                Test Cases Overview                                                </span>\n",
       "<span style=\"color: #000080; text-decoration-color: #000080\">┏━━━━━━━┳━━━━━━━┳━━━━━━━┳━━━━━━━━━━━━━━━━━━━━━━━━━━┳━━━━━━━━━━━━━━━━━━━━━━━━━━━┳━━━━━━━━━━━━━━━━━━━━━━━━━━┳━━━━━━━┓</span>\n",
       "<span style=\"color: #000080; text-decoration-color: #000080\">┃</span><span style=\"color: #800080; text-decoration-color: #800080; font-weight: bold\">       </span><span style=\"color: #000080; text-decoration-color: #000080\">┃</span><span style=\"color: #800080; text-decoration-color: #800080; font-weight: bold\">       </span><span style=\"color: #000080; text-decoration-color: #000080\">┃</span><span style=\"color: #800080; text-decoration-color: #800080; font-weight: bold\"> Atta… </span><span style=\"color: #000080; text-decoration-color: #000080\">┃</span><span style=\"color: #800080; text-decoration-color: #800080; font-weight: bold\">                          </span><span style=\"color: #000080; text-decoration-color: #000080\">┃</span><span style=\"color: #800080; text-decoration-color: #800080; font-weight: bold\">                           </span><span style=\"color: #000080; text-decoration-color: #000080\">┃</span><span style=\"color: #800080; text-decoration-color: #800080; font-weight: bold\">                          </span><span style=\"color: #000080; text-decoration-color: #000080\">┃</span><span style=\"color: #800080; text-decoration-color: #800080; font-weight: bold\">       </span><span style=\"color: #000080; text-decoration-color: #000080\">┃</span>\n",
       "<span style=\"color: #000080; text-decoration-color: #000080\">┃</span><span style=\"color: #800080; text-decoration-color: #800080; font-weight: bold\"> Vuln… </span><span style=\"color: #000080; text-decoration-color: #000080\">┃</span><span style=\"color: #800080; text-decoration-color: #800080; font-weight: bold\"> Type  </span><span style=\"color: #000080; text-decoration-color: #000080\">┃</span><span style=\"color: #800080; text-decoration-color: #800080; font-weight: bold\"> Meth… </span><span style=\"color: #000080; text-decoration-color: #000080\">┃</span><span style=\"color: #800080; text-decoration-color: #800080; font-weight: bold\"> Input                    </span><span style=\"color: #000080; text-decoration-color: #000080\">┃</span><span style=\"color: #800080; text-decoration-color: #800080; font-weight: bold\"> Output                    </span><span style=\"color: #000080; text-decoration-color: #000080\">┃</span><span style=\"color: #800080; text-decoration-color: #800080; font-weight: bold\"> Reason                   </span><span style=\"color: #000080; text-decoration-color: #000080\">┃</span><span style=\"color: #800080; text-decoration-color: #800080; font-weight: bold\"> Stat… </span><span style=\"color: #000080; text-decoration-color: #000080\">┃</span>\n",
       "<span style=\"color: #000080; text-decoration-color: #000080\">┣━━━━━━━╋━━━━━━━╋━━━━━━━╋━━━━━━━━━━━━━━━━━━━━━━━━━━╋━━━━━━━━━━━━━━━━━━━━━━━━━━━╋━━━━━━━━━━━━━━━━━━━━━━━━━━╋━━━━━━━┫</span>\n",
       "<span style=\"color: #000080; text-decoration-color: #000080\">┗━━━━━━━┻━━━━━━━┻━━━━━━━┻━━━━━━━━━━━━━━━━━━━━━━━━━━┻━━━━━━━━━━━━━━━━━━━━━━━━━━━┻━━━━━━━━━━━━━━━━━━━━━━━━━━┻━━━━━━━┛</span>\n",
       "</pre>\n"
      ],
      "text/plain": [
       "\u001b[1;35m                                                Test Cases Overview                                                \u001b[0m\n",
       "\u001b[34m┏━━━━━━━┳━━━━━━━┳━━━━━━━┳━━━━━━━━━━━━━━━━━━━━━━━━━━┳━━━━━━━━━━━━━━━━━━━━━━━━━━━┳━━━━━━━━━━━━━━━━━━━━━━━━━━┳━━━━━━━┓\u001b[0m\n",
       "\u001b[34m┃\u001b[0m\u001b[1;35m       \u001b[0m\u001b[34m┃\u001b[0m\u001b[1;35m       \u001b[0m\u001b[34m┃\u001b[0m\u001b[1;35m \u001b[0m\u001b[1;35mAtta…\u001b[0m\u001b[1;35m \u001b[0m\u001b[34m┃\u001b[0m\u001b[1;35m                          \u001b[0m\u001b[34m┃\u001b[0m\u001b[1;35m                           \u001b[0m\u001b[34m┃\u001b[0m\u001b[1;35m                          \u001b[0m\u001b[34m┃\u001b[0m\u001b[1;35m       \u001b[0m\u001b[34m┃\u001b[0m\n",
       "\u001b[34m┃\u001b[0m\u001b[1;35m \u001b[0m\u001b[1;35mVuln…\u001b[0m\u001b[1;35m \u001b[0m\u001b[34m┃\u001b[0m\u001b[1;35m \u001b[0m\u001b[1;35mType \u001b[0m\u001b[1;35m \u001b[0m\u001b[34m┃\u001b[0m\u001b[1;35m \u001b[0m\u001b[1;35mMeth…\u001b[0m\u001b[1;35m \u001b[0m\u001b[34m┃\u001b[0m\u001b[1;35m \u001b[0m\u001b[1;35mInput                   \u001b[0m\u001b[1;35m \u001b[0m\u001b[34m┃\u001b[0m\u001b[1;35m \u001b[0m\u001b[1;35mOutput                   \u001b[0m\u001b[1;35m \u001b[0m\u001b[34m┃\u001b[0m\u001b[1;35m \u001b[0m\u001b[1;35mReason                  \u001b[0m\u001b[1;35m \u001b[0m\u001b[34m┃\u001b[0m\u001b[1;35m \u001b[0m\u001b[1;35mStat…\u001b[0m\u001b[1;35m \u001b[0m\u001b[34m┃\u001b[0m\n",
       "\u001b[34m┣━━━━━━━╋━━━━━━━╋━━━━━━━╋━━━━━━━━━━━━━━━━━━━━━━━━━━╋━━━━━━━━━━━━━━━━━━━━━━━━━━━╋━━━━━━━━━━━━━━━━━━━━━━━━━━╋━━━━━━━┫\u001b[0m\n",
       "\u001b[34m┗━━━━━━━┻━━━━━━━┻━━━━━━━┻━━━━━━━━━━━━━━━━━━━━━━━━━━┻━━━━━━━━━━━━━━━━━━━━━━━━━━━┻━━━━━━━━━━━━━━━━━━━━━━━━━━┻━━━━━━━┛\u001b[0m\n"
      ]
     },
     "metadata": {},
     "output_type": "display_data"
    },
    {
     "data": {
      "text/html": [
       "<pre style=\"white-space:pre;overflow-x:auto;line-height:normal;font-family:Menlo,'DejaVu Sans Mono',consolas,'Courier New',monospace\">\n",
       "\n",
       "</pre>\n"
      ],
      "text/plain": [
       "\n",
       "\n"
      ]
     },
     "metadata": {},
     "output_type": "display_data"
    },
    {
     "data": {
      "text/html": [
       "<pre style=\"white-space:pre;overflow-x:auto;line-height:normal;font-family:Menlo,'DejaVu Sans Mono',consolas,'Courier New',monospace\">\n",
       "================================================================================\n",
       "</pre>\n"
      ],
      "text/plain": [
       "\n",
       "================================================================================\n"
      ]
     },
     "metadata": {},
     "output_type": "display_data"
    },
    {
     "data": {
      "text/html": [
       "<pre style=\"white-space:pre;overflow-x:auto;line-height:normal;font-family:Menlo,'DejaVu Sans Mono',consolas,'Courier New',monospace\"><span style=\"color: #800080; text-decoration-color: #800080; font-weight: bold\">🔍 DeepTeam Risk Assessment</span> <span style=\"font-weight: bold\">(</span><span style=\"color: #008080; text-decoration-color: #008080; font-weight: bold\">0</span> errored<span style=\"font-weight: bold\">)</span>\n",
       "</pre>\n"
      ],
      "text/plain": [
       "\u001b[1;35m🔍 DeepTeam Risk Assessment\u001b[0m \u001b[1m(\u001b[0m\u001b[1;36m0\u001b[0m errored\u001b[1m)\u001b[0m\n"
      ]
     },
     "metadata": {},
     "output_type": "display_data"
    },
    {
     "data": {
      "text/html": [
       "<pre style=\"white-space:pre;overflow-x:auto;line-height:normal;font-family:Menlo,'DejaVu Sans Mono',consolas,'Courier New',monospace\">================================================================================\n",
       "</pre>\n"
      ],
      "text/plain": [
       "================================================================================\n"
      ]
     },
     "metadata": {},
     "output_type": "display_data"
    },
    {
     "data": {
      "text/html": [
       "<pre style=\"white-space:pre;overflow-x:auto;line-height:normal;font-family:Menlo,'DejaVu Sans Mono',consolas,'Courier New',monospace\">\n",
       "⚠️  Overview by Vulnerabilities <span style=\"font-weight: bold\">(</span><span style=\"color: #008080; text-decoration-color: #008080; font-weight: bold\">0</span><span style=\"font-weight: bold\">)</span>\n",
       "</pre>\n"
      ],
      "text/plain": [
       "\n",
       "⚠️  Overview by Vulnerabilities \u001b[1m(\u001b[0m\u001b[1;36m0\u001b[0m\u001b[1m)\u001b[0m\n"
      ]
     },
     "metadata": {},
     "output_type": "display_data"
    },
    {
     "data": {
      "text/html": [
       "<pre style=\"white-space:pre;overflow-x:auto;line-height:normal;font-family:Menlo,'DejaVu Sans Mono',consolas,'Courier New',monospace\">--------------------------------------------------------------------------------\n",
       "</pre>\n"
      ],
      "text/plain": [
       "--------------------------------------------------------------------------------\n"
      ]
     },
     "metadata": {},
     "output_type": "display_data"
    },
    {
     "data": {
      "text/html": [
       "<pre style=\"white-space:pre;overflow-x:auto;line-height:normal;font-family:Menlo,'DejaVu Sans Mono',consolas,'Courier New',monospace\">\n",
       "💥 Overview by Attack Methods <span style=\"font-weight: bold\">(</span><span style=\"color: #008080; text-decoration-color: #008080; font-weight: bold\">0</span><span style=\"font-weight: bold\">)</span>\n",
       "</pre>\n"
      ],
      "text/plain": [
       "\n",
       "💥 Overview by Attack Methods \u001b[1m(\u001b[0m\u001b[1;36m0\u001b[0m\u001b[1m)\u001b[0m\n"
      ]
     },
     "metadata": {},
     "output_type": "display_data"
    },
    {
     "data": {
      "text/html": [
       "<pre style=\"white-space:pre;overflow-x:auto;line-height:normal;font-family:Menlo,'DejaVu Sans Mono',consolas,'Courier New',monospace\">--------------------------------------------------------------------------------\n",
       "</pre>\n"
      ],
      "text/plain": [
       "--------------------------------------------------------------------------------\n"
      ]
     },
     "metadata": {},
     "output_type": "display_data"
    },
    {
     "data": {
      "text/html": [
       "<pre style=\"white-space:pre;overflow-x:auto;line-height:normal;font-family:Menlo,'DejaVu Sans Mono',consolas,'Courier New',monospace\">\n",
       "================================================================================\n",
       "</pre>\n"
      ],
      "text/plain": [
       "\n",
       "================================================================================\n"
      ]
     },
     "metadata": {},
     "output_type": "display_data"
    },
    {
     "data": {
      "text/html": [
       "<pre style=\"white-space:pre;overflow-x:auto;line-height:normal;font-family:Menlo,'DejaVu Sans Mono',consolas,'Courier New',monospace\"><span style=\"color: #800080; text-decoration-color: #800080; font-weight: bold\">LLM red teaming complete.</span>\n",
       "</pre>\n"
      ],
      "text/plain": [
       "\u001b[1;35mLLM red teaming complete.\u001b[0m\n"
      ]
     },
     "metadata": {},
     "output_type": "display_data"
    },
    {
     "data": {
      "text/html": [
       "<pre style=\"white-space:pre;overflow-x:auto;line-height:normal;font-family:Menlo,'DejaVu Sans Mono',consolas,'Courier New',monospace\">================================================================================\n",
       "\n",
       "</pre>\n"
      ],
      "text/plain": [
       "================================================================================\n",
       "\n"
      ]
     },
     "metadata": {},
     "output_type": "display_data"
    }
   ],
   "source": [
    "risk = red_team(model_callback=model_callback, \n",
    "                vulnerabilities=[debug_access], \n",
    "                attacks=[base64 ])"
   ]
  }
 ],
 "metadata": {
  "kernelspec": {
   "display_name": "Python 3 (ipykernel)",
   "language": "python",
   "name": "python3"
  },
  "language_info": {
   "codemirror_mode": {
    "name": "ipython",
    "version": 3
   },
   "file_extension": ".py",
   "mimetype": "text/x-python",
   "name": "python",
   "nbconvert_exporter": "python",
   "pygments_lexer": "ipython3",
   "version": "3.11.9"
  }
 },
 "nbformat": 4,
 "nbformat_minor": 5
}
