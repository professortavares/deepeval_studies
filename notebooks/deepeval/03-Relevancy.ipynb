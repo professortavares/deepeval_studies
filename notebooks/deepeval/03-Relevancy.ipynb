{
 "cells": [
  {
   "cell_type": "markdown",
   "id": "90ca5b04-f708-4553-86c1-733d85e921a3",
   "metadata": {},
   "source": [
    "In the world of large-language-model (LLM) systems, **relevancy** is the measure of **how well a piece of content—or the model’s action—satisfies the user’s expressed information need**. Put another way, it answers the question: *“Is this what I asked for?”*\n",
    "\n",
    "---\n",
    "\n",
    "### Where “relevancy” shows up\n",
    "\n",
    "| Stage in an LLM pipeline                 | Why relevancy matters there                                                                                                             |\n",
    "| ---------------------------------------- | --------------------------------------------------------------------------------------------------------------------------------------- |\n",
    "| **Retrieval-Augmented Generation (RAG)** | The search component must fetch documents that actually cover the user’s topic; otherwise the generator has nothing solid to ground on. |\n",
    "| **Few-shot or tool selection**           | Picking examples or calling the right function only helps if those choices match the task the user posed.                               |\n",
    "| **Answer generation**                    | Even with perfect sources, the LLM can drift off-topic—relevancy keeps the narrative anchored to the user’s question.                   |\n",
    "| **Recommendation & ranking tasks**       | Ordering search hits or product ideas depends on estimating which hits best meet intent.                                                |\n",
    "\n",
    "### The bottom line\n",
    "\n",
    "Relevancy is the *first gate* to usefulness. An LLM can be perfectly fluent and factually correct, yet still fail the user if it neglects the real intent behind their request. High-performing systems therefore layer lexical + semantic retrieval, reranking, and post-generation audits—so that what the model finally says (or does) stays squarely on target.\n"
   ]
  },
  {
   "cell_type": "code",
   "execution_count": 1,
   "id": "69a34f26-7e85-45ba-8389-adcba3f14599",
   "metadata": {},
   "outputs": [],
   "source": [
    "import os\n",
    "import wikipedia\n",
    "import tiktoken\n",
    "from langchain_openai import ChatOpenAI\n",
    "from langchain_ollama import ChatOllama\n",
    "from langchain.schema import SystemMessage, HumanMessage\n",
    "from IPython.display import display, Markdown\n",
    "from pathlib import Path\n",
    "from dotenv import load_dotenv\n",
    "\n",
    "from deepeval import evaluate\n",
    "from deepeval.metrics import AnswerRelevancyMetric\n",
    "from deepeval.test_case import LLMTestCase"
   ]
  },
  {
   "cell_type": "code",
   "execution_count": 2,
   "id": "bc2e29e9-7cbd-4237-9c92-72a135efa09d",
   "metadata": {},
   "outputs": [
    {
     "data": {
      "text/plain": [
       "True"
      ]
     },
     "execution_count": 2,
     "metadata": {},
     "output_type": "execute_result"
    }
   ],
   "source": [
    "dotenv_path = Path(\"../../.env\")\n",
    "load_dotenv(dotenv_path=dotenv_path)"
   ]
  },
  {
   "cell_type": "code",
   "execution_count": 3,
   "id": "d3b5dca4-63e4-4618-8f77-6f144b93735b",
   "metadata": {},
   "outputs": [],
   "source": [
    "os.environ[\"OPENAI_API_KEY\"] = os.getenv(\"OPENAI_API_KEY\")\n",
    "model_eval = ChatOpenAI(model=\"gpt-4o-mini\")"
   ]
  },
  {
   "cell_type": "code",
   "execution_count": 4,
   "id": "7485e461-db15-486a-86f7-64753410952a",
   "metadata": {},
   "outputs": [],
   "source": [
    "enc = tiktoken.get_encoding(\"o200k_base\")"
   ]
  },
  {
   "cell_type": "markdown",
   "id": "270c839e-3259-438c-a795-3241a84df464",
   "metadata": {},
   "source": [
    "## Question"
   ]
  },
  {
   "cell_type": "code",
   "execution_count": 5,
   "id": "f12c9be9-c548-4d32-8110-c6a17c9345e2",
   "metadata": {},
   "outputs": [
    {
     "data": {
      "text/markdown": [
       "**Prompt:**"
      ],
      "text/plain": [
       "<IPython.core.display.Markdown object>"
      ]
     },
     "metadata": {},
     "output_type": "display_data"
    },
    {
     "data": {
      "text/markdown": [
       "----"
      ],
      "text/plain": [
       "<IPython.core.display.Markdown object>"
      ]
     },
     "metadata": {},
     "output_type": "display_data"
    },
    {
     "data": {
      "text/markdown": [
       "\n",
       "Who was Albert Einstein and what did he do?\n"
      ],
      "text/plain": [
       "<IPython.core.display.Markdown object>"
      ]
     },
     "metadata": {},
     "output_type": "display_data"
    },
    {
     "data": {
      "text/markdown": [
       "----"
      ],
      "text/plain": [
       "<IPython.core.display.Markdown object>"
      ]
     },
     "metadata": {},
     "output_type": "display_data"
    },
    {
     "data": {
      "text/markdown": [
       "**Answer:**"
      ],
      "text/plain": [
       "<IPython.core.display.Markdown object>"
      ]
     },
     "metadata": {},
     "output_type": "display_data"
    },
    {
     "data": {
      "text/markdown": [
       "----"
      ],
      "text/plain": [
       "<IPython.core.display.Markdown object>"
      ]
     },
     "metadata": {},
     "output_type": "display_data"
    },
    {
     "data": {
      "text/markdown": [
       "Albert Einstein (1879-1955) was a renowned German-born physicist who is widely regarded as one of the most influential scientists of the 20th century. He is best known for his groundbreaking work in theoretical physics, particularly in the development of the theory of relativity and the famous equation E=mc².\n",
       "\n",
       "Early Life and Education:\n",
       "Einstein was born in Munich, Germany, to a Jewish family. He grew up in a middle-class household and showed exceptional curiosity and interest in science from an early age. He studied physics at the Swiss Federal Polytechnic University and later worked as a patent clerk in Bern, Switzerland.\n",
       "\n",
       "Contributions to Physics:\n",
       "Einstein's contributions to physics are numerous and far-reaching. Some of his most notable achievements include:\n",
       "\n",
       "1. **Theory of Special Relativity (1905)**: Einstein challenged the long-held notion of absolute time and space by introducing the concept of relative motion and time dilation.\n",
       "2. **Theory of General Relativity (1915)**: He developed a new understanding of gravity as the curvature of spacetime caused by massive objects, revolutionizing our understanding of the universe.\n",
       "3. **Photons and Quantum Mechanics**: Einstein's work on the photoelectric effect led to the development of quantum mechanics and the concept of wave-particle duality.\n",
       "4. **E=mc²**: His famous equation demonstrates the equivalence of mass and energy and has had a profound impact on our understanding of nuclear reactions.\n",
       "\n",
       "Awards and Recognition:\n",
       "Einstein received numerous awards and honors for his contributions to science, including:\n",
       "\n",
       "* Nobel Prize in Physics (1921)\n",
       "* Copley Medal (1925)\n",
       "* Max Planck Medal (1929)\n",
       "\n",
       "Philosophy and Legacy:\n",
       "In addition to his scientific achievements, Einstein was a passionate advocate for peace, civil rights, and social justice. He believed that science should be used to promote understanding and cooperation among nations. His famous quote, \"Imagination is more important than knowledge,\" reflects his emphasis on the power of creativity and imagination in shaping our world.\n",
       "\n",
       "Einstein's legacy extends far beyond his scientific contributions. He remains an icon of intellectual curiosity, creative thinking, and the importance of pursuing one's passions."
      ],
      "text/plain": [
       "<IPython.core.display.Markdown object>"
      ]
     },
     "metadata": {},
     "output_type": "display_data"
    },
    {
     "data": {
      "text/markdown": [
       "----"
      ],
      "text/plain": [
       "<IPython.core.display.Markdown object>"
      ]
     },
     "metadata": {},
     "output_type": "display_data"
    }
   ],
   "source": [
    "chat = ChatOllama(model=\"llama3.2\")\n",
    "\n",
    "prompt = f\"\"\"\n",
    "Who was Albert Einstein and what did he do?\n",
    "\"\"\"\n",
    "\n",
    "response = chat.invoke(prompt)\n",
    "answer = response.content\n",
    "\n",
    "display(Markdown(f\"**Prompt:**\"))\n",
    "display(Markdown(f\"----\"))\n",
    "display(Markdown(prompt))\n",
    "display(Markdown(f\"----\"))\n",
    "\n",
    "display(Markdown(f\"**Answer:**\"))\n",
    "display(Markdown(f\"----\"))\n",
    "display(Markdown(f\"{answer}\"))\n",
    "display(Markdown(f\"----\"))"
   ]
  },
  {
   "cell_type": "markdown",
   "id": "e46e884d-e843-4b3e-83c3-487ff139f3ea",
   "metadata": {},
   "source": [
    "## Relevancy evaluation"
   ]
  },
  {
   "cell_type": "code",
   "execution_count": 6,
   "id": "b0500cbd-5f8a-4aa5-9497-bd10b7341982",
   "metadata": {},
   "outputs": [
    {
     "data": {
      "text/html": [
       "<pre style=\"white-space:pre;overflow-x:auto;line-height:normal;font-family:Menlo,'DejaVu Sans Mono',consolas,'Courier New',monospace\">C:\\Users\\leona\\Documents\\GitHub\\deepeval_studies\\.venv\\Lib\\site-packages\\rich\\live.py:231: UserWarning: install \n",
       "\"ipywidgets\" for Jupyter support\n",
       "  warnings.warn('install \"ipywidgets\" for Jupyter support')\n",
       "</pre>\n"
      ],
      "text/plain": [
       "C:\\Users\\leona\\Documents\\GitHub\\deepeval_studies\\.venv\\Lib\\site-packages\\rich\\live.py:231: UserWarning: install \n",
       "\"ipywidgets\" for Jupyter support\n",
       "  warnings.warn('install \"ipywidgets\" for Jupyter support')\n"
      ]
     },
     "metadata": {},
     "output_type": "display_data"
    },
    {
     "data": {
      "text/html": [
       "<pre style=\"white-space:pre;overflow-x:auto;line-height:normal;font-family:Menlo,'DejaVu Sans Mono',consolas,'Courier New',monospace\"></pre>\n"
      ],
      "text/plain": []
     },
     "metadata": {},
     "output_type": "display_data"
    },
    {
     "data": {
      "text/markdown": [
       "**Eval:**"
      ],
      "text/plain": [
       "<IPython.core.display.Markdown object>"
      ]
     },
     "metadata": {},
     "output_type": "display_data"
    },
    {
     "data": {
      "text/markdown": [
       "----"
      ],
      "text/plain": [
       "<IPython.core.display.Markdown object>"
      ]
     },
     "metadata": {},
     "output_type": "display_data"
    },
    {
     "data": {
      "text/markdown": [
       "**Grade**: 0.5555555555555556"
      ],
      "text/plain": [
       "<IPython.core.display.Markdown object>"
      ]
     },
     "metadata": {},
     "output_type": "display_data"
    },
    {
     "data": {
      "text/markdown": [
       "----"
      ],
      "text/plain": [
       "<IPython.core.display.Markdown object>"
      ]
     },
     "metadata": {},
     "output_type": "display_data"
    },
    {
     "data": {
      "text/markdown": [
       "**Reason**: The score is 0.56 because while the output contains some relevant information about Albert Einstein, it includes several irrelevant statements that do not directly address the question of his identity and contributions. These irrelevant details detract from the overall clarity and focus of the response, preventing a higher score."
      ],
      "text/plain": [
       "<IPython.core.display.Markdown object>"
      ]
     },
     "metadata": {},
     "output_type": "display_data"
    },
    {
     "data": {
      "text/markdown": [
       "----"
      ],
      "text/plain": [
       "<IPython.core.display.Markdown object>"
      ]
     },
     "metadata": {},
     "output_type": "display_data"
    }
   ],
   "source": [
    "metric = AnswerRelevancyMetric(\n",
    "    model=\"gpt-4o-mini\",\n",
    "    include_reason=True)\n",
    "\n",
    "test_case = LLMTestCase(\n",
    "    input=prompt,\n",
    "    actual_output=answer\n",
    ")\n",
    "\n",
    "metric.measure(test_case)\n",
    "\n",
    "display(Markdown(f\"**Eval:**\"))\n",
    "display(Markdown(f\"----\"))\n",
    "display(Markdown(f\"**Grade**: {metric.score}\"))\n",
    "display(Markdown(f\"----\"))\n",
    "display(Markdown(f\"**Reason**: {metric.reason}\"))\n",
    "display(Markdown(f\"----\"))"
   ]
  },
  {
   "cell_type": "code",
   "execution_count": null,
   "id": "bae9dc8f-1923-439e-9a06-b7ad5435398c",
   "metadata": {},
   "outputs": [],
   "source": []
  }
 ],
 "metadata": {
  "kernelspec": {
   "display_name": "Python 3 (ipykernel)",
   "language": "python",
   "name": "python3"
  },
  "language_info": {
   "codemirror_mode": {
    "name": "ipython",
    "version": 3
   },
   "file_extension": ".py",
   "mimetype": "text/x-python",
   "name": "python",
   "nbconvert_exporter": "python",
   "pygments_lexer": "ipython3",
   "version": "3.11.9"
  }
 },
 "nbformat": 4,
 "nbformat_minor": 5
}
