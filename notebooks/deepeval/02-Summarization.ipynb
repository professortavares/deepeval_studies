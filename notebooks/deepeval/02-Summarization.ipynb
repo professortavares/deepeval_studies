{
 "cells": [
  {
   "cell_type": "markdown",
   "id": "90ca5b04-f708-4553-86c1-733d85e921a3",
   "metadata": {},
   "source": [
    "In large-language-model (LLM) land, **summarization** is the task of transforming a longer chunk of content—anything from a tweet thread to a 300-page legal brief—into a **shorter, more digestible form that preserves the key information and intent of the source**.\n",
    "\n",
    "---\n",
    "\n",
    "### Why we care\n",
    "\n",
    "| Use-case                  | What a summary unlocks                                    |\n",
    "| ------------------------- | --------------------------------------------------------- |\n",
    "| **News & research**       | Rapid catch-up on breaking stories or new papers.         |\n",
    "| **Enterprise docs**       | Meeting minutes, support tickets, compliance reports.     |\n",
    "| **Personal productivity** | “Too-long-didn’t-read” for emails, articles, group chats. |\n",
    "| **Code reviews**          | Explain what a pull-request changes in plain English.     |\n",
    "\n",
    "---\n",
    "\n",
    "### How LLMs perform summarization under the hood\n",
    "\n",
    "1. **Encoding the source**\n",
    "   The model tokenizes and embeds the input, capturing semantic relations in its hidden states.\n",
    "\n",
    "2. **Decoding with length control**\n",
    "   The decoder (or next-token predictor) is guided—via prompt instructions or tuned loss—to produce far fewer tokens than it consumed.\n",
    "\n",
    "3. **Attention filtering**\n",
    "   Self-attention helps the model decide which spans of the source warrant focus, enabling it to drop peripheral details.\n",
    "\n",
    "4. **Compression strategies**\n",
    "\n",
    "   * *Extractive*: literally copy the most salient sentences/phrases.\n",
    "   * *Abstractive*: paraphrase and synthesize new sentences never seen verbatim in the source (the dominant method in modern LLMs).\n",
    "\n",
    "---\n",
    "\n",
    "### Prompt patterns that steer summarization\n",
    "\n",
    "| Pattern                | Example                                                |\n",
    "| ---------------------- | ------------------------------------------------------ |\n",
    "| **TL;DR**              | “TL;DR: …”                                             |\n",
    "| **Bullets**            | “Summarize the main points as bullet points.”          |\n",
    "| **Headline & tagline** | “Give me a newspaper headline and one-sentence blurb.” |\n",
    "| **Role-specific**      | “Explain this paper so a high-schooler gets it.”       |\n",
    "| **Length hints**       | “≤ 100 words” or “in exactly three sentences.”         |\n",
    "\n",
    "---\n",
    "\n",
    "\n",
    "### Bottom line\n",
    "\n",
    "Summarization with LLMs is *intelligent compression*: selectively re-expressing the essence of a text while striving to remain faithful. Abstractive LLMs outshine classic extractive methods in fluidity and adaptability, but they bring new challenges—chiefly factual drift—that must be countered with careful prompting, retrieval aids, and post-generation verification.\n"
   ]
  },
  {
   "cell_type": "code",
   "execution_count": 1,
   "id": "69a34f26-7e85-45ba-8389-adcba3f14599",
   "metadata": {},
   "outputs": [],
   "source": [
    "import os\n",
    "import wikipedia\n",
    "import tiktoken\n",
    "from langchain_openai import ChatOpenAI\n",
    "from langchain_ollama import ChatOllama\n",
    "from langchain.schema import SystemMessage, HumanMessage\n",
    "from IPython.display import display, Markdown\n",
    "from pathlib import Path\n",
    "from dotenv import load_dotenv\n",
    "\n",
    "from deepeval import evaluate\n",
    "from deepeval.metrics import SummarizationMetric\n",
    "from deepeval.test_case import LLMTestCase"
   ]
  },
  {
   "cell_type": "code",
   "execution_count": 2,
   "id": "bc2e29e9-7cbd-4237-9c92-72a135efa09d",
   "metadata": {},
   "outputs": [
    {
     "data": {
      "text/plain": [
       "True"
      ]
     },
     "execution_count": 2,
     "metadata": {},
     "output_type": "execute_result"
    }
   ],
   "source": [
    "dotenv_path = Path(\"../../.env\")\n",
    "load_dotenv(dotenv_path=dotenv_path)"
   ]
  },
  {
   "cell_type": "code",
   "execution_count": 3,
   "id": "d3b5dca4-63e4-4618-8f77-6f144b93735b",
   "metadata": {},
   "outputs": [],
   "source": [
    "os.environ[\"OPENAI_API_KEY\"] = os.getenv(\"OPENAI_API_KEY\")\n",
    "model_eval = ChatOpenAI(model=\"gpt-4o-mini\")"
   ]
  },
  {
   "cell_type": "code",
   "execution_count": 4,
   "id": "7485e461-db15-486a-86f7-64753410952a",
   "metadata": {},
   "outputs": [],
   "source": [
    "enc = tiktoken.get_encoding(\"o200k_base\")"
   ]
  },
  {
   "cell_type": "markdown",
   "id": "37d99f3d-a1ba-4edb-84c4-c76bf286781e",
   "metadata": {},
   "source": [
    "## Recovering the context (from wikipedia)"
   ]
  },
  {
   "cell_type": "code",
   "execution_count": 5,
   "id": "77671616-237c-44d2-b331-0b7635d3122e",
   "metadata": {},
   "outputs": [
    {
     "data": {
      "text/markdown": [
       "**Context:**"
      ],
      "text/plain": [
       "<IPython.core.display.Markdown object>"
      ]
     },
     "metadata": {},
     "output_type": "display_data"
    },
    {
     "data": {
      "text/markdown": [
       "----"
      ],
      "text/plain": [
       "<IPython.core.display.Markdown object>"
      ]
     },
     "metadata": {},
     "output_type": "display_data"
    },
    {
     "data": {
      "text/markdown": [
       "Albert Einstein (14 March 1879 – 18 April 1955) was a German-born theoretical physicist who is best known for developing the theory of relativity. Einstein also made important contributions to quantum mechanics. His mass–energy equivalence formula E = mc2, which arises from special relativity, has been called \"the world's most famous equation\". He received the 1921 Nobel Prize in Physics for his services to theoretical physics, and especially for his discovery of the law of the photoelectric eff...in\n",
       "Finding aid to Albert Einstein Collection from Center for Jewish History\n",
       "\n",
       "\n",
       "==== Digital collections ====\n",
       "The Digital Einstein Papers — An open-access site for The Collected Papers of Albert Einstein, from Princeton University\n",
       "Albert Einstein Digital Collection from Vassar College Digital Collections\n",
       "Newspaper clippings about Albert Einstein in the 20th Century Press Archives of the ZBW\n",
       "Albert – The Digital Repository of the IAS, which contains many digitized original documents and photographs"
      ],
      "text/plain": [
       "<IPython.core.display.Markdown object>"
      ]
     },
     "metadata": {},
     "output_type": "display_data"
    },
    {
     "data": {
      "text/markdown": [
       "----"
      ],
      "text/plain": [
       "<IPython.core.display.Markdown object>"
      ]
     },
     "metadata": {},
     "output_type": "display_data"
    },
    {
     "data": {
      "text/markdown": [
       "Estimated number of tokens: 17617"
      ],
      "text/plain": [
       "<IPython.core.display.Markdown object>"
      ]
     },
     "metadata": {},
     "output_type": "display_data"
    }
   ],
   "source": [
    "wikipedia.set_lang(\"en\")\n",
    "page = wikipedia.page(\"Albert Einstein\")\n",
    "context = page.content\n",
    "display(Markdown(f\"**Context:**\"))\n",
    "display(Markdown(f\"----\"))\n",
    "display(Markdown(f\"{context[:500]}...{context[-500:]}\"))\n",
    "display(Markdown(f\"----\"))\n",
    "display(Markdown(f\"Estimated number of tokens: {len(enc.encode(context))}\"))"
   ]
  },
  {
   "cell_type": "markdown",
   "id": "270c839e-3259-438c-a795-3241a84df464",
   "metadata": {},
   "source": [
    "## Question"
   ]
  },
  {
   "cell_type": "code",
   "execution_count": 6,
   "id": "f12c9be9-c548-4d32-8110-c6a17c9345e2",
   "metadata": {},
   "outputs": [
    {
     "data": {
      "text/markdown": [
       "**Prompt:**"
      ],
      "text/plain": [
       "<IPython.core.display.Markdown object>"
      ]
     },
     "metadata": {},
     "output_type": "display_data"
    },
    {
     "data": {
      "text/markdown": [
       "----"
      ],
      "text/plain": [
       "<IPython.core.display.Markdown object>"
      ]
     },
     "metadata": {},
     "output_type": "display_data"
    },
    {
     "data": {
      "text/markdown": [
       "\n",
       "\n",
       "Based on the following context:\n",
       "\n",
       "Albert Einstein (14 March 1879 – 18 April 1955) was a German-born theoretical physicist who is best known for developing the theory of relativity. Einstein also made important contributions to quantum mechanics. His mass–energy equivalence formula E = mc2, which arises from special relativity, has been called \"the world's most famous equation\". He received the 1921 Nobel Prize in Physics for his services to theoretical physics, and especially for his discovery o\n",
       "\n",
       "...\n",
       "\n",
       "Princeton University\n",
       "Albert Einstein Digital Collection from Vassar College Digital Collections\n",
       "Newspaper clippings about Albert Einstein in the 20th Century Press Archives of the ZBW\n",
       "Albert – The Digital Repository of the IAS, which contains many digitized original documents and photographs\n",
       "\n",
       "Summarize the life and work of Albert Einstein, emphasizing the following points:\n",
       "- Where he was born and in what year\n",
       "- Who his parents were\n",
       "- Where he studied and worked\n",
       "- What were his main achievements\n",
       "\n"
      ],
      "text/plain": [
       "<IPython.core.display.Markdown object>"
      ]
     },
     "metadata": {},
     "output_type": "display_data"
    },
    {
     "data": {
      "text/markdown": [
       "----"
      ],
      "text/plain": [
       "<IPython.core.display.Markdown object>"
      ]
     },
     "metadata": {},
     "output_type": "display_data"
    },
    {
     "data": {
      "text/markdown": [
       "**Answer:**"
      ],
      "text/plain": [
       "<IPython.core.display.Markdown object>"
      ]
     },
     "metadata": {},
     "output_type": "display_data"
    },
    {
     "data": {
      "text/markdown": [
       "----"
      ],
      "text/plain": [
       "<IPython.core.display.Markdown object>"
      ]
     },
     "metadata": {},
     "output_type": "display_data"
    },
    {
     "data": {
      "text/markdown": [
       "Albert Einstein (1879-1955) was a renowned German-born physicist who is widely regarded as one of the most influential scientists of the 20th century.\n",
       "\n",
       "**Early Life**\n",
       "\n",
       "Einstein was born on March 14, 1879, in Ulm, Kingdom of Württemberg, German Empire, to Hermann and Pauline Einstein. His parents were both Jewish, and his father was an engineer and salesman. Einstein's early life was marked by a curious and imaginative childhood, which laid the foundation for his future scientific endeavors.\n",
       "\n",
       "**Education and Career**\n",
       "\n",
       "Einstein studied physics at the Swiss Federal Polytechnic University in Zurich, where he graduated in 1900 with a degree in physics. He then worked as a patent clerk in Bern, Switzerland, where he evaluated patents related to electrical and mechanical inventions. During this period, Einstein developed his theory of special relativity, which posits that the laws of physics are the same for all observers in uniform motion relative to one another.\n",
       "\n",
       "In 1905, a \"miracle year\" in which Einstein published four groundbreaking papers, including his famous equation E=mc². This paper introduced the concept of mass-energy equivalence and revolutionized our understanding of space, time, and matter.\n",
       "\n",
       "**Main Achievements**\n",
       "\n",
       "Einstein's main achievements include:\n",
       "\n",
       "1. **Theory of Special Relativity (1905)**: Introduced the concept of time dilation, length contraction, and relativity of simultaneity.\n",
       "2. **Theory of General Relativity (1915)**: Described gravity as the curvature of spacetime caused by massive objects. This theory predicted phenomena such as black holes and gravitational waves.\n",
       "3. **Mass-Energy Equivalence (E=mc²)**: Demonstrated that mass and energy are interchangeable, with equal amounts of each being equivalent to a certain amount of energy.\n",
       "4. **Photons and the Photoelectric Effect**: Showed that light is composed of particles called photons, which have both wave-like and particle-like properties.\n",
       "\n",
       "**Legacy**\n",
       "\n",
       "Einstein's work had a profound impact on our understanding of the universe, from the smallest subatomic particles to the vast expanse of cosmological scales. His theories of relativity revolutionized physics, astronomy, and engineering, influencing fields such as quantum mechanics, astrophysics, and nuclear physics.\n",
       "\n",
       "Throughout his life, Einstein was known for his passion for peace, civil rights, and social justice. He was a vocal advocate for these causes, often using his fame to raise awareness about important issues.\n",
       "\n",
       "**Personal Life**\n",
       "\n",
       "Einstein married Mileva Marić in 1903, with whom he had two sons, Hans Albert and Eduard. The couple divorced in 1919. Einstein then married Elsa Löwenthal in 1919, who remained his wife until her death in 1936. He was known for his love of music, particularly violin, and enjoyed playing the violin to relax.\n",
       "\n",
       "Einstein's legacy extends far beyond his scientific contributions, inspiring generations of scientists, thinkers, and humanitarians. His commitment to peace, social justice, and human rights continues to inspire people around the world."
      ],
      "text/plain": [
       "<IPython.core.display.Markdown object>"
      ]
     },
     "metadata": {},
     "output_type": "display_data"
    },
    {
     "data": {
      "text/markdown": [
       "----"
      ],
      "text/plain": [
       "<IPython.core.display.Markdown object>"
      ]
     },
     "metadata": {},
     "output_type": "display_data"
    }
   ],
   "source": [
    "chat = ChatOllama(model=\"llama3.2\")\n",
    "\n",
    "prompt = f\"\"\"\n",
    "Based on the following context:\n",
    "\n",
    "{context}\n",
    "\n",
    "Summarize the life and work of Albert Einstein, emphasizing the following points:\n",
    "- Where he was born and in what year\n",
    "- Who his parents were\n",
    "- Where he studied and worked\n",
    "- What were his main achievements\n",
    "\"\"\"\n",
    "\n",
    "response = chat.invoke(prompt)\n",
    "answer = response.content\n",
    "\n",
    "prompt_aux = f\"\"\"\n",
    "{prompt[:500]}\n",
    "\n",
    "...\n",
    "\n",
    "{prompt[-500:]}\n",
    "\"\"\"\n",
    "\n",
    "display(Markdown(f\"**Prompt:**\"))\n",
    "display(Markdown(f\"----\"))\n",
    "display(Markdown(prompt_aux))\n",
    "display(Markdown(f\"----\"))\n",
    "\n",
    "display(Markdown(f\"**Answer:**\"))\n",
    "display(Markdown(f\"----\"))\n",
    "display(Markdown(f\"{answer}\"))\n",
    "display(Markdown(f\"----\"))"
   ]
  },
  {
   "cell_type": "markdown",
   "id": "e46e884d-e843-4b3e-83c3-487ff139f3ea",
   "metadata": {},
   "source": [
    "## Summarization evaluation"
   ]
  },
  {
   "cell_type": "code",
   "execution_count": 7,
   "id": "b0500cbd-5f8a-4aa5-9497-bd10b7341982",
   "metadata": {},
   "outputs": [
    {
     "data": {
      "text/html": [
       "<pre style=\"white-space:pre;overflow-x:auto;line-height:normal;font-family:Menlo,'DejaVu Sans Mono',consolas,'Courier New',monospace\">C:\\Users\\leona\\Documents\\GitHub\\deepeval_studies\\.venv\\Lib\\site-packages\\rich\\live.py:231: UserWarning: install \n",
       "\"ipywidgets\" for Jupyter support\n",
       "  warnings.warn('install \"ipywidgets\" for Jupyter support')\n",
       "</pre>\n"
      ],
      "text/plain": [
       "C:\\Users\\leona\\Documents\\GitHub\\deepeval_studies\\.venv\\Lib\\site-packages\\rich\\live.py:231: UserWarning: install \n",
       "\"ipywidgets\" for Jupyter support\n",
       "  warnings.warn('install \"ipywidgets\" for Jupyter support')\n"
      ]
     },
     "metadata": {},
     "output_type": "display_data"
    },
    {
     "data": {
      "text/html": [
       "<pre style=\"white-space:pre;overflow-x:auto;line-height:normal;font-family:Menlo,'DejaVu Sans Mono',consolas,'Courier New',monospace\"></pre>\n"
      ],
      "text/plain": []
     },
     "metadata": {},
     "output_type": "display_data"
    },
    {
     "data": {
      "text/markdown": [
       "**Eval:**"
      ],
      "text/plain": [
       "<IPython.core.display.Markdown object>"
      ]
     },
     "metadata": {},
     "output_type": "display_data"
    },
    {
     "data": {
      "text/markdown": [
       "----"
      ],
      "text/plain": [
       "<IPython.core.display.Markdown object>"
      ]
     },
     "metadata": {},
     "output_type": "display_data"
    },
    {
     "data": {
      "text/markdown": [
       "**Grade**: 0.8333333333333334"
      ],
      "text/plain": [
       "<IPython.core.display.Markdown object>"
      ]
     },
     "metadata": {},
     "output_type": "display_data"
    },
    {
     "data": {
      "text/markdown": [
       "----"
      ],
      "text/plain": [
       "<IPython.core.display.Markdown object>"
      ]
     },
     "metadata": {},
     "output_type": "display_data"
    },
    {
     "data": {
      "text/markdown": [
       "**Reason**: The score is 0.83 because the summary provides additional context about Einstein's family background and personal interests, which enhances understanding, but it lacks some details from the original text that could have been included for a more comprehensive summary."
      ],
      "text/plain": [
       "<IPython.core.display.Markdown object>"
      ]
     },
     "metadata": {},
     "output_type": "display_data"
    },
    {
     "data": {
      "text/markdown": [
       "----"
      ],
      "text/plain": [
       "<IPython.core.display.Markdown object>"
      ]
     },
     "metadata": {},
     "output_type": "display_data"
    }
   ],
   "source": [
    "metric = SummarizationMetric(\n",
    "    model=\"gpt-4o-mini\",\n",
    "    assessment_questions = [\n",
    "        \"Does the answer indicate where he was born?\",\n",
    "        \"Does the answer indicate when he was born?\",\n",
    "        \"Does the answer indicate who his parents were?\",\n",
    "        \"Does the answer indicate where he studied?\",\n",
    "        \"Does the answer indicate where he worked?\",\n",
    "        \"Does the answer indicate what his greatest achievements were?\"\n",
    "    ],    \n",
    "    include_reason=True)\n",
    "\n",
    "test_case = LLMTestCase(\n",
    "    input=context,\n",
    "    actual_output=answer\n",
    ")\n",
    "\n",
    "metric.measure(test_case)\n",
    "\n",
    "display(Markdown(f\"**Eval:**\"))\n",
    "display(Markdown(f\"----\"))\n",
    "display(Markdown(f\"**Grade**: {metric.score}\"))\n",
    "display(Markdown(f\"----\"))\n",
    "display(Markdown(f\"**Reason**: {metric.reason}\"))\n",
    "display(Markdown(f\"----\"))"
   ]
  },
  {
   "cell_type": "code",
   "execution_count": null,
   "id": "bae9dc8f-1923-439e-9a06-b7ad5435398c",
   "metadata": {},
   "outputs": [],
   "source": []
  }
 ],
 "metadata": {
  "kernelspec": {
   "display_name": "Python 3 (ipykernel)",
   "language": "python",
   "name": "python3"
  },
  "language_info": {
   "codemirror_mode": {
    "name": "ipython",
    "version": 3
   },
   "file_extension": ".py",
   "mimetype": "text/x-python",
   "name": "python",
   "nbconvert_exporter": "python",
   "pygments_lexer": "ipython3",
   "version": "3.11.9"
  }
 },
 "nbformat": 4,
 "nbformat_minor": 5
}
