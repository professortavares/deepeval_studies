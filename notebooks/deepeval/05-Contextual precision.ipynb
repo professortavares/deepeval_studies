{
 "cells": [
  {
   "cell_type": "markdown",
   "id": "90ca5b04-f708-4553-86c1-733d85e921a3",
   "metadata": {},
   "source": [
    "# Contextual Precision\n",
    "\n",
    "The contextual precision metric uses LLM-as-a-judge to measure your RAG pipeline's retriever by evaluating whether nodes in your retrieval_context that are relevant to the given input are ranked higher than irrelevant ones. deepeval's contextual precision metric is a self-explaining LLM-Eval, meaning it outputs a reason for its metric score.\n"
   ]
  },
  {
   "cell_type": "code",
   "execution_count": 1,
   "id": "69a34f26-7e85-45ba-8389-adcba3f14599",
   "metadata": {},
   "outputs": [],
   "source": [
    "import os\n",
    "import wikipedia\n",
    "import tiktoken\n",
    "from langchain_openai import ChatOpenAI\n",
    "from langchain_ollama import ChatOllama\n",
    "from langchain.schema import SystemMessage, HumanMessage\n",
    "from IPython.display import display, Markdown\n",
    "from pathlib import Path\n",
    "from dotenv import load_dotenv\n",
    "\n",
    "from deepeval import evaluate\n",
    "from deepeval.metrics import ContextualPrecisionMetric\n",
    "from deepeval.test_case import LLMTestCase"
   ]
  },
  {
   "cell_type": "code",
   "execution_count": 2,
   "id": "bc2e29e9-7cbd-4237-9c92-72a135efa09d",
   "metadata": {},
   "outputs": [
    {
     "data": {
      "text/plain": [
       "True"
      ]
     },
     "execution_count": 2,
     "metadata": {},
     "output_type": "execute_result"
    }
   ],
   "source": [
    "dotenv_path = Path(\"../../.env\")\n",
    "load_dotenv(dotenv_path=dotenv_path)"
   ]
  },
  {
   "cell_type": "code",
   "execution_count": 3,
   "id": "d3b5dca4-63e4-4618-8f77-6f144b93735b",
   "metadata": {},
   "outputs": [],
   "source": [
    "os.environ[\"OPENAI_API_KEY\"] = os.getenv(\"OPENAI_API_KEY\")\n",
    "model_eval = ChatOpenAI(model=\"gpt-4o-mini\")"
   ]
  },
  {
   "cell_type": "code",
   "execution_count": 4,
   "id": "7485e461-db15-486a-86f7-64753410952a",
   "metadata": {},
   "outputs": [],
   "source": [
    "enc = tiktoken.get_encoding(\"o200k_base\")"
   ]
  },
  {
   "cell_type": "markdown",
   "id": "37d99f3d-a1ba-4edb-84c4-c76bf286781e",
   "metadata": {},
   "source": [
    "## Recovering the context (from wikipedia)"
   ]
  },
  {
   "cell_type": "code",
   "execution_count": 5,
   "id": "77671616-237c-44d2-b331-0b7635d3122e",
   "metadata": {},
   "outputs": [
    {
     "data": {
      "text/markdown": [
       "**Context:**"
      ],
      "text/plain": [
       "<IPython.core.display.Markdown object>"
      ]
     },
     "metadata": {},
     "output_type": "display_data"
    },
    {
     "data": {
      "text/markdown": [
       "----"
      ],
      "text/plain": [
       "<IPython.core.display.Markdown object>"
      ]
     },
     "metadata": {},
     "output_type": "display_data"
    },
    {
     "data": {
      "text/markdown": [
       "Albert Einstein (14 March 1879 – 18 April 1955) was a German-born theoretical physicist who is best known for developing the theory of relativity. Einstein also made important contributions to quantum mechanics. His mass–energy equivalence formula E = mc2, which arises from special relativity, has been called \"the world's most famous equation\". He received the 1921 Nobel Prize in Physics for his services to theoretical physics, and especially for his discovery of the law of the photoelectric eff...in\n",
       "Finding aid to Albert Einstein Collection from Center for Jewish History\n",
       "\n",
       "\n",
       "==== Digital collections ====\n",
       "The Digital Einstein Papers — An open-access site for The Collected Papers of Albert Einstein, from Princeton University\n",
       "Albert Einstein Digital Collection from Vassar College Digital Collections\n",
       "Newspaper clippings about Albert Einstein in the 20th Century Press Archives of the ZBW\n",
       "Albert – The Digital Repository of the IAS, which contains many digitized original documents and photographs"
      ],
      "text/plain": [
       "<IPython.core.display.Markdown object>"
      ]
     },
     "metadata": {},
     "output_type": "display_data"
    },
    {
     "data": {
      "text/markdown": [
       "----"
      ],
      "text/plain": [
       "<IPython.core.display.Markdown object>"
      ]
     },
     "metadata": {},
     "output_type": "display_data"
    },
    {
     "data": {
      "text/markdown": [
       "Estimated number of tokens: 17617"
      ],
      "text/plain": [
       "<IPython.core.display.Markdown object>"
      ]
     },
     "metadata": {},
     "output_type": "display_data"
    }
   ],
   "source": [
    "wikipedia.set_lang(\"en\")\n",
    "page = wikipedia.page(\"Albert Einstein\")\n",
    "context = page.content\n",
    "display(Markdown(f\"**Context:**\"))\n",
    "display(Markdown(f\"----\"))\n",
    "display(Markdown(f\"{context[:500]}...{context[-500:]}\"))\n",
    "display(Markdown(f\"----\"))\n",
    "display(Markdown(f\"Estimated number of tokens: {len(enc.encode(context))}\"))"
   ]
  },
  {
   "cell_type": "markdown",
   "id": "270c839e-3259-438c-a795-3241a84df464",
   "metadata": {},
   "source": [
    "## Question"
   ]
  },
  {
   "cell_type": "code",
   "execution_count": 8,
   "id": "f12c9be9-c548-4d32-8110-c6a17c9345e2",
   "metadata": {},
   "outputs": [
    {
     "data": {
      "text/markdown": [
       "**Prompt:**"
      ],
      "text/plain": [
       "<IPython.core.display.Markdown object>"
      ]
     },
     "metadata": {},
     "output_type": "display_data"
    },
    {
     "data": {
      "text/markdown": [
       "----"
      ],
      "text/plain": [
       "<IPython.core.display.Markdown object>"
      ]
     },
     "metadata": {},
     "output_type": "display_data"
    },
    {
     "data": {
      "text/markdown": [
       "\n",
       "In what year was the German scientist Albert Einstein born?\n"
      ],
      "text/plain": [
       "<IPython.core.display.Markdown object>"
      ]
     },
     "metadata": {},
     "output_type": "display_data"
    },
    {
     "data": {
      "text/markdown": [
       "----"
      ],
      "text/plain": [
       "<IPython.core.display.Markdown object>"
      ]
     },
     "metadata": {},
     "output_type": "display_data"
    },
    {
     "data": {
      "text/markdown": [
       "**Answer:**"
      ],
      "text/plain": [
       "<IPython.core.display.Markdown object>"
      ]
     },
     "metadata": {},
     "output_type": "display_data"
    },
    {
     "data": {
      "text/markdown": [
       "----"
      ],
      "text/plain": [
       "<IPython.core.display.Markdown object>"
      ]
     },
     "metadata": {},
     "output_type": "display_data"
    },
    {
     "data": {
      "text/markdown": [
       "Albert Einstein was not a German scientist, he was actually born in Germany (then known as the Kingdom of Württemberg, part of the German Empire) to Swiss parents. He moved to Switzerland at a young age and later became a Swiss citizen.\n",
       "\n",
       "However, I think you may be confusing him with another famous scientist. Albert Einstein is widely recognized for his groundbreaking work in theoretical physics, particularly his theory of relativity.\n",
       "\n",
       "To clarify, Albert Einstein was born on March 14, 1879, in Ulm, Kingdom of Württemberg, German Empire (now part of modern-day Germany)."
      ],
      "text/plain": [
       "<IPython.core.display.Markdown object>"
      ]
     },
     "metadata": {},
     "output_type": "display_data"
    },
    {
     "data": {
      "text/markdown": [
       "----"
      ],
      "text/plain": [
       "<IPython.core.display.Markdown object>"
      ]
     },
     "metadata": {},
     "output_type": "display_data"
    }
   ],
   "source": [
    "chat = ChatOllama(model=\"llama3.2\")\n",
    "\n",
    "prompt = f\"\"\"\n",
    "In what year was the German scientist Albert Einstein born?\n",
    "\"\"\"\n",
    "\n",
    "response = chat.invoke(prompt)\n",
    "answer = response.content\n",
    "\n",
    "display(Markdown(f\"**Prompt:**\"))\n",
    "display(Markdown(f\"----\"))\n",
    "display(Markdown(prompt))\n",
    "display(Markdown(f\"----\"))\n",
    "\n",
    "display(Markdown(f\"**Answer:**\"))\n",
    "display(Markdown(f\"----\"))\n",
    "display(Markdown(f\"{answer}\"))\n",
    "display(Markdown(f\"----\"))"
   ]
  },
  {
   "cell_type": "markdown",
   "id": "e46e884d-e843-4b3e-83c3-487ff139f3ea",
   "metadata": {},
   "source": [
    "## Contextual Precision evaluation"
   ]
  },
  {
   "cell_type": "code",
   "execution_count": 9,
   "id": "b0500cbd-5f8a-4aa5-9497-bd10b7341982",
   "metadata": {},
   "outputs": [
    {
     "data": {
      "text/html": [
       "<pre style=\"white-space:pre;overflow-x:auto;line-height:normal;font-family:Menlo,'DejaVu Sans Mono',consolas,'Courier New',monospace\">C:\\Users\\leona\\Documents\\GitHub\\deepeval_studies\\.venv\\Lib\\site-packages\\rich\\live.py:231: UserWarning: install \n",
       "\"ipywidgets\" for Jupyter support\n",
       "  warnings.warn('install \"ipywidgets\" for Jupyter support')\n",
       "</pre>\n"
      ],
      "text/plain": [
       "C:\\Users\\leona\\Documents\\GitHub\\deepeval_studies\\.venv\\Lib\\site-packages\\rich\\live.py:231: UserWarning: install \n",
       "\"ipywidgets\" for Jupyter support\n",
       "  warnings.warn('install \"ipywidgets\" for Jupyter support')\n"
      ]
     },
     "metadata": {},
     "output_type": "display_data"
    },
    {
     "data": {
      "text/html": [
       "<pre style=\"white-space:pre;overflow-x:auto;line-height:normal;font-family:Menlo,'DejaVu Sans Mono',consolas,'Courier New',monospace\"></pre>\n"
      ],
      "text/plain": []
     },
     "metadata": {},
     "output_type": "display_data"
    },
    {
     "data": {
      "text/markdown": [
       "**Eval:**"
      ],
      "text/plain": [
       "<IPython.core.display.Markdown object>"
      ]
     },
     "metadata": {},
     "output_type": "display_data"
    },
    {
     "data": {
      "text/markdown": [
       "----"
      ],
      "text/plain": [
       "<IPython.core.display.Markdown object>"
      ]
     },
     "metadata": {},
     "output_type": "display_data"
    },
    {
     "data": {
      "text/markdown": [
       "**Grade**: 1.0"
      ],
      "text/plain": [
       "<IPython.core.display.Markdown object>"
      ]
     },
     "metadata": {},
     "output_type": "display_data"
    },
    {
     "data": {
      "text/markdown": [
       "----"
      ],
      "text/plain": [
       "<IPython.core.display.Markdown object>"
      ]
     },
     "metadata": {},
     "output_type": "display_data"
    },
    {
     "data": {
      "text/markdown": [
       "**Reason**: The score is 1.00 because the first node provides a direct answer to the question about Albert Einstein's birth year, stating that he was born in 1879. There are no irrelevant nodes present, which contributes to the perfect score."
      ],
      "text/plain": [
       "<IPython.core.display.Markdown object>"
      ]
     },
     "metadata": {},
     "output_type": "display_data"
    },
    {
     "data": {
      "text/markdown": [
       "----"
      ],
      "text/plain": [
       "<IPython.core.display.Markdown object>"
      ]
     },
     "metadata": {},
     "output_type": "display_data"
    }
   ],
   "source": [
    "metric = ContextualPrecisionMetric(\n",
    "    model=\"gpt-4o-mini\",\n",
    "    include_reason=True)\n",
    "\n",
    "test_case = LLMTestCase(\n",
    "    input=prompt,\n",
    "    actual_output=answer,\n",
    "    expected_output=\"1879\",\n",
    "    retrieval_context=[context]\n",
    ")\n",
    "\n",
    "metric.measure(test_case)\n",
    "\n",
    "display(Markdown(f\"**Eval:**\"))\n",
    "display(Markdown(f\"----\"))\n",
    "display(Markdown(f\"**Grade**: {metric.score}\"))\n",
    "display(Markdown(f\"----\"))\n",
    "display(Markdown(f\"**Reason**: {metric.reason}\"))\n",
    "display(Markdown(f\"----\"))"
   ]
  },
  {
   "cell_type": "code",
   "execution_count": null,
   "id": "bae9dc8f-1923-439e-9a06-b7ad5435398c",
   "metadata": {},
   "outputs": [],
   "source": []
  }
 ],
 "metadata": {
  "kernelspec": {
   "display_name": "Python 3 (ipykernel)",
   "language": "python",
   "name": "python3"
  },
  "language_info": {
   "codemirror_mode": {
    "name": "ipython",
    "version": 3
   },
   "file_extension": ".py",
   "mimetype": "text/x-python",
   "name": "python",
   "nbconvert_exporter": "python",
   "pygments_lexer": "ipython3",
   "version": "3.11.9"
  }
 },
 "nbformat": 4,
 "nbformat_minor": 5
}
