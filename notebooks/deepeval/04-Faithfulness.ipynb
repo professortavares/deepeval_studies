{
 "cells": [
  {
   "cell_type": "markdown",
   "id": "90ca5b04-f708-4553-86c1-733d85e921a3",
   "metadata": {},
   "source": [
    "In large-language-model (LLM) research, **faithfulness** (sometimes called *factual consistency* or *groundedness*) measures **how strictly an LLM’s output adheres to its stated sources, its own earlier reasoning steps, or the user-provided context**. In plainer words: *“Does the model stick to the facts and evidence it was given, without inventing or distorting them?”*\n",
    "\n",
    "---\n",
    "\n",
    "## Why faithfulness matters\n",
    "\n",
    "| Where it crops up                        | Consequences of low faithfulness                                          |\n",
    "| ---------------------------------------- | ------------------------------------------------------------------------- |\n",
    "| **Retrieval-augmented answers**          | Users lose trust if the summary contradicts the very documents it cites.  |\n",
    "| **Chain-of-thought reasoning**           | An elegant derivation is useless if later steps contradict earlier logic. |\n",
    "| **Legal/medical writing**                | Even a single ungrounded statement can be harmful or inadmissible.        |\n",
    "| **Data-to-text (e.g., charts → report)** | Decision makers may act on numbers the model never actually saw.          |\n",
    "\n",
    "---\n",
    "\n",
    "## Bottom line\n",
    "\n",
    "Faithfulness is the **“truth-in-context” filter**: it doesn’t ask whether the world itself agrees, only whether the model’s output can be justified by the evidence at hand or by its own logical steps. High-faithfulness systems combine strong retrieval, clear citing instructions, constrained decoding, and verification loops so that every claim can be traced back to its source—vital for trustworthy deployment in any domain where facts really matter.\n"
   ]
  },
  {
   "cell_type": "code",
   "execution_count": 1,
   "id": "69a34f26-7e85-45ba-8389-adcba3f14599",
   "metadata": {},
   "outputs": [],
   "source": [
    "import os\n",
    "import wikipedia\n",
    "import tiktoken\n",
    "from langchain_openai import ChatOpenAI\n",
    "from langchain_ollama import ChatOllama\n",
    "from langchain.schema import SystemMessage, HumanMessage\n",
    "from IPython.display import display, Markdown\n",
    "from pathlib import Path\n",
    "from dotenv import load_dotenv\n",
    "\n",
    "from deepeval import evaluate\n",
    "from deepeval.metrics import FaithfulnessMetric\n",
    "from deepeval.test_case import LLMTestCase"
   ]
  },
  {
   "cell_type": "code",
   "execution_count": 2,
   "id": "bc2e29e9-7cbd-4237-9c92-72a135efa09d",
   "metadata": {},
   "outputs": [
    {
     "data": {
      "text/plain": [
       "True"
      ]
     },
     "execution_count": 2,
     "metadata": {},
     "output_type": "execute_result"
    }
   ],
   "source": [
    "dotenv_path = Path(\"../../.env\")\n",
    "load_dotenv(dotenv_path=dotenv_path)"
   ]
  },
  {
   "cell_type": "code",
   "execution_count": 3,
   "id": "d3b5dca4-63e4-4618-8f77-6f144b93735b",
   "metadata": {},
   "outputs": [],
   "source": [
    "os.environ[\"OPENAI_API_KEY\"] = os.getenv(\"OPENAI_API_KEY\")\n",
    "model_eval = ChatOpenAI(model=\"gpt-4o-mini\")"
   ]
  },
  {
   "cell_type": "code",
   "execution_count": 4,
   "id": "7485e461-db15-486a-86f7-64753410952a",
   "metadata": {},
   "outputs": [],
   "source": [
    "enc = tiktoken.get_encoding(\"o200k_base\")"
   ]
  },
  {
   "cell_type": "markdown",
   "id": "37d99f3d-a1ba-4edb-84c4-c76bf286781e",
   "metadata": {},
   "source": [
    "## Recovering the context (from wikipedia)"
   ]
  },
  {
   "cell_type": "code",
   "execution_count": 5,
   "id": "77671616-237c-44d2-b331-0b7635d3122e",
   "metadata": {},
   "outputs": [
    {
     "data": {
      "text/markdown": [
       "**Context:**"
      ],
      "text/plain": [
       "<IPython.core.display.Markdown object>"
      ]
     },
     "metadata": {},
     "output_type": "display_data"
    },
    {
     "data": {
      "text/markdown": [
       "----"
      ],
      "text/plain": [
       "<IPython.core.display.Markdown object>"
      ]
     },
     "metadata": {},
     "output_type": "display_data"
    },
    {
     "data": {
      "text/markdown": [
       "Albert Einstein (14 March 1879 – 18 April 1955) was a German-born theoretical physicist who is best known for developing the theory of relativity. Einstein also made important contributions to quantum mechanics. His mass–energy equivalence formula E = mc2, which arises from special relativity, has been called \"the world's most famous equation\". He received the 1921 Nobel Prize in Physics for his services to theoretical physics, and especially for his discovery of the law of the photoelectric eff...in\n",
       "Finding aid to Albert Einstein Collection from Center for Jewish History\n",
       "\n",
       "\n",
       "==== Digital collections ====\n",
       "The Digital Einstein Papers — An open-access site for The Collected Papers of Albert Einstein, from Princeton University\n",
       "Albert Einstein Digital Collection from Vassar College Digital Collections\n",
       "Newspaper clippings about Albert Einstein in the 20th Century Press Archives of the ZBW\n",
       "Albert – The Digital Repository of the IAS, which contains many digitized original documents and photographs"
      ],
      "text/plain": [
       "<IPython.core.display.Markdown object>"
      ]
     },
     "metadata": {},
     "output_type": "display_data"
    },
    {
     "data": {
      "text/markdown": [
       "----"
      ],
      "text/plain": [
       "<IPython.core.display.Markdown object>"
      ]
     },
     "metadata": {},
     "output_type": "display_data"
    },
    {
     "data": {
      "text/markdown": [
       "Estimated number of tokens: 17617"
      ],
      "text/plain": [
       "<IPython.core.display.Markdown object>"
      ]
     },
     "metadata": {},
     "output_type": "display_data"
    }
   ],
   "source": [
    "wikipedia.set_lang(\"en\")\n",
    "page = wikipedia.page(\"Albert Einstein\")\n",
    "context = page.content\n",
    "display(Markdown(f\"**Context:**\"))\n",
    "display(Markdown(f\"----\"))\n",
    "display(Markdown(f\"{context[:500]}...{context[-500:]}\"))\n",
    "display(Markdown(f\"----\"))\n",
    "display(Markdown(f\"Estimated number of tokens: {len(enc.encode(context))}\"))"
   ]
  },
  {
   "cell_type": "markdown",
   "id": "270c839e-3259-438c-a795-3241a84df464",
   "metadata": {},
   "source": [
    "## Question"
   ]
  },
  {
   "cell_type": "code",
   "execution_count": 6,
   "id": "f12c9be9-c548-4d32-8110-c6a17c9345e2",
   "metadata": {},
   "outputs": [
    {
     "data": {
      "text/markdown": [
       "**Prompt:**"
      ],
      "text/plain": [
       "<IPython.core.display.Markdown object>"
      ]
     },
     "metadata": {},
     "output_type": "display_data"
    },
    {
     "data": {
      "text/markdown": [
       "----"
      ],
      "text/plain": [
       "<IPython.core.display.Markdown object>"
      ]
     },
     "metadata": {},
     "output_type": "display_data"
    },
    {
     "data": {
      "text/markdown": [
       "\n",
       "\n",
       "Who was Albert Einstein and what did he do?\n",
       "\n",
       "...\n",
       "\n",
       "\n",
       "Who was Albert Einstein and what did he do?\n"
      ],
      "text/plain": [
       "<IPython.core.display.Markdown object>"
      ]
     },
     "metadata": {},
     "output_type": "display_data"
    },
    {
     "data": {
      "text/markdown": [
       "----"
      ],
      "text/plain": [
       "<IPython.core.display.Markdown object>"
      ]
     },
     "metadata": {},
     "output_type": "display_data"
    },
    {
     "data": {
      "text/markdown": [
       "**Answer:**"
      ],
      "text/plain": [
       "<IPython.core.display.Markdown object>"
      ]
     },
     "metadata": {},
     "output_type": "display_data"
    },
    {
     "data": {
      "text/markdown": [
       "----"
      ],
      "text/plain": [
       "<IPython.core.display.Markdown object>"
      ]
     },
     "metadata": {},
     "output_type": "display_data"
    },
    {
     "data": {
      "text/markdown": [
       "Albert Einstein (1879-1955) was a renowned German-born physicist who is widely regarded as one of the most influential scientists of the 20th century. He is best known for his groundbreaking work in theoretical physics, particularly in the development of the theory of relativity.\n",
       "\n",
       "Einstein's contributions to science and humanity are numerous, but here are some of his most notable achievements:\n",
       "\n",
       "1. **Theory of Relativity**: Einstein introduced two major theories that revolutionized our understanding of space, time, and gravity:\n",
       "\t* **Special Relativity (1905)**: He proposed that the laws of physics are the same for all observers in uniform motion relative to one another. This theory challenged traditional notions of absolute time and space.\n",
       "\t* **General Relativity (1915)**: Einstein expanded his earlier work by introducing the concept of gravity as a curvature of spacetime caused by massive objects. This theory predicted phenomena such as gravitational waves, black holes, and the bending of light around massive objects.\n",
       "\n",
       "2. **Photons and Quantum Mechanics**: Einstein's work on the photoelectric effect led to the development of quantum mechanics. He introduced the concept of wave-particle duality, which posits that particles like electrons can exhibit both wave-like and particle-like behavior.\n",
       "\n",
       "3. **Brownian Motion**: Einstein's work on Brownian motion provided strong evidence for the existence of atoms and molecules by demonstrating that the random movement of particles suspended in a fluid was due to collisions with surrounding molecules.\n",
       "\n",
       "4. **Unified Field Theory**: Einstein spent much of his later career working on a unified field theory, which aimed to reconcile quantum mechanics and general relativity. Although he never completed this work, it laid the foundation for modern theories like supergravity and superstring theory.\n",
       "\n",
       "5. **Peace Activism**: Einstein was an outspoken advocate for peace, civil rights, and social justice. He spoke out against nationalism, militarism, and racism, using his platform to promote international cooperation and understanding.\n",
       "\n",
       "Einstein's impact on science and society extends far beyond his individual contributions. His work has inspired generations of scientists, philosophers, and thinkers, shaping our understanding of the universe, gravity, time, and space."
      ],
      "text/plain": [
       "<IPython.core.display.Markdown object>"
      ]
     },
     "metadata": {},
     "output_type": "display_data"
    },
    {
     "data": {
      "text/markdown": [
       "----"
      ],
      "text/plain": [
       "<IPython.core.display.Markdown object>"
      ]
     },
     "metadata": {},
     "output_type": "display_data"
    }
   ],
   "source": [
    "chat = ChatOllama(model=\"llama3.2\")\n",
    "\n",
    "prompt = f\"\"\"\n",
    "Who was Albert Einstein and what did he do?\"\"\"\n",
    "\n",
    "response = chat.invoke(prompt)\n",
    "answer = response.content\n",
    "\n",
    "display(Markdown(f\"**Prompt:**\"))\n",
    "display(Markdown(f\"----\"))\n",
    "display(Markdown(prompt))\n",
    "display(Markdown(f\"----\"))\n",
    "\n",
    "display(Markdown(f\"**Answer:**\"))\n",
    "display(Markdown(f\"----\"))\n",
    "display(Markdown(f\"{answer}\"))\n",
    "display(Markdown(f\"----\"))"
   ]
  },
  {
   "cell_type": "markdown",
   "id": "e46e884d-e843-4b3e-83c3-487ff139f3ea",
   "metadata": {},
   "source": [
    "## Faithfulness evaluation"
   ]
  },
  {
   "cell_type": "code",
   "execution_count": 7,
   "id": "b0500cbd-5f8a-4aa5-9497-bd10b7341982",
   "metadata": {},
   "outputs": [
    {
     "data": {
      "text/html": [
       "<pre style=\"white-space:pre;overflow-x:auto;line-height:normal;font-family:Menlo,'DejaVu Sans Mono',consolas,'Courier New',monospace\">C:\\Users\\leona\\Documents\\GitHub\\deepeval_studies\\.venv\\Lib\\site-packages\\rich\\live.py:231: UserWarning: install \n",
       "\"ipywidgets\" for Jupyter support\n",
       "  warnings.warn('install \"ipywidgets\" for Jupyter support')\n",
       "</pre>\n"
      ],
      "text/plain": [
       "C:\\Users\\leona\\Documents\\GitHub\\deepeval_studies\\.venv\\Lib\\site-packages\\rich\\live.py:231: UserWarning: install \n",
       "\"ipywidgets\" for Jupyter support\n",
       "  warnings.warn('install \"ipywidgets\" for Jupyter support')\n"
      ]
     },
     "metadata": {},
     "output_type": "display_data"
    },
    {
     "data": {
      "text/html": [
       "<pre style=\"white-space:pre;overflow-x:auto;line-height:normal;font-family:Menlo,'DejaVu Sans Mono',consolas,'Courier New',monospace\"></pre>\n"
      ],
      "text/plain": []
     },
     "metadata": {},
     "output_type": "display_data"
    },
    {
     "data": {
      "text/markdown": [
       "**Eval:**"
      ],
      "text/plain": [
       "<IPython.core.display.Markdown object>"
      ]
     },
     "metadata": {},
     "output_type": "display_data"
    },
    {
     "data": {
      "text/markdown": [
       "----"
      ],
      "text/plain": [
       "<IPython.core.display.Markdown object>"
      ]
     },
     "metadata": {},
     "output_type": "display_data"
    },
    {
     "data": {
      "text/markdown": [
       "**Grade**: 1.0"
      ],
      "text/plain": [
       "<IPython.core.display.Markdown object>"
      ]
     },
     "metadata": {},
     "output_type": "display_data"
    },
    {
     "data": {
      "text/markdown": [
       "----"
      ],
      "text/plain": [
       "<IPython.core.display.Markdown object>"
      ]
     },
     "metadata": {},
     "output_type": "display_data"
    },
    {
     "data": {
      "text/markdown": [
       "**Reason**: The score is 1.00 because there are no contradictions present, indicating that the actual output perfectly aligns with the retrieval context."
      ],
      "text/plain": [
       "<IPython.core.display.Markdown object>"
      ]
     },
     "metadata": {},
     "output_type": "display_data"
    },
    {
     "data": {
      "text/markdown": [
       "----"
      ],
      "text/plain": [
       "<IPython.core.display.Markdown object>"
      ]
     },
     "metadata": {},
     "output_type": "display_data"
    }
   ],
   "source": [
    "metric = FaithfulnessMetric(\n",
    "    model=\"gpt-4o-mini\",\n",
    "    include_reason=True)\n",
    "\n",
    "test_case = LLMTestCase(\n",
    "    input=prompt,\n",
    "    actual_output=answer,\n",
    "    retrieval_context=[context]\n",
    ")\n",
    "\n",
    "metric.measure(test_case)\n",
    "\n",
    "display(Markdown(f\"**Eval:**\"))\n",
    "display(Markdown(f\"----\"))\n",
    "display(Markdown(f\"**Grade**: {metric.score}\"))\n",
    "display(Markdown(f\"----\"))\n",
    "display(Markdown(f\"**Reason**: {metric.reason}\"))\n",
    "display(Markdown(f\"----\"))"
   ]
  },
  {
   "cell_type": "code",
   "execution_count": null,
   "id": "bae9dc8f-1923-439e-9a06-b7ad5435398c",
   "metadata": {},
   "outputs": [],
   "source": []
  }
 ],
 "metadata": {
  "kernelspec": {
   "display_name": "Python 3 (ipykernel)",
   "language": "python",
   "name": "python3"
  },
  "language_info": {
   "codemirror_mode": {
    "name": "ipython",
    "version": 3
   },
   "file_extension": ".py",
   "mimetype": "text/x-python",
   "name": "python",
   "nbconvert_exporter": "python",
   "pygments_lexer": "ipython3",
   "version": "3.11.9"
  }
 },
 "nbformat": 4,
 "nbformat_minor": 5
}
