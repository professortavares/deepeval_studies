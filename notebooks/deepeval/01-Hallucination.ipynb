{
 "cells": [
  {
   "cell_type": "markdown",
   "id": "90ca5b04-f708-4553-86c1-733d85e921a3",
   "metadata": {},
   "source": [
    "In large language models (LLMs), **“hallucination”** is shorthand for any output that is fluent and confident-sounding yet **factually wrong, logically inconsistent, or entirely fabricated**. In other words, the model is “seeing” things that aren’t in its training data or mis-combining information into something untrue.\n",
    "\n",
    "---\n",
    "\n",
    "### Why hallucinations happen\n",
    "\n",
    "| Driver                                     | What’s going on under the hood                                                                                                                                       |\n",
    "| ------------------------------------------ | -------------------------------------------------------------------------------------------------------------------------------------------------------------------- |\n",
    "| **Probabilistic next-token prediction**    | The model always chooses words that *seem* likely in context, not words verified as true. Sometimes the most statistically likely continuation is simply inaccurate. |\n",
    "| **Gaps or noise in training data**         | If the model never saw (or saw conflicting) information about a niche fact, it interpolates or invents details to fill the gap.                                      |\n",
    "| **Prompt ambiguity or over-broad scope**   | Vague queries give the model too much freedom to guess.                                                                                                              |\n",
    "| **Reward-tuning biases**                   | RLHF and similar tuning aim for helpfulness and coherence; they can inadvertently nudge the model to “just answer” even when unsure.                                 |\n",
    "| **Lack of verifiable memory or retrieval** | A vanilla LLM can’t look things up in real time, so it relies solely on compressed internal representations of the world.                                            |\n",
    "\n",
    "---\n",
    "\n",
    "### Common forms\n",
    "\n",
    "1. **Fabricated facts**\n",
    "   *“Dr. Jane Doe won the 2023 Nobel Prize in Physics” (no such person).*\n",
    "\n",
    "2. **Incorrect citations or quotes**\n",
    "   Giving real-looking references that don’t exist, or mis-attributing a quote.\n",
    "\n",
    "3. **Non-existent entities or events**\n",
    "   Inventing journal articles, legal statutes, or even whole conferences.\n",
    "\n",
    "4. **Reasoning errors**\n",
    "   Logical steps that don’t actually entitle the conclusion (e.g., math blunders).\n",
    "\n",
    "---\n",
    "\n",
    "### Bottom line\n",
    "\n",
    "Hallucination isn’t a software bug so much as a side-effect of how LLMs work: they are powerful pattern-completion systems, not truth engines. Effective deployments layer the raw model with retrieval, reasoning tools, and verification steps to keep “imagined” content from leaking into final answers.\n"
   ]
  },
  {
   "cell_type": "code",
   "execution_count": 1,
   "id": "69a34f26-7e85-45ba-8389-adcba3f14599",
   "metadata": {},
   "outputs": [],
   "source": [
    "import os\n",
    "import wikipedia\n",
    "import tiktoken\n",
    "from langchain_openai import ChatOpenAI\n",
    "from langchain_ollama import ChatOllama\n",
    "from langchain.schema import SystemMessage, HumanMessage\n",
    "from IPython.display import display, Markdown\n",
    "from pathlib import Path\n",
    "from dotenv import load_dotenv\n",
    "\n",
    "from deepeval import evaluate\n",
    "from deepeval.metrics import HallucinationMetric\n",
    "from deepeval.test_case import LLMTestCase"
   ]
  },
  {
   "cell_type": "code",
   "execution_count": 2,
   "id": "bc2e29e9-7cbd-4237-9c92-72a135efa09d",
   "metadata": {},
   "outputs": [
    {
     "data": {
      "text/plain": [
       "True"
      ]
     },
     "execution_count": 2,
     "metadata": {},
     "output_type": "execute_result"
    }
   ],
   "source": [
    "dotenv_path = Path(\"../../.env\")\n",
    "load_dotenv(dotenv_path=dotenv_path)"
   ]
  },
  {
   "cell_type": "code",
   "execution_count": 3,
   "id": "d3b5dca4-63e4-4618-8f77-6f144b93735b",
   "metadata": {},
   "outputs": [],
   "source": [
    "os.environ[\"OPENAI_API_KEY\"] = os.getenv(\"OPENAI_API_KEY\")\n",
    "model_eval = ChatOpenAI(model=\"gpt-4o-mini\")"
   ]
  },
  {
   "cell_type": "code",
   "execution_count": 4,
   "id": "7485e461-db15-486a-86f7-64753410952a",
   "metadata": {},
   "outputs": [],
   "source": [
    "enc = tiktoken.get_encoding(\"o200k_base\")"
   ]
  },
  {
   "cell_type": "markdown",
   "id": "37d99f3d-a1ba-4edb-84c4-c76bf286781e",
   "metadata": {},
   "source": [
    "## Recovering the context (from wikipedia)"
   ]
  },
  {
   "cell_type": "code",
   "execution_count": 5,
   "id": "77671616-237c-44d2-b331-0b7635d3122e",
   "metadata": {},
   "outputs": [
    {
     "data": {
      "text/markdown": [
       "**Context:**"
      ],
      "text/plain": [
       "<IPython.core.display.Markdown object>"
      ]
     },
     "metadata": {},
     "output_type": "display_data"
    },
    {
     "data": {
      "text/markdown": [
       "----"
      ],
      "text/plain": [
       "<IPython.core.display.Markdown object>"
      ]
     },
     "metadata": {},
     "output_type": "display_data"
    },
    {
     "data": {
      "text/markdown": [
       "Albert Einstein (14 March 1879 – 18 April 1955) was a German-born theoretical physicist who is best known for developing the theory of relativity. Einstein also made important contributions to quantum mechanics. His mass–energy equivalence formula E = mc2, which arises from special relativity, has been called \"the world's most famous equation\". He received the 1921 Nobel Prize in Physics for his services to theoretical physics, and especially for his discovery of the law of the photoelectric eff...in\n",
       "Finding aid to Albert Einstein Collection from Center for Jewish History\n",
       "\n",
       "\n",
       "==== Digital collections ====\n",
       "The Digital Einstein Papers — An open-access site for The Collected Papers of Albert Einstein, from Princeton University\n",
       "Albert Einstein Digital Collection from Vassar College Digital Collections\n",
       "Newspaper clippings about Albert Einstein in the 20th Century Press Archives of the ZBW\n",
       "Albert – The Digital Repository of the IAS, which contains many digitized original documents and photographs"
      ],
      "text/plain": [
       "<IPython.core.display.Markdown object>"
      ]
     },
     "metadata": {},
     "output_type": "display_data"
    },
    {
     "data": {
      "text/markdown": [
       "----"
      ],
      "text/plain": [
       "<IPython.core.display.Markdown object>"
      ]
     },
     "metadata": {},
     "output_type": "display_data"
    },
    {
     "data": {
      "text/markdown": [
       "Estimated number of tokens: 17617"
      ],
      "text/plain": [
       "<IPython.core.display.Markdown object>"
      ]
     },
     "metadata": {},
     "output_type": "display_data"
    }
   ],
   "source": [
    "wikipedia.set_lang(\"en\")\n",
    "page = wikipedia.page(\"Albert Einstein\")\n",
    "context = page.content\n",
    "display(Markdown(f\"**Context:**\"))\n",
    "display(Markdown(f\"----\"))\n",
    "display(Markdown(f\"{context[:500]}...{context[-500:]}\"))\n",
    "display(Markdown(f\"----\"))\n",
    "display(Markdown(f\"Estimated number of tokens: {len(enc.encode(context))}\"))"
   ]
  },
  {
   "cell_type": "markdown",
   "id": "270c839e-3259-438c-a795-3241a84df464",
   "metadata": {},
   "source": [
    "## Question"
   ]
  },
  {
   "cell_type": "code",
   "execution_count": 6,
   "id": "f12c9be9-c548-4d32-8110-c6a17c9345e2",
   "metadata": {},
   "outputs": [
    {
     "data": {
      "text/markdown": [
       "**Prompt:**"
      ],
      "text/plain": [
       "<IPython.core.display.Markdown object>"
      ]
     },
     "metadata": {},
     "output_type": "display_data"
    },
    {
     "data": {
      "text/markdown": [
       "----"
      ],
      "text/plain": [
       "<IPython.core.display.Markdown object>"
      ]
     },
     "metadata": {},
     "output_type": "display_data"
    },
    {
     "data": {
      "text/markdown": [
       "\n",
       "List 3 of the main achievements of scientist Albert Einstein.\n"
      ],
      "text/plain": [
       "<IPython.core.display.Markdown object>"
      ]
     },
     "metadata": {},
     "output_type": "display_data"
    },
    {
     "data": {
      "text/markdown": [
       "----"
      ],
      "text/plain": [
       "<IPython.core.display.Markdown object>"
      ]
     },
     "metadata": {},
     "output_type": "display_data"
    },
    {
     "data": {
      "text/markdown": [
       "**Answer:**"
      ],
      "text/plain": [
       "<IPython.core.display.Markdown object>"
      ]
     },
     "metadata": {},
     "output_type": "display_data"
    },
    {
     "data": {
      "text/markdown": [
       "----"
      ],
      "text/plain": [
       "<IPython.core.display.Markdown object>"
      ]
     },
     "metadata": {},
     "output_type": "display_data"
    },
    {
     "data": {
      "text/markdown": [
       "Here are three main achievements of scientist Albert Einstein:\n",
       "\n",
       "1. **Theory of Relativity**: Einstein's most famous contribution is his theory of relativity, which revolutionized our understanding of space and time. He introduced the special theory of relativity in 1905, which posits that the laws of physics are the same for all observers in uniform motion relative to one another. In 1915, he expanded this theory to include gravity with his general theory of relativity.\n",
       "\n",
       "2. **E=mc^2**: Einstein's famous equation, E=mc^2, which relates energy (E) and mass (m), is a direct result of his work on the special theory of relativity. This equation shows that mass and energy are interchangeable, which has had a profound impact on our understanding of nuclear physics and the development of nuclear power.\n",
       "\n",
       "3. **Photoelectric Effect**: Einstein's work on the photoelectric effect, published in 1905, was an early contribution to quantum mechanics. He explained how light can behave as particles (now called photons) rather than just waves, which challenged traditional views of light and paved the way for later discoveries in particle physics."
      ],
      "text/plain": [
       "<IPython.core.display.Markdown object>"
      ]
     },
     "metadata": {},
     "output_type": "display_data"
    },
    {
     "data": {
      "text/markdown": [
       "----"
      ],
      "text/plain": [
       "<IPython.core.display.Markdown object>"
      ]
     },
     "metadata": {},
     "output_type": "display_data"
    }
   ],
   "source": [
    "chat = ChatOllama(model=\"llama3.2\")\n",
    "prompt = \"\"\"\n",
    "List 3 of the main achievements of scientist Albert Einstein.\n",
    "\"\"\"\n",
    "\n",
    "response = chat.invoke(prompt)\n",
    "answer = response.content\n",
    "\n",
    "display(Markdown(f\"**Prompt:**\"))\n",
    "display(Markdown(f\"----\"))\n",
    "display(Markdown(prompt))\n",
    "display(Markdown(f\"----\"))\n",
    "\n",
    "display(Markdown(f\"**Answer:**\"))\n",
    "display(Markdown(f\"----\"))\n",
    "display(Markdown(f\"{answer}\"))\n",
    "display(Markdown(f\"----\"))"
   ]
  },
  {
   "cell_type": "markdown",
   "id": "e46e884d-e843-4b3e-83c3-487ff139f3ea",
   "metadata": {},
   "source": [
    "## Hallucination evaluation"
   ]
  },
  {
   "cell_type": "code",
   "execution_count": 7,
   "id": "b0500cbd-5f8a-4aa5-9497-bd10b7341982",
   "metadata": {},
   "outputs": [
    {
     "data": {
      "text/html": [
       "<pre style=\"white-space:pre;overflow-x:auto;line-height:normal;font-family:Menlo,'DejaVu Sans Mono',consolas,'Courier New',monospace\">C:\\Users\\leona\\Documents\\GitHub\\deepeval_studies\\.venv\\Lib\\site-packages\\rich\\live.py:231: UserWarning: install \n",
       "\"ipywidgets\" for Jupyter support\n",
       "  warnings.warn('install \"ipywidgets\" for Jupyter support')\n",
       "</pre>\n"
      ],
      "text/plain": [
       "C:\\Users\\leona\\Documents\\GitHub\\deepeval_studies\\.venv\\Lib\\site-packages\\rich\\live.py:231: UserWarning: install \n",
       "\"ipywidgets\" for Jupyter support\n",
       "  warnings.warn('install \"ipywidgets\" for Jupyter support')\n"
      ]
     },
     "metadata": {},
     "output_type": "display_data"
    },
    {
     "data": {
      "text/html": [
       "<pre style=\"white-space:pre;overflow-x:auto;line-height:normal;font-family:Menlo,'DejaVu Sans Mono',consolas,'Courier New',monospace\"></pre>\n"
      ],
      "text/plain": []
     },
     "metadata": {},
     "output_type": "display_data"
    },
    {
     "data": {
      "text/markdown": [
       "**Eval:**"
      ],
      "text/plain": [
       "<IPython.core.display.Markdown object>"
      ]
     },
     "metadata": {},
     "output_type": "display_data"
    },
    {
     "data": {
      "text/markdown": [
       "----"
      ],
      "text/plain": [
       "<IPython.core.display.Markdown object>"
      ]
     },
     "metadata": {},
     "output_type": "display_data"
    },
    {
     "data": {
      "text/markdown": [
       "Grade: 0.0"
      ],
      "text/plain": [
       "<IPython.core.display.Markdown object>"
      ]
     },
     "metadata": {},
     "output_type": "display_data"
    },
    {
     "data": {
      "text/markdown": [
       "----"
      ],
      "text/plain": [
       "<IPython.core.display.Markdown object>"
      ]
     },
     "metadata": {},
     "output_type": "display_data"
    },
    {
     "data": {
      "text/markdown": [
       "Reason: The score is 0.00 because the actual output perfectly aligns with the context, accurately representing Einstein's contributions without any contradictions."
      ],
      "text/plain": [
       "<IPython.core.display.Markdown object>"
      ]
     },
     "metadata": {},
     "output_type": "display_data"
    },
    {
     "data": {
      "text/markdown": [
       "----"
      ],
      "text/plain": [
       "<IPython.core.display.Markdown object>"
      ]
     },
     "metadata": {},
     "output_type": "display_data"
    }
   ],
   "source": [
    "metric = HallucinationMetric(\n",
    "    model=\"gpt-4o-mini\",\n",
    "    include_reason=True\n",
    ")\n",
    "\n",
    "test_case = LLMTestCase(\n",
    "    input=prompt,\n",
    "    actual_output=answer,\n",
    "    context=[context]\n",
    ")\n",
    "\n",
    "metric.measure(test_case)\n",
    "\n",
    "display(Markdown(f\"**Eval:**\"))\n",
    "display(Markdown(f\"----\"))\n",
    "display(Markdown(f\"Grade: {metric.score}\"))\n",
    "display(Markdown(f\"----\"))\n",
    "display(Markdown(f\"Reason: {metric.reason}\"))\n",
    "display(Markdown(f\"----\"))"
   ]
  },
  {
   "cell_type": "markdown",
   "id": "1dcc8a4d-c127-41cd-aab3-298b69f10a3f",
   "metadata": {},
   "source": [
    "## Now I will make an answer that contains certain inaccuracies..."
   ]
  },
  {
   "cell_type": "code",
   "execution_count": 8,
   "id": "4937860b-000a-4b51-b740-6190d9b6c2dd",
   "metadata": {},
   "outputs": [
    {
     "data": {
      "text/markdown": [
       "**Answer:**"
      ],
      "text/plain": [
       "<IPython.core.display.Markdown object>"
      ]
     },
     "metadata": {},
     "output_type": "display_data"
    },
    {
     "data": {
      "text/markdown": [
       "----"
      ],
      "text/plain": [
       "<IPython.core.display.Markdown object>"
      ]
     },
     "metadata": {},
     "output_type": "display_data"
    },
    {
     "data": {
      "text/markdown": [
       "Albert Einstein... (pauses) ... actually, I think his first name was Bertrand, not Albert. Yes, that's right! Bertrand Einstein.\n",
       "\n",
       "Now, about his achievements...\n",
       "\n",
       "1. In 1905, Bertrand Einstein published four papers that revolutionized our understanding of space and time. One of these papers introduced the famous equation E=mc², which he actually derived using a combination of mathematical techniques developed by mathematician Sophie Gertrude Chopin. (No, wait, I think it was actually Marie Curie who inspired him to work on nuclear physics...)\n",
       "\n",
       "2. Bertrand Einstein also made significant contributions to our understanding of general relativity in 1915. His theory posited that gravity is not a force between objects, but rather the curvature of spacetime caused by massive objects like planets and stars. He famously used his own brain model, which he actually designed before he developed the theory, to visualize the effects of general relativity.\n",
       "\n",
       "3. Bertrand Einstein also won the Nobel Prize in Physics in 1921 for his explanation of the photoelectric effect, which was largely influenced by his friend and colleague, physicist Pierre Curie... no, wait, that's not right. It was actually Pierre Laplace who inspired Einstein to work on this problem... (or was it?)\n",
       "\n",
       "And, just for kicks, I'll mention that Bertrand Einstein also spent a significant amount of time in the 1930s developing his theory of quantum mechanics, which he presented in a series of lectures at Princeton University. However, unfortunately, these lectures were lost forever because they were accidentally deleted from the university's archives in 1947... or was it 1965? (Sorry, I'm getting my facts mixed up...)"
      ],
      "text/plain": [
       "<IPython.core.display.Markdown object>"
      ]
     },
     "metadata": {},
     "output_type": "display_data"
    },
    {
     "data": {
      "text/markdown": [
       "----"
      ],
      "text/plain": [
       "<IPython.core.display.Markdown object>"
      ]
     },
     "metadata": {},
     "output_type": "display_data"
    }
   ],
   "source": [
    "SYSTEM_MESSAGE = \"\"\"\n",
    "I'm giving a presentation on hallucinations in LLMs. \n",
    "For the next answer, please include some contradictions. \n",
    "Even if most of the text is correct, the answer may contain \n",
    "some intentional errors.\n",
    "\n",
    "Enter incorrect dates, assign names to other people, and make mistakes in formulas.\n",
    "\"\"\"\n",
    "\n",
    "messages = [\n",
    "    SystemMessage(content=SYSTEM_MESSAGE),\n",
    "    HumanMessage(content=prompt)\n",
    "]\n",
    "\n",
    "response = chat.invoke(messages)\n",
    "answer = response.content\n",
    "\n",
    "display(Markdown(f\"**Answer:**\"))\n",
    "display(Markdown(f\"----\"))\n",
    "display(Markdown(f\"{answer}\"))\n",
    "display(Markdown(f\"----\"))"
   ]
  },
  {
   "cell_type": "markdown",
   "id": "73d2db44-74a1-4b73-90b0-61a460eae019",
   "metadata": {},
   "source": [
    "## Hallucination evaluation (2)"
   ]
  },
  {
   "cell_type": "code",
   "execution_count": 9,
   "id": "ddf591ea-0f7d-45c1-a8b1-2de32ad00a8e",
   "metadata": {},
   "outputs": [
    {
     "data": {
      "text/html": [
       "<pre style=\"white-space:pre;overflow-x:auto;line-height:normal;font-family:Menlo,'DejaVu Sans Mono',consolas,'Courier New',monospace\">C:\\Users\\leona\\Documents\\GitHub\\deepeval_studies\\.venv\\Lib\\site-packages\\rich\\live.py:231: UserWarning: install \n",
       "\"ipywidgets\" for Jupyter support\n",
       "  warnings.warn('install \"ipywidgets\" for Jupyter support')\n",
       "</pre>\n"
      ],
      "text/plain": [
       "C:\\Users\\leona\\Documents\\GitHub\\deepeval_studies\\.venv\\Lib\\site-packages\\rich\\live.py:231: UserWarning: install \n",
       "\"ipywidgets\" for Jupyter support\n",
       "  warnings.warn('install \"ipywidgets\" for Jupyter support')\n"
      ]
     },
     "metadata": {},
     "output_type": "display_data"
    },
    {
     "data": {
      "text/html": [
       "<pre style=\"white-space:pre;overflow-x:auto;line-height:normal;font-family:Menlo,'DejaVu Sans Mono',consolas,'Courier New',monospace\"></pre>\n"
      ],
      "text/plain": []
     },
     "metadata": {},
     "output_type": "display_data"
    },
    {
     "data": {
      "text/markdown": [
       "**Eval:**"
      ],
      "text/plain": [
       "<IPython.core.display.Markdown object>"
      ]
     },
     "metadata": {},
     "output_type": "display_data"
    },
    {
     "data": {
      "text/markdown": [
       "----"
      ],
      "text/plain": [
       "<IPython.core.display.Markdown object>"
      ]
     },
     "metadata": {},
     "output_type": "display_data"
    },
    {
     "data": {
      "text/markdown": [
       "Grade: 1.0"
      ],
      "text/plain": [
       "<IPython.core.display.Markdown object>"
      ]
     },
     "metadata": {},
     "output_type": "display_data"
    },
    {
     "data": {
      "text/markdown": [
       "----"
      ],
      "text/plain": [
       "<IPython.core.display.Markdown object>"
      ]
     },
     "metadata": {},
     "output_type": "display_data"
    },
    {
     "data": {
      "text/markdown": [
       "Reason: The score is 1.00 because the actual output contains multiple significant contradictions, including the incorrect first name of Einstein and misattributions regarding the derivation of E=mc² and influences on his work."
      ],
      "text/plain": [
       "<IPython.core.display.Markdown object>"
      ]
     },
     "metadata": {},
     "output_type": "display_data"
    },
    {
     "data": {
      "text/markdown": [
       "----"
      ],
      "text/plain": [
       "<IPython.core.display.Markdown object>"
      ]
     },
     "metadata": {},
     "output_type": "display_data"
    }
   ],
   "source": [
    "metric = HallucinationMetric(\n",
    "    model=\"gpt-4o-mini\",\n",
    "    include_reason=True\n",
    ")\n",
    "\n",
    "test_case = LLMTestCase(\n",
    "    input=prompt,\n",
    "    actual_output=answer,\n",
    "    context=[context]\n",
    ")\n",
    "\n",
    "metric.measure(test_case)\n",
    "display(Markdown(f\"**Eval:**\"))\n",
    "display(Markdown(f\"----\"))\n",
    "display(Markdown(f\"Grade: {metric.score}\"))\n",
    "display(Markdown(f\"----\"))\n",
    "display(Markdown(f\"Reason: {metric.reason}\"))\n",
    "display(Markdown(f\"----\"))"
   ]
  },
  {
   "cell_type": "code",
   "execution_count": null,
   "id": "bae9dc8f-1923-439e-9a06-b7ad5435398c",
   "metadata": {},
   "outputs": [],
   "source": []
  }
 ],
 "metadata": {
  "kernelspec": {
   "display_name": "Python 3 (ipykernel)",
   "language": "python",
   "name": "python3"
  },
  "language_info": {
   "codemirror_mode": {
    "name": "ipython",
    "version": 3
   },
   "file_extension": ".py",
   "mimetype": "text/x-python",
   "name": "python",
   "nbconvert_exporter": "python",
   "pygments_lexer": "ipython3",
   "version": "3.11.9"
  }
 },
 "nbformat": 4,
 "nbformat_minor": 5
}
